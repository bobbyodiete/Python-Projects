{
 "cells": [
  {
   "cell_type": "markdown",
   "id": "36235596-f034-4d6d-b74b-25d648fb2537",
   "metadata": {},
   "source": [
    "# Student Performance Review\n",
    "***"
   ]
  },
  {
   "cell_type": "markdown",
   "id": "d70c54c4-35d8-4df4-9790-245a55cf9474",
   "metadata": {},
   "source": [
    "## Content\n",
    "- **Retrieving Dataset**\n",
    "    * Importing the needed libraries\n",
    "    * Reading the Dataset\n",
    "- **Exploratory Data Analysis**\n",
    "    * Checking for Null Values\n",
    "    * Univariate, Bivariate and Multivariate Analysis\n",
    "- **Statistical Analysis**\n",
    "    * Correlation with target variable(G3)\n",
    "    * Descriptive Statistics\n",
    "- **Data Preprocessing**\n",
    "    * Encoding the categorical variables\n",
    "    * Further Exploration of the encoded categorical variables\n",
    "- **Model Evaluation**\n",
    "    * **Regression**\n",
    "        * Estimating the mean square error(MSE), root mean square error(RMSE), Accuracy and R-square\n",
    "        * Future Importance\n",
    "    * **Classification**\n",
    "        * Data Pre-processing\n",
    "        * Handling Class Imbalance\n",
    "        * Estimating the best parameter"
   ]
  },
  {
   "cell_type": "markdown",
   "id": "94165e14-84b1-4c6d-a7ac-c560df25bbf6",
   "metadata": {},
   "source": [
    "***\n",
    "## Retrieving Dataset\n",
    "***"
   ]
  },
  {
   "cell_type": "markdown",
   "id": "c14a86e7-7ca5-423c-9513-c1acd2f4c0b7",
   "metadata": {},
   "source": [
    "### Importing the needed libraries"
   ]
  },
  {
   "cell_type": "code",
   "execution_count": 1,
   "id": "05d465d2-f6f3-4a3f-ac58-74817730be15",
   "metadata": {},
   "outputs": [],
   "source": [
    "import pandas as pd\n",
    "import numpy as np\n",
    "import matplotlib.pyplot as plt\n",
    "import seaborn as sns\n",
    "\n",
    "%matplotlib inline"
   ]
  },
  {
   "cell_type": "markdown",
   "id": "2bf76cf8-0856-434d-9738-25ee16d24fdb",
   "metadata": {},
   "source": [
    "### Reading the Dataset"
   ]
  },
  {
   "cell_type": "code",
   "execution_count": 2,
   "id": "75fba7f0-6a88-45b7-8330-2b48059c767d",
   "metadata": {},
   "outputs": [],
   "source": [
    "#Reading the mathematics dataset \n",
    "math = pd.read_csv('student-mat.csv', sep = ';')"
   ]
  },
  {
   "cell_type": "code",
   "execution_count": 3,
   "id": "5ceb8465-f97c-47c4-a27c-ceb5b25702aa",
   "metadata": {},
   "outputs": [
    {
     "data": {
      "text/plain": [
       "(395, 33)"
      ]
     },
     "execution_count": 3,
     "metadata": {},
     "output_type": "execute_result"
    }
   ],
   "source": [
    "#The shape of the mathematics dataset\n",
    "math.shape"
   ]
  },
  {
   "cell_type": "code",
   "execution_count": 4,
   "id": "80791f4f-3ce0-4fbb-9de7-bdd0c6791eb9",
   "metadata": {},
   "outputs": [
    {
     "data": {
      "text/html": [
       "<div>\n",
       "<style scoped>\n",
       "    .dataframe tbody tr th:only-of-type {\n",
       "        vertical-align: middle;\n",
       "    }\n",
       "\n",
       "    .dataframe tbody tr th {\n",
       "        vertical-align: top;\n",
       "    }\n",
       "\n",
       "    .dataframe thead th {\n",
       "        text-align: right;\n",
       "    }\n",
       "</style>\n",
       "<table border=\"1\" class=\"dataframe\">\n",
       "  <thead>\n",
       "    <tr style=\"text-align: right;\">\n",
       "      <th></th>\n",
       "      <th>school</th>\n",
       "      <th>sex</th>\n",
       "      <th>age</th>\n",
       "      <th>address</th>\n",
       "      <th>famsize</th>\n",
       "      <th>Pstatus</th>\n",
       "      <th>Medu</th>\n",
       "      <th>Fedu</th>\n",
       "      <th>Mjob</th>\n",
       "      <th>Fjob</th>\n",
       "      <th>...</th>\n",
       "      <th>famrel</th>\n",
       "      <th>freetime</th>\n",
       "      <th>goout</th>\n",
       "      <th>Dalc</th>\n",
       "      <th>Walc</th>\n",
       "      <th>health</th>\n",
       "      <th>absences</th>\n",
       "      <th>G1</th>\n",
       "      <th>G2</th>\n",
       "      <th>G3</th>\n",
       "    </tr>\n",
       "  </thead>\n",
       "  <tbody>\n",
       "    <tr>\n",
       "      <th>0</th>\n",
       "      <td>GP</td>\n",
       "      <td>F</td>\n",
       "      <td>18</td>\n",
       "      <td>U</td>\n",
       "      <td>GT3</td>\n",
       "      <td>A</td>\n",
       "      <td>4</td>\n",
       "      <td>4</td>\n",
       "      <td>at_home</td>\n",
       "      <td>teacher</td>\n",
       "      <td>...</td>\n",
       "      <td>4</td>\n",
       "      <td>3</td>\n",
       "      <td>4</td>\n",
       "      <td>1</td>\n",
       "      <td>1</td>\n",
       "      <td>3</td>\n",
       "      <td>6</td>\n",
       "      <td>5</td>\n",
       "      <td>6</td>\n",
       "      <td>6</td>\n",
       "    </tr>\n",
       "    <tr>\n",
       "      <th>1</th>\n",
       "      <td>GP</td>\n",
       "      <td>F</td>\n",
       "      <td>17</td>\n",
       "      <td>U</td>\n",
       "      <td>GT3</td>\n",
       "      <td>T</td>\n",
       "      <td>1</td>\n",
       "      <td>1</td>\n",
       "      <td>at_home</td>\n",
       "      <td>other</td>\n",
       "      <td>...</td>\n",
       "      <td>5</td>\n",
       "      <td>3</td>\n",
       "      <td>3</td>\n",
       "      <td>1</td>\n",
       "      <td>1</td>\n",
       "      <td>3</td>\n",
       "      <td>4</td>\n",
       "      <td>5</td>\n",
       "      <td>5</td>\n",
       "      <td>6</td>\n",
       "    </tr>\n",
       "    <tr>\n",
       "      <th>2</th>\n",
       "      <td>GP</td>\n",
       "      <td>F</td>\n",
       "      <td>15</td>\n",
       "      <td>U</td>\n",
       "      <td>LE3</td>\n",
       "      <td>T</td>\n",
       "      <td>1</td>\n",
       "      <td>1</td>\n",
       "      <td>at_home</td>\n",
       "      <td>other</td>\n",
       "      <td>...</td>\n",
       "      <td>4</td>\n",
       "      <td>3</td>\n",
       "      <td>2</td>\n",
       "      <td>2</td>\n",
       "      <td>3</td>\n",
       "      <td>3</td>\n",
       "      <td>10</td>\n",
       "      <td>7</td>\n",
       "      <td>8</td>\n",
       "      <td>10</td>\n",
       "    </tr>\n",
       "    <tr>\n",
       "      <th>3</th>\n",
       "      <td>GP</td>\n",
       "      <td>F</td>\n",
       "      <td>15</td>\n",
       "      <td>U</td>\n",
       "      <td>GT3</td>\n",
       "      <td>T</td>\n",
       "      <td>4</td>\n",
       "      <td>2</td>\n",
       "      <td>health</td>\n",
       "      <td>services</td>\n",
       "      <td>...</td>\n",
       "      <td>3</td>\n",
       "      <td>2</td>\n",
       "      <td>2</td>\n",
       "      <td>1</td>\n",
       "      <td>1</td>\n",
       "      <td>5</td>\n",
       "      <td>2</td>\n",
       "      <td>15</td>\n",
       "      <td>14</td>\n",
       "      <td>15</td>\n",
       "    </tr>\n",
       "    <tr>\n",
       "      <th>4</th>\n",
       "      <td>GP</td>\n",
       "      <td>F</td>\n",
       "      <td>16</td>\n",
       "      <td>U</td>\n",
       "      <td>GT3</td>\n",
       "      <td>T</td>\n",
       "      <td>3</td>\n",
       "      <td>3</td>\n",
       "      <td>other</td>\n",
       "      <td>other</td>\n",
       "      <td>...</td>\n",
       "      <td>4</td>\n",
       "      <td>3</td>\n",
       "      <td>2</td>\n",
       "      <td>1</td>\n",
       "      <td>2</td>\n",
       "      <td>5</td>\n",
       "      <td>4</td>\n",
       "      <td>6</td>\n",
       "      <td>10</td>\n",
       "      <td>10</td>\n",
       "    </tr>\n",
       "  </tbody>\n",
       "</table>\n",
       "<p>5 rows × 33 columns</p>\n",
       "</div>"
      ],
      "text/plain": [
       "  school sex  age address famsize Pstatus  Medu  Fedu     Mjob      Fjob  ...  \\\n",
       "0     GP   F   18       U     GT3       A     4     4  at_home   teacher  ...   \n",
       "1     GP   F   17       U     GT3       T     1     1  at_home     other  ...   \n",
       "2     GP   F   15       U     LE3       T     1     1  at_home     other  ...   \n",
       "3     GP   F   15       U     GT3       T     4     2   health  services  ...   \n",
       "4     GP   F   16       U     GT3       T     3     3    other     other  ...   \n",
       "\n",
       "  famrel freetime  goout  Dalc  Walc health absences  G1  G2  G3  \n",
       "0      4        3      4     1     1      3        6   5   6   6  \n",
       "1      5        3      3     1     1      3        4   5   5   6  \n",
       "2      4        3      2     2     3      3       10   7   8  10  \n",
       "3      3        2      2     1     1      5        2  15  14  15  \n",
       "4      4        3      2     1     2      5        4   6  10  10  \n",
       "\n",
       "[5 rows x 33 columns]"
      ]
     },
     "execution_count": 4,
     "metadata": {},
     "output_type": "execute_result"
    }
   ],
   "source": [
    "#First 5 records of the mathematics dataset\n",
    "math.head()"
   ]
  },
  {
   "cell_type": "code",
   "execution_count": 5,
   "id": "2db29e05-209f-43f3-8e52-2f40ac0bbf12",
   "metadata": {},
   "outputs": [],
   "source": [
    "#Reading the portuguese dataset\n",
    "port = pd.read_csv('student-por.csv', sep = ';')"
   ]
  },
  {
   "cell_type": "code",
   "execution_count": 6,
   "id": "03bbef64-ec3c-4ffa-a53e-4e8d8d040c5b",
   "metadata": {},
   "outputs": [
    {
     "data": {
      "text/plain": [
       "(649, 33)"
      ]
     },
     "execution_count": 6,
     "metadata": {},
     "output_type": "execute_result"
    }
   ],
   "source": [
    "#The shape of the portuguese dataset\n",
    "port.shape"
   ]
  },
  {
   "cell_type": "code",
   "execution_count": 7,
   "id": "4fced1b1-b5c1-4d7d-bf0d-0229d62cd601",
   "metadata": {},
   "outputs": [
    {
     "data": {
      "text/html": [
       "<div>\n",
       "<style scoped>\n",
       "    .dataframe tbody tr th:only-of-type {\n",
       "        vertical-align: middle;\n",
       "    }\n",
       "\n",
       "    .dataframe tbody tr th {\n",
       "        vertical-align: top;\n",
       "    }\n",
       "\n",
       "    .dataframe thead th {\n",
       "        text-align: right;\n",
       "    }\n",
       "</style>\n",
       "<table border=\"1\" class=\"dataframe\">\n",
       "  <thead>\n",
       "    <tr style=\"text-align: right;\">\n",
       "      <th></th>\n",
       "      <th>school</th>\n",
       "      <th>sex</th>\n",
       "      <th>age</th>\n",
       "      <th>address</th>\n",
       "      <th>famsize</th>\n",
       "      <th>Pstatus</th>\n",
       "      <th>Medu</th>\n",
       "      <th>Fedu</th>\n",
       "      <th>Mjob</th>\n",
       "      <th>Fjob</th>\n",
       "      <th>...</th>\n",
       "      <th>famrel</th>\n",
       "      <th>freetime</th>\n",
       "      <th>goout</th>\n",
       "      <th>Dalc</th>\n",
       "      <th>Walc</th>\n",
       "      <th>health</th>\n",
       "      <th>absences</th>\n",
       "      <th>G1</th>\n",
       "      <th>G2</th>\n",
       "      <th>G3</th>\n",
       "    </tr>\n",
       "  </thead>\n",
       "  <tbody>\n",
       "    <tr>\n",
       "      <th>0</th>\n",
       "      <td>GP</td>\n",
       "      <td>F</td>\n",
       "      <td>18</td>\n",
       "      <td>U</td>\n",
       "      <td>GT3</td>\n",
       "      <td>A</td>\n",
       "      <td>4</td>\n",
       "      <td>4</td>\n",
       "      <td>at_home</td>\n",
       "      <td>teacher</td>\n",
       "      <td>...</td>\n",
       "      <td>4</td>\n",
       "      <td>3</td>\n",
       "      <td>4</td>\n",
       "      <td>1</td>\n",
       "      <td>1</td>\n",
       "      <td>3</td>\n",
       "      <td>4</td>\n",
       "      <td>0</td>\n",
       "      <td>11</td>\n",
       "      <td>11</td>\n",
       "    </tr>\n",
       "    <tr>\n",
       "      <th>1</th>\n",
       "      <td>GP</td>\n",
       "      <td>F</td>\n",
       "      <td>17</td>\n",
       "      <td>U</td>\n",
       "      <td>GT3</td>\n",
       "      <td>T</td>\n",
       "      <td>1</td>\n",
       "      <td>1</td>\n",
       "      <td>at_home</td>\n",
       "      <td>other</td>\n",
       "      <td>...</td>\n",
       "      <td>5</td>\n",
       "      <td>3</td>\n",
       "      <td>3</td>\n",
       "      <td>1</td>\n",
       "      <td>1</td>\n",
       "      <td>3</td>\n",
       "      <td>2</td>\n",
       "      <td>9</td>\n",
       "      <td>11</td>\n",
       "      <td>11</td>\n",
       "    </tr>\n",
       "    <tr>\n",
       "      <th>2</th>\n",
       "      <td>GP</td>\n",
       "      <td>F</td>\n",
       "      <td>15</td>\n",
       "      <td>U</td>\n",
       "      <td>LE3</td>\n",
       "      <td>T</td>\n",
       "      <td>1</td>\n",
       "      <td>1</td>\n",
       "      <td>at_home</td>\n",
       "      <td>other</td>\n",
       "      <td>...</td>\n",
       "      <td>4</td>\n",
       "      <td>3</td>\n",
       "      <td>2</td>\n",
       "      <td>2</td>\n",
       "      <td>3</td>\n",
       "      <td>3</td>\n",
       "      <td>6</td>\n",
       "      <td>12</td>\n",
       "      <td>13</td>\n",
       "      <td>12</td>\n",
       "    </tr>\n",
       "    <tr>\n",
       "      <th>3</th>\n",
       "      <td>GP</td>\n",
       "      <td>F</td>\n",
       "      <td>15</td>\n",
       "      <td>U</td>\n",
       "      <td>GT3</td>\n",
       "      <td>T</td>\n",
       "      <td>4</td>\n",
       "      <td>2</td>\n",
       "      <td>health</td>\n",
       "      <td>services</td>\n",
       "      <td>...</td>\n",
       "      <td>3</td>\n",
       "      <td>2</td>\n",
       "      <td>2</td>\n",
       "      <td>1</td>\n",
       "      <td>1</td>\n",
       "      <td>5</td>\n",
       "      <td>0</td>\n",
       "      <td>14</td>\n",
       "      <td>14</td>\n",
       "      <td>14</td>\n",
       "    </tr>\n",
       "    <tr>\n",
       "      <th>4</th>\n",
       "      <td>GP</td>\n",
       "      <td>F</td>\n",
       "      <td>16</td>\n",
       "      <td>U</td>\n",
       "      <td>GT3</td>\n",
       "      <td>T</td>\n",
       "      <td>3</td>\n",
       "      <td>3</td>\n",
       "      <td>other</td>\n",
       "      <td>other</td>\n",
       "      <td>...</td>\n",
       "      <td>4</td>\n",
       "      <td>3</td>\n",
       "      <td>2</td>\n",
       "      <td>1</td>\n",
       "      <td>2</td>\n",
       "      <td>5</td>\n",
       "      <td>0</td>\n",
       "      <td>11</td>\n",
       "      <td>13</td>\n",
       "      <td>13</td>\n",
       "    </tr>\n",
       "  </tbody>\n",
       "</table>\n",
       "<p>5 rows × 33 columns</p>\n",
       "</div>"
      ],
      "text/plain": [
       "  school sex  age address famsize Pstatus  Medu  Fedu     Mjob      Fjob  ...  \\\n",
       "0     GP   F   18       U     GT3       A     4     4  at_home   teacher  ...   \n",
       "1     GP   F   17       U     GT3       T     1     1  at_home     other  ...   \n",
       "2     GP   F   15       U     LE3       T     1     1  at_home     other  ...   \n",
       "3     GP   F   15       U     GT3       T     4     2   health  services  ...   \n",
       "4     GP   F   16       U     GT3       T     3     3    other     other  ...   \n",
       "\n",
       "  famrel freetime  goout  Dalc  Walc health absences  G1  G2  G3  \n",
       "0      4        3      4     1     1      3        4   0  11  11  \n",
       "1      5        3      3     1     1      3        2   9  11  11  \n",
       "2      4        3      2     2     3      3        6  12  13  12  \n",
       "3      3        2      2     1     1      5        0  14  14  14  \n",
       "4      4        3      2     1     2      5        0  11  13  13  \n",
       "\n",
       "[5 rows x 33 columns]"
      ]
     },
     "execution_count": 7,
     "metadata": {},
     "output_type": "execute_result"
    }
   ],
   "source": [
    "#First 5 records of the portuguese dataset\n",
    "port.head()"
   ]
  },
  {
   "cell_type": "markdown",
   "id": "6d520099-22a0-4d32-b9fe-985b020922d4",
   "metadata": {},
   "source": [
    "### Merging the dataset"
   ]
  },
  {
   "cell_type": "code",
   "execution_count": 8,
   "id": "e53ba597-fa9f-491a-b651-94b558365aa9",
   "metadata": {},
   "outputs": [],
   "source": [
    "#Introducing a new column subject\n",
    "\n",
    "math['subject'] = 'mathematics'\n",
    "port['subject'] = 'portuguese'"
   ]
  },
  {
   "cell_type": "markdown",
   "id": "5451f905-09f3-44af-894e-f7d3e687f19b",
   "metadata": {},
   "source": [
    "A new column '**subject**' has been introduced to the dataset to be able to distinguish between the two subjects."
   ]
  },
  {
   "cell_type": "code",
   "execution_count": 9,
   "id": "7dc28337-b5ae-4241-8019-d17f5f0a9f80",
   "metadata": {},
   "outputs": [],
   "source": [
    "#Merging the dataset\n",
    "data = pd.concat([math, port], ignore_index= True)"
   ]
  },
  {
   "cell_type": "raw",
   "id": "a464d404-4d4d-4007-898a-9467319d965e",
   "metadata": {},
   "source": []
  },
  {
   "cell_type": "markdown",
   "id": "808a165a-acbc-489e-a84c-506dd29f3dd0",
   "metadata": {},
   "source": [
    "***\n",
    "# Exploratory Data Analysis\n",
    "***"
   ]
  },
  {
   "cell_type": "code",
   "execution_count": 10,
   "id": "31c12c4e-6f38-457b-a76c-5f851fae77e5",
   "metadata": {},
   "outputs": [
    {
     "data": {
      "text/plain": [
       "(1044, 34)"
      ]
     },
     "execution_count": 10,
     "metadata": {},
     "output_type": "execute_result"
    }
   ],
   "source": [
    "#Reviewing the shape of the merged dataset\n",
    "data.shape"
   ]
  },
  {
   "cell_type": "markdown",
   "id": "7a2e9c2a-ab6e-4920-886d-5fe28e191856",
   "metadata": {},
   "source": [
    "The merged dataset has **1044** observations and **34** variables whose features would be explored below"
   ]
  },
  {
   "cell_type": "code",
   "execution_count": 11,
   "id": "af325fd8-9a66-4d70-b0a4-f5f3c3cacb9d",
   "metadata": {},
   "outputs": [
    {
     "data": {
      "text/html": [
       "<div>\n",
       "<style scoped>\n",
       "    .dataframe tbody tr th:only-of-type {\n",
       "        vertical-align: middle;\n",
       "    }\n",
       "\n",
       "    .dataframe tbody tr th {\n",
       "        vertical-align: top;\n",
       "    }\n",
       "\n",
       "    .dataframe thead th {\n",
       "        text-align: right;\n",
       "    }\n",
       "</style>\n",
       "<table border=\"1\" class=\"dataframe\">\n",
       "  <thead>\n",
       "    <tr style=\"text-align: right;\">\n",
       "      <th></th>\n",
       "      <th>school</th>\n",
       "      <th>sex</th>\n",
       "      <th>age</th>\n",
       "      <th>address</th>\n",
       "      <th>famsize</th>\n",
       "      <th>Pstatus</th>\n",
       "      <th>Medu</th>\n",
       "      <th>Fedu</th>\n",
       "      <th>Mjob</th>\n",
       "      <th>Fjob</th>\n",
       "      <th>...</th>\n",
       "      <th>freetime</th>\n",
       "      <th>goout</th>\n",
       "      <th>Dalc</th>\n",
       "      <th>Walc</th>\n",
       "      <th>health</th>\n",
       "      <th>absences</th>\n",
       "      <th>G1</th>\n",
       "      <th>G2</th>\n",
       "      <th>G3</th>\n",
       "      <th>subject</th>\n",
       "    </tr>\n",
       "  </thead>\n",
       "  <tbody>\n",
       "    <tr>\n",
       "      <th>0</th>\n",
       "      <td>GP</td>\n",
       "      <td>F</td>\n",
       "      <td>18</td>\n",
       "      <td>U</td>\n",
       "      <td>GT3</td>\n",
       "      <td>A</td>\n",
       "      <td>4</td>\n",
       "      <td>4</td>\n",
       "      <td>at_home</td>\n",
       "      <td>teacher</td>\n",
       "      <td>...</td>\n",
       "      <td>3</td>\n",
       "      <td>4</td>\n",
       "      <td>1</td>\n",
       "      <td>1</td>\n",
       "      <td>3</td>\n",
       "      <td>6</td>\n",
       "      <td>5</td>\n",
       "      <td>6</td>\n",
       "      <td>6</td>\n",
       "      <td>mathematics</td>\n",
       "    </tr>\n",
       "    <tr>\n",
       "      <th>1</th>\n",
       "      <td>GP</td>\n",
       "      <td>F</td>\n",
       "      <td>17</td>\n",
       "      <td>U</td>\n",
       "      <td>GT3</td>\n",
       "      <td>T</td>\n",
       "      <td>1</td>\n",
       "      <td>1</td>\n",
       "      <td>at_home</td>\n",
       "      <td>other</td>\n",
       "      <td>...</td>\n",
       "      <td>3</td>\n",
       "      <td>3</td>\n",
       "      <td>1</td>\n",
       "      <td>1</td>\n",
       "      <td>3</td>\n",
       "      <td>4</td>\n",
       "      <td>5</td>\n",
       "      <td>5</td>\n",
       "      <td>6</td>\n",
       "      <td>mathematics</td>\n",
       "    </tr>\n",
       "    <tr>\n",
       "      <th>2</th>\n",
       "      <td>GP</td>\n",
       "      <td>F</td>\n",
       "      <td>15</td>\n",
       "      <td>U</td>\n",
       "      <td>LE3</td>\n",
       "      <td>T</td>\n",
       "      <td>1</td>\n",
       "      <td>1</td>\n",
       "      <td>at_home</td>\n",
       "      <td>other</td>\n",
       "      <td>...</td>\n",
       "      <td>3</td>\n",
       "      <td>2</td>\n",
       "      <td>2</td>\n",
       "      <td>3</td>\n",
       "      <td>3</td>\n",
       "      <td>10</td>\n",
       "      <td>7</td>\n",
       "      <td>8</td>\n",
       "      <td>10</td>\n",
       "      <td>mathematics</td>\n",
       "    </tr>\n",
       "    <tr>\n",
       "      <th>3</th>\n",
       "      <td>GP</td>\n",
       "      <td>F</td>\n",
       "      <td>15</td>\n",
       "      <td>U</td>\n",
       "      <td>GT3</td>\n",
       "      <td>T</td>\n",
       "      <td>4</td>\n",
       "      <td>2</td>\n",
       "      <td>health</td>\n",
       "      <td>services</td>\n",
       "      <td>...</td>\n",
       "      <td>2</td>\n",
       "      <td>2</td>\n",
       "      <td>1</td>\n",
       "      <td>1</td>\n",
       "      <td>5</td>\n",
       "      <td>2</td>\n",
       "      <td>15</td>\n",
       "      <td>14</td>\n",
       "      <td>15</td>\n",
       "      <td>mathematics</td>\n",
       "    </tr>\n",
       "    <tr>\n",
       "      <th>4</th>\n",
       "      <td>GP</td>\n",
       "      <td>F</td>\n",
       "      <td>16</td>\n",
       "      <td>U</td>\n",
       "      <td>GT3</td>\n",
       "      <td>T</td>\n",
       "      <td>3</td>\n",
       "      <td>3</td>\n",
       "      <td>other</td>\n",
       "      <td>other</td>\n",
       "      <td>...</td>\n",
       "      <td>3</td>\n",
       "      <td>2</td>\n",
       "      <td>1</td>\n",
       "      <td>2</td>\n",
       "      <td>5</td>\n",
       "      <td>4</td>\n",
       "      <td>6</td>\n",
       "      <td>10</td>\n",
       "      <td>10</td>\n",
       "      <td>mathematics</td>\n",
       "    </tr>\n",
       "  </tbody>\n",
       "</table>\n",
       "<p>5 rows × 34 columns</p>\n",
       "</div>"
      ],
      "text/plain": [
       "  school sex  age address famsize Pstatus  Medu  Fedu     Mjob      Fjob  ...  \\\n",
       "0     GP   F   18       U     GT3       A     4     4  at_home   teacher  ...   \n",
       "1     GP   F   17       U     GT3       T     1     1  at_home     other  ...   \n",
       "2     GP   F   15       U     LE3       T     1     1  at_home     other  ...   \n",
       "3     GP   F   15       U     GT3       T     4     2   health  services  ...   \n",
       "4     GP   F   16       U     GT3       T     3     3    other     other  ...   \n",
       "\n",
       "  freetime goout  Dalc  Walc  health absences  G1  G2  G3      subject  \n",
       "0        3     4     1     1       3        6   5   6   6  mathematics  \n",
       "1        3     3     1     1       3        4   5   5   6  mathematics  \n",
       "2        3     2     2     3       3       10   7   8  10  mathematics  \n",
       "3        2     2     1     1       5        2  15  14  15  mathematics  \n",
       "4        3     2     1     2       5        4   6  10  10  mathematics  \n",
       "\n",
       "[5 rows x 34 columns]"
      ]
     },
     "execution_count": 11,
     "metadata": {},
     "output_type": "execute_result"
    }
   ],
   "source": [
    "#A review of the first 5 records of the merged dataset\n",
    "data.head()"
   ]
  },
  {
   "cell_type": "code",
   "execution_count": 12,
   "id": "de91afa1-b36c-4ea7-9d6d-34a649d42a6a",
   "metadata": {},
   "outputs": [
    {
     "data": {
      "text/html": [
       "<div>\n",
       "<style scoped>\n",
       "    .dataframe tbody tr th:only-of-type {\n",
       "        vertical-align: middle;\n",
       "    }\n",
       "\n",
       "    .dataframe tbody tr th {\n",
       "        vertical-align: top;\n",
       "    }\n",
       "\n",
       "    .dataframe thead th {\n",
       "        text-align: right;\n",
       "    }\n",
       "</style>\n",
       "<table border=\"1\" class=\"dataframe\">\n",
       "  <thead>\n",
       "    <tr style=\"text-align: right;\">\n",
       "      <th></th>\n",
       "      <th>school</th>\n",
       "      <th>sex</th>\n",
       "      <th>age</th>\n",
       "      <th>address</th>\n",
       "      <th>famsize</th>\n",
       "      <th>Pstatus</th>\n",
       "      <th>Medu</th>\n",
       "      <th>Fedu</th>\n",
       "      <th>Mjob</th>\n",
       "      <th>Fjob</th>\n",
       "      <th>...</th>\n",
       "      <th>freetime</th>\n",
       "      <th>goout</th>\n",
       "      <th>Dalc</th>\n",
       "      <th>Walc</th>\n",
       "      <th>health</th>\n",
       "      <th>absences</th>\n",
       "      <th>G1</th>\n",
       "      <th>G2</th>\n",
       "      <th>G3</th>\n",
       "      <th>subject</th>\n",
       "    </tr>\n",
       "  </thead>\n",
       "  <tbody>\n",
       "    <tr>\n",
       "      <th>1039</th>\n",
       "      <td>MS</td>\n",
       "      <td>F</td>\n",
       "      <td>19</td>\n",
       "      <td>R</td>\n",
       "      <td>GT3</td>\n",
       "      <td>T</td>\n",
       "      <td>2</td>\n",
       "      <td>3</td>\n",
       "      <td>services</td>\n",
       "      <td>other</td>\n",
       "      <td>...</td>\n",
       "      <td>4</td>\n",
       "      <td>2</td>\n",
       "      <td>1</td>\n",
       "      <td>2</td>\n",
       "      <td>5</td>\n",
       "      <td>4</td>\n",
       "      <td>10</td>\n",
       "      <td>11</td>\n",
       "      <td>10</td>\n",
       "      <td>portuguese</td>\n",
       "    </tr>\n",
       "    <tr>\n",
       "      <th>1040</th>\n",
       "      <td>MS</td>\n",
       "      <td>F</td>\n",
       "      <td>18</td>\n",
       "      <td>U</td>\n",
       "      <td>LE3</td>\n",
       "      <td>T</td>\n",
       "      <td>3</td>\n",
       "      <td>1</td>\n",
       "      <td>teacher</td>\n",
       "      <td>services</td>\n",
       "      <td>...</td>\n",
       "      <td>3</td>\n",
       "      <td>4</td>\n",
       "      <td>1</td>\n",
       "      <td>1</td>\n",
       "      <td>1</td>\n",
       "      <td>4</td>\n",
       "      <td>15</td>\n",
       "      <td>15</td>\n",
       "      <td>16</td>\n",
       "      <td>portuguese</td>\n",
       "    </tr>\n",
       "    <tr>\n",
       "      <th>1041</th>\n",
       "      <td>MS</td>\n",
       "      <td>F</td>\n",
       "      <td>18</td>\n",
       "      <td>U</td>\n",
       "      <td>GT3</td>\n",
       "      <td>T</td>\n",
       "      <td>1</td>\n",
       "      <td>1</td>\n",
       "      <td>other</td>\n",
       "      <td>other</td>\n",
       "      <td>...</td>\n",
       "      <td>1</td>\n",
       "      <td>1</td>\n",
       "      <td>1</td>\n",
       "      <td>1</td>\n",
       "      <td>5</td>\n",
       "      <td>6</td>\n",
       "      <td>11</td>\n",
       "      <td>12</td>\n",
       "      <td>9</td>\n",
       "      <td>portuguese</td>\n",
       "    </tr>\n",
       "    <tr>\n",
       "      <th>1042</th>\n",
       "      <td>MS</td>\n",
       "      <td>M</td>\n",
       "      <td>17</td>\n",
       "      <td>U</td>\n",
       "      <td>LE3</td>\n",
       "      <td>T</td>\n",
       "      <td>3</td>\n",
       "      <td>1</td>\n",
       "      <td>services</td>\n",
       "      <td>services</td>\n",
       "      <td>...</td>\n",
       "      <td>4</td>\n",
       "      <td>5</td>\n",
       "      <td>3</td>\n",
       "      <td>4</td>\n",
       "      <td>2</td>\n",
       "      <td>6</td>\n",
       "      <td>10</td>\n",
       "      <td>10</td>\n",
       "      <td>10</td>\n",
       "      <td>portuguese</td>\n",
       "    </tr>\n",
       "    <tr>\n",
       "      <th>1043</th>\n",
       "      <td>MS</td>\n",
       "      <td>M</td>\n",
       "      <td>18</td>\n",
       "      <td>R</td>\n",
       "      <td>LE3</td>\n",
       "      <td>T</td>\n",
       "      <td>3</td>\n",
       "      <td>2</td>\n",
       "      <td>services</td>\n",
       "      <td>other</td>\n",
       "      <td>...</td>\n",
       "      <td>4</td>\n",
       "      <td>1</td>\n",
       "      <td>3</td>\n",
       "      <td>4</td>\n",
       "      <td>5</td>\n",
       "      <td>4</td>\n",
       "      <td>10</td>\n",
       "      <td>11</td>\n",
       "      <td>11</td>\n",
       "      <td>portuguese</td>\n",
       "    </tr>\n",
       "  </tbody>\n",
       "</table>\n",
       "<p>5 rows × 34 columns</p>\n",
       "</div>"
      ],
      "text/plain": [
       "     school sex  age address famsize Pstatus  Medu  Fedu      Mjob      Fjob  \\\n",
       "1039     MS   F   19       R     GT3       T     2     3  services     other   \n",
       "1040     MS   F   18       U     LE3       T     3     1   teacher  services   \n",
       "1041     MS   F   18       U     GT3       T     1     1     other     other   \n",
       "1042     MS   M   17       U     LE3       T     3     1  services  services   \n",
       "1043     MS   M   18       R     LE3       T     3     2  services     other   \n",
       "\n",
       "      ... freetime goout  Dalc  Walc  health absences  G1  G2  G3     subject  \n",
       "1039  ...        4     2     1     2       5        4  10  11  10  portuguese  \n",
       "1040  ...        3     4     1     1       1        4  15  15  16  portuguese  \n",
       "1041  ...        1     1     1     1       5        6  11  12   9  portuguese  \n",
       "1042  ...        4     5     3     4       2        6  10  10  10  portuguese  \n",
       "1043  ...        4     1     3     4       5        4  10  11  11  portuguese  \n",
       "\n",
       "[5 rows x 34 columns]"
      ]
     },
     "execution_count": 12,
     "metadata": {},
     "output_type": "execute_result"
    }
   ],
   "source": [
    "#A review of the last 5 records of the merged dataset\n",
    "data.tail(5)"
   ]
  },
  {
   "cell_type": "code",
   "execution_count": 13,
   "id": "c10b361b-886c-4c52-8b94-008bc6d93bea",
   "metadata": {},
   "outputs": [
    {
     "name": "stdout",
     "output_type": "stream",
     "text": [
      "<class 'pandas.core.frame.DataFrame'>\n",
      "RangeIndex: 1044 entries, 0 to 1043\n",
      "Data columns (total 34 columns):\n",
      " #   Column      Non-Null Count  Dtype \n",
      "---  ------      --------------  ----- \n",
      " 0   school      1044 non-null   object\n",
      " 1   sex         1044 non-null   object\n",
      " 2   age         1044 non-null   int64 \n",
      " 3   address     1044 non-null   object\n",
      " 4   famsize     1044 non-null   object\n",
      " 5   Pstatus     1044 non-null   object\n",
      " 6   Medu        1044 non-null   int64 \n",
      " 7   Fedu        1044 non-null   int64 \n",
      " 8   Mjob        1044 non-null   object\n",
      " 9   Fjob        1044 non-null   object\n",
      " 10  reason      1044 non-null   object\n",
      " 11  guardian    1044 non-null   object\n",
      " 12  traveltime  1044 non-null   int64 \n",
      " 13  studytime   1044 non-null   int64 \n",
      " 14  failures    1044 non-null   int64 \n",
      " 15  schoolsup   1044 non-null   object\n",
      " 16  famsup      1044 non-null   object\n",
      " 17  paid        1044 non-null   object\n",
      " 18  activities  1044 non-null   object\n",
      " 19  nursery     1044 non-null   object\n",
      " 20  higher      1044 non-null   object\n",
      " 21  internet    1044 non-null   object\n",
      " 22  romantic    1044 non-null   object\n",
      " 23  famrel      1044 non-null   int64 \n",
      " 24  freetime    1044 non-null   int64 \n",
      " 25  goout       1044 non-null   int64 \n",
      " 26  Dalc        1044 non-null   int64 \n",
      " 27  Walc        1044 non-null   int64 \n",
      " 28  health      1044 non-null   int64 \n",
      " 29  absences    1044 non-null   int64 \n",
      " 30  G1          1044 non-null   int64 \n",
      " 31  G2          1044 non-null   int64 \n",
      " 32  G3          1044 non-null   int64 \n",
      " 33  subject     1044 non-null   object\n",
      "dtypes: int64(16), object(18)\n",
      "memory usage: 277.4+ KB\n"
     ]
    }
   ],
   "source": [
    "#Getting more information about the merged dataset\n",
    "data.info()"
   ]
  },
  {
   "cell_type": "code",
   "execution_count": 14,
   "id": "a0a9df4c-c13a-4bcf-914a-5867c0a2866d",
   "metadata": {},
   "outputs": [
    {
     "data": {
      "text/plain": [
       "object    18\n",
       "int64     16\n",
       "dtype: int64"
      ]
     },
     "execution_count": 14,
     "metadata": {},
     "output_type": "execute_result"
    }
   ],
   "source": [
    "#Review the datatypes within the dataset\n",
    "data.dtypes.value_counts()"
   ]
  },
  {
   "cell_type": "markdown",
   "id": "5ef67a92-b579-4b02-98ce-1b470d417843",
   "metadata": {},
   "source": [
    "The observed dataset is of two main data types (**object** and **int64**).\n",
    "   - Variables containing the **object** datatype accounts for **53%(18)** of the entire variables in the dataset with **int64** accounting for **47%(16)**."
   ]
  },
  {
   "cell_type": "markdown",
   "id": "17403464-8c11-485f-b251-179e021b68e8",
   "metadata": {},
   "source": [
    "### Checking for Null Values"
   ]
  },
  {
   "cell_type": "code",
   "execution_count": 15,
   "id": "7216c2a6-913e-46c3-ab15-c30666474a33",
   "metadata": {},
   "outputs": [
    {
     "data": {
      "text/plain": [
       "school        0\n",
       "sex           0\n",
       "age           0\n",
       "address       0\n",
       "famsize       0\n",
       "Pstatus       0\n",
       "Medu          0\n",
       "Fedu          0\n",
       "Mjob          0\n",
       "Fjob          0\n",
       "reason        0\n",
       "guardian      0\n",
       "traveltime    0\n",
       "studytime     0\n",
       "failures      0\n",
       "schoolsup     0\n",
       "famsup        0\n",
       "paid          0\n",
       "activities    0\n",
       "nursery       0\n",
       "higher        0\n",
       "internet      0\n",
       "romantic      0\n",
       "famrel        0\n",
       "freetime      0\n",
       "goout         0\n",
       "Dalc          0\n",
       "Walc          0\n",
       "health        0\n",
       "absences      0\n",
       "G1            0\n",
       "G2            0\n",
       "G3            0\n",
       "subject       0\n",
       "dtype: int64"
      ]
     },
     "execution_count": 15,
     "metadata": {},
     "output_type": "execute_result"
    }
   ],
   "source": [
    "data.isnull().sum()"
   ]
  },
  {
   "cell_type": "markdown",
   "id": "7984cb8a-cd2e-492f-a75c-89623d4ef038",
   "metadata": {},
   "source": [
    "The merged dataset has no null values"
   ]
  },
  {
   "cell_type": "markdown",
   "id": "989501c2-064a-48f0-9192-8c2d8f3c9f2a",
   "metadata": {},
   "source": [
    "### Univariate, Bivariate and Multivariate Analysis"
   ]
  },
  {
   "cell_type": "code",
   "execution_count": 171,
   "id": "619ddcb1-a196-4abf-a75a-008e83b76b89",
   "metadata": {},
   "outputs": [
    {
     "data": {
      "image/png": "[encoded data removed]",
      "text/plain": [
       "<Figure size 576x360 with 1 Axes>"
      ]
     },
     "metadata": {
      "needs_background": "light"
     },
     "output_type": "display_data"
    }
   ],
   "source": [
    "#Total number of students in each school\n",
    "plt.figure(figsize= (8, 5))\n",
    "students = sns.countplot(x = data['school'], palette = 'Blues')\n",
    "students.set_xlabel('School', {'fontsize': 12})\n",
    "students.set_ylabel('No of Student\\'s', {'fontsize': 12})\n",
    "students.set_title('Total Student\\'s per School', fontdict= {'fontsize': 15, 'fontweight': 'bold'})\n",
    "students.bar_label(container= students.containers[0], labels= data['school'].value_counts(), label_type= 'edge')\n",
    "plt.tight_layout()\n",
    "plt.show()"
   ]
  },
  {
   "cell_type": "markdown",
   "id": "835d9689-a281-4b8b-bbd4-a041792b2ddc",
   "metadata": {},
   "source": [
    "About **73.9%** of the students performance records are from Gabriel Pereira(GP) school, while students from Mousinho da Silveira(MS) accounted for **26.1%** respectively.\n"
   ]
  },
  {
   "cell_type": "code",
   "execution_count": 17,
   "id": "948d252b-7878-4fb9-acd5-3ab591330745",
   "metadata": {},
   "outputs": [
    {
     "data": {
      "image/png": "[encoded data removed]",
      "text/plain": [
       "<Figure size 432x432 with 1 Axes>"
      ]
     },
     "metadata": {},
     "output_type": "display_data"
    },
    {
     "name": "stdout",
     "output_type": "stream",
     "text": [
      "\n"
     ]
    },
    {
     "data": {
      "text/html": [
       "<div>\n",
       "<style scoped>\n",
       "    .dataframe tbody tr th:only-of-type {\n",
       "        vertical-align: middle;\n",
       "    }\n",
       "\n",
       "    .dataframe tbody tr th {\n",
       "        vertical-align: top;\n",
       "    }\n",
       "\n",
       "    .dataframe thead th {\n",
       "        text-align: right;\n",
       "    }\n",
       "</style>\n",
       "<table border=\"1\" class=\"dataframe\">\n",
       "  <thead>\n",
       "    <tr style=\"text-align: right;\">\n",
       "      <th></th>\n",
       "      <th>F</th>\n",
       "      <th>M</th>\n",
       "    </tr>\n",
       "  </thead>\n",
       "  <tbody>\n",
       "    <tr>\n",
       "      <th>sex</th>\n",
       "      <td>591</td>\n",
       "      <td>453</td>\n",
       "    </tr>\n",
       "  </tbody>\n",
       "</table>\n",
       "</div>"
      ],
      "text/plain": [
       "       F    M\n",
       "sex  591  453"
      ]
     },
     "execution_count": 17,
     "metadata": {},
     "output_type": "execute_result"
    }
   ],
   "source": [
    "#Gender Compositon\n",
    "plt.figure(figsize= (6, 6))\n",
    "plt.title('%. Composition of Student\\'s Gender', fontdict= {'fontsize': 15, 'fontweight': 'bold'})\n",
    "color = sns.color_palette('Set2')\n",
    "plt.pie(data.sex.value_counts(), labels = data.sex.value_counts().index, autopct='%.0f%%', startangle= 80, colors= color,\n",
    "       textprops= {'fontsize': 12})\n",
    "plt.show()\n",
    "print()\n",
    "pd.DataFrame(data.sex.value_counts()).transpose()"
   ]
  },
  {
   "cell_type": "markdown",
   "id": "95ad295d-ca4a-43f1-abd7-ac5fe0bc61c7",
   "metadata": {},
   "source": [
    "About **591**(57%) out of total student performance records(**1,044**) belonged to the female gender."
   ]
  },
  {
   "cell_type": "code",
   "execution_count": 18,
   "id": "fde3468c-d819-4d4e-8043-6dda1c40b03f",
   "metadata": {},
   "outputs": [
    {
     "data": {
      "image/png": "[encoded data removed]",
      "text/plain": [
       "<Figure size 720x432 with 1 Axes>"
      ]
     },
     "metadata": {
      "needs_background": "light"
     },
     "output_type": "display_data"
    },
    {
     "data": {
      "text/html": [
       "<div>\n",
       "<style scoped>\n",
       "    .dataframe tbody tr th:only-of-type {\n",
       "        vertical-align: middle;\n",
       "    }\n",
       "\n",
       "    .dataframe tbody tr th {\n",
       "        vertical-align: top;\n",
       "    }\n",
       "\n",
       "    .dataframe thead th {\n",
       "        text-align: right;\n",
       "    }\n",
       "</style>\n",
       "<table border=\"1\" class=\"dataframe\">\n",
       "  <thead>\n",
       "    <tr style=\"text-align: right;\">\n",
       "      <th></th>\n",
       "      <th>mean</th>\n",
       "      <th>max</th>\n",
       "      <th>min</th>\n",
       "    </tr>\n",
       "    <tr>\n",
       "      <th>subject</th>\n",
       "      <th></th>\n",
       "      <th></th>\n",
       "      <th></th>\n",
       "    </tr>\n",
       "  </thead>\n",
       "  <tbody>\n",
       "    <tr>\n",
       "      <th>mathematics</th>\n",
       "      <td>10.42</td>\n",
       "      <td>20.0</td>\n",
       "      <td>0.0</td>\n",
       "    </tr>\n",
       "    <tr>\n",
       "      <th>portuguese</th>\n",
       "      <td>11.91</td>\n",
       "      <td>19.0</td>\n",
       "      <td>0.0</td>\n",
       "    </tr>\n",
       "  </tbody>\n",
       "</table>\n",
       "</div>"
      ],
      "text/plain": [
       "              mean   max  min\n",
       "subject                      \n",
       "mathematics  10.42  20.0  0.0\n",
       "portuguese   11.91  19.0  0.0"
      ]
     },
     "execution_count": 18,
     "metadata": {},
     "output_type": "execute_result"
    }
   ],
   "source": [
    "plt.figure(figsize=(10,6))\n",
    "sns.histplot(data = data, x = 'G3', hue = 'subject', palette= 'magma')\n",
    "plt.title('Distribution of Final Grade By Subject', fontdict = {'fontweight': 'bold','fontsize': 15})\n",
    "plt.xlabel('Final Grade(G3)', fontdict= {'fontsize': 12})\n",
    "plt.ylabel('Number of Student\\'s',fontdict = {'fontsize': 12})\n",
    "plt.show()\n",
    "\n",
    "avg_score = round(data.groupby('subject')['G3'].mean(), 2)\n",
    "max_score = round(data.groupby('subject')['G3'].max(), 2)\n",
    "min_score = round(data.groupby('subject')['G3'].min(), 2)\n",
    "\n",
    "pd.DataFrame(data = [avg_score, max_score, min_score], index = ['mean', 'max', 'min']).transpose()"
   ]
  },
  {
   "cell_type": "code",
   "execution_count": 19,
   "id": "e8e3b958-494a-405d-8f4c-e956b2dc147f",
   "metadata": {},
   "outputs": [
    {
     "data": {
      "image/png": "[encoded data removed]",
      "text/plain": [
       "<Figure size 576x360 with 1 Axes>"
      ]
     },
     "metadata": {
      "needs_background": "light"
     },
     "output_type": "display_data"
    },
    {
     "data": {
      "text/html": [
       "<div>\n",
       "<style scoped>\n",
       "    .dataframe tbody tr th:only-of-type {\n",
       "        vertical-align: middle;\n",
       "    }\n",
       "\n",
       "    .dataframe tbody tr th {\n",
       "        vertical-align: top;\n",
       "    }\n",
       "\n",
       "    .dataframe thead th {\n",
       "        text-align: right;\n",
       "    }\n",
       "</style>\n",
       "<table border=\"1\" class=\"dataframe\">\n",
       "  <thead>\n",
       "    <tr style=\"text-align: right;\">\n",
       "      <th></th>\n",
       "      <th></th>\n",
       "      <th>sex</th>\n",
       "    </tr>\n",
       "    <tr>\n",
       "      <th>school</th>\n",
       "      <th>sex</th>\n",
       "      <th></th>\n",
       "    </tr>\n",
       "  </thead>\n",
       "  <tbody>\n",
       "    <tr>\n",
       "      <th rowspan=\"2\" valign=\"top\">GP</th>\n",
       "      <th>F</th>\n",
       "      <td>420</td>\n",
       "    </tr>\n",
       "    <tr>\n",
       "      <th>M</th>\n",
       "      <td>352</td>\n",
       "    </tr>\n",
       "    <tr>\n",
       "      <th rowspan=\"2\" valign=\"top\">MS</th>\n",
       "      <th>F</th>\n",
       "      <td>171</td>\n",
       "    </tr>\n",
       "    <tr>\n",
       "      <th>M</th>\n",
       "      <td>101</td>\n",
       "    </tr>\n",
       "  </tbody>\n",
       "</table>\n",
       "</div>"
      ],
      "text/plain": [
       "            sex\n",
       "school sex     \n",
       "GP     F    420\n",
       "       M    352\n",
       "MS     F    171\n",
       "       M    101"
      ]
     },
     "execution_count": 19,
     "metadata": {},
     "output_type": "execute_result"
    }
   ],
   "source": [
    "#Gender by school\n",
    "plt.figure(figsize=(8, 5))\n",
    "sns.countplot(x= 'school', hue = 'sex',data = data, palette = 'Blues')\n",
    "plt.title(\"Student's by School and Gender\", fontdict= {'fontweight': 'bold', 'fontsize': 15})\n",
    "plt.show()\n",
    "\n",
    "pd.DataFrame(data.groupby('school')['sex'].value_counts())"
   ]
  },
  {
   "cell_type": "markdown",
   "id": "ff5d35fb-4a6d-4506-801f-2f4bcfa7eb92",
   "metadata": {},
   "source": [
    "* Majority of the student's population are females in both schools.\n",
    "* **54%** of the student's population are females for Gabriel Pereira(GP) and **63%** for Mousinho da Silveira(MS) respectively."
   ]
  },
  {
   "cell_type": "code",
   "execution_count": 20,
   "id": "1cf5c610-b3d3-476d-97c9-54aa74cd86bf",
   "metadata": {},
   "outputs": [
    {
     "data": {
      "text/html": [
       "<div>\n",
       "<style scoped>\n",
       "    .dataframe tbody tr th:only-of-type {\n",
       "        vertical-align: middle;\n",
       "    }\n",
       "\n",
       "    .dataframe tbody tr th {\n",
       "        vertical-align: top;\n",
       "    }\n",
       "\n",
       "    .dataframe thead th {\n",
       "        text-align: right;\n",
       "    }\n",
       "</style>\n",
       "<table border=\"1\" class=\"dataframe\">\n",
       "  <thead>\n",
       "    <tr style=\"text-align: right;\">\n",
       "      <th></th>\n",
       "      <th></th>\n",
       "      <th></th>\n",
       "      <th>G3</th>\n",
       "    </tr>\n",
       "    <tr>\n",
       "      <th>school</th>\n",
       "      <th>subject</th>\n",
       "      <th>sex</th>\n",
       "      <th></th>\n",
       "    </tr>\n",
       "  </thead>\n",
       "  <tbody>\n",
       "    <tr>\n",
       "      <th rowspan=\"4\" valign=\"top\">GP</th>\n",
       "      <th rowspan=\"2\" valign=\"top\">mathematics</th>\n",
       "      <th>F</th>\n",
       "      <td>9.972678</td>\n",
       "    </tr>\n",
       "    <tr>\n",
       "      <th>M</th>\n",
       "      <td>11.060241</td>\n",
       "    </tr>\n",
       "    <tr>\n",
       "      <th rowspan=\"2\" valign=\"top\">portuguese</th>\n",
       "      <th>F</th>\n",
       "      <td>13.004219</td>\n",
       "    </tr>\n",
       "    <tr>\n",
       "      <th>M</th>\n",
       "      <td>12.032258</td>\n",
       "    </tr>\n",
       "    <tr>\n",
       "      <th rowspan=\"4\" valign=\"top\">MS</th>\n",
       "      <th rowspan=\"2\" valign=\"top\">mathematics</th>\n",
       "      <th>F</th>\n",
       "      <td>9.920000</td>\n",
       "    </tr>\n",
       "    <tr>\n",
       "      <th>M</th>\n",
       "      <td>9.761905</td>\n",
       "    </tr>\n",
       "    <tr>\n",
       "      <th rowspan=\"2\" valign=\"top\">portuguese</th>\n",
       "      <th>F</th>\n",
       "      <td>11.034247</td>\n",
       "    </tr>\n",
       "    <tr>\n",
       "      <th>M</th>\n",
       "      <td>9.950000</td>\n",
       "    </tr>\n",
       "  </tbody>\n",
       "</table>\n",
       "</div>"
      ],
      "text/plain": [
       "                               G3\n",
       "school subject     sex           \n",
       "GP     mathematics F     9.972678\n",
       "                   M    11.060241\n",
       "       portuguese  F    13.004219\n",
       "                   M    12.032258\n",
       "MS     mathematics F     9.920000\n",
       "                   M     9.761905\n",
       "       portuguese  F    11.034247\n",
       "                   M     9.950000"
      ]
     },
     "execution_count": 20,
     "metadata": {},
     "output_type": "execute_result"
    }
   ],
   "source": [
    "data.pivot_table(index = ['school','subject','sex'], values = 'G3', aggfunc= 'mean')"
   ]
  },
  {
   "cell_type": "markdown",
   "id": "a9ce8ed9-7dda-414a-83eb-255f17ffa39d",
   "metadata": {},
   "source": [
    "* On average, male student's peformed better in Mathematics subject than female students in Gabriel Pereira. While female student's performed better in Mousinho da Silveira.\n",
    "* On average, female student's performed better in Portuguese subject than male in both schools."
   ]
  },
  {
   "cell_type": "markdown",
   "id": "40474d83-9c8f-4fa8-bb2f-319596f2edad",
   "metadata": {},
   "source": [
    "### Reviewing the dataset for outliers"
   ]
  },
  {
   "cell_type": "code",
   "execution_count": 21,
   "id": "9dd459e8-fb0f-4f4b-8e51-6acb2a731603",
   "metadata": {},
   "outputs": [
    {
     "data": {
      "image/png": "[encoded data removed]",
      "text/plain": [
       "<Figure size 720x576 with 1 Axes>"
      ]
     },
     "metadata": {
      "needs_background": "light"
     },
     "output_type": "display_data"
    }
   ],
   "source": [
    "#Checking for outliers.\n",
    "plt.figure(figsize= (10, 8))\n",
    "out = sns.boxplot(data = data, orient = 'h')\n",
    "out.set_title('Box Plot on Student Performance', fontdict = {'fontsize': 15,'fontweight': 'bold'})\n",
    "out.set_ylabel('Features')\n",
    "plt.show()"
   ]
  },
  {
   "cell_type": "markdown",
   "id": "668a523c-d897-4ad0-a5be-74c312716d50",
   "metadata": {},
   "source": [
    "* Quite a number of variables within the dataset have outliers with absences having the highest number of outliers. \n",
    "* famrel, freetime, G1, G2 and G3 all have outliers around their minimum points\n",
    "* age, traveltime, studytime, failures, Dalc and absences all have outliers around their maximum points.\n"
   ]
  },
  {
   "cell_type": "code",
   "execution_count": 22,
   "id": "fe38277a-5564-437a-8d4c-751ab18c98de",
   "metadata": {},
   "outputs": [
    {
     "data": {
      "text/html": [
       "<div>\n",
       "<style scoped>\n",
       "    .dataframe tbody tr th:only-of-type {\n",
       "        vertical-align: middle;\n",
       "    }\n",
       "\n",
       "    .dataframe tbody tr th {\n",
       "        vertical-align: top;\n",
       "    }\n",
       "\n",
       "    .dataframe thead th {\n",
       "        text-align: right;\n",
       "    }\n",
       "</style>\n",
       "<table border=\"1\" class=\"dataframe\">\n",
       "  <thead>\n",
       "    <tr style=\"text-align: right;\">\n",
       "      <th></th>\n",
       "      <th>school</th>\n",
       "      <th>sex</th>\n",
       "      <th>age</th>\n",
       "      <th>address</th>\n",
       "      <th>famsize</th>\n",
       "      <th>Pstatus</th>\n",
       "      <th>Medu</th>\n",
       "      <th>Fedu</th>\n",
       "      <th>Mjob</th>\n",
       "      <th>Fjob</th>\n",
       "      <th>...</th>\n",
       "      <th>freetime</th>\n",
       "      <th>goout</th>\n",
       "      <th>Dalc</th>\n",
       "      <th>Walc</th>\n",
       "      <th>health</th>\n",
       "      <th>absences</th>\n",
       "      <th>G1</th>\n",
       "      <th>G2</th>\n",
       "      <th>G3</th>\n",
       "      <th>subject</th>\n",
       "    </tr>\n",
       "  </thead>\n",
       "  <tbody>\n",
       "    <tr>\n",
       "      <th>247</th>\n",
       "      <td>GP</td>\n",
       "      <td>M</td>\n",
       "      <td>22</td>\n",
       "      <td>U</td>\n",
       "      <td>GT3</td>\n",
       "      <td>T</td>\n",
       "      <td>3</td>\n",
       "      <td>1</td>\n",
       "      <td>services</td>\n",
       "      <td>services</td>\n",
       "      <td>...</td>\n",
       "      <td>4</td>\n",
       "      <td>5</td>\n",
       "      <td>5</td>\n",
       "      <td>5</td>\n",
       "      <td>1</td>\n",
       "      <td>16</td>\n",
       "      <td>6</td>\n",
       "      <td>8</td>\n",
       "      <td>8</td>\n",
       "      <td>mathematics</td>\n",
       "    </tr>\n",
       "    <tr>\n",
       "      <th>392</th>\n",
       "      <td>MS</td>\n",
       "      <td>M</td>\n",
       "      <td>21</td>\n",
       "      <td>R</td>\n",
       "      <td>GT3</td>\n",
       "      <td>T</td>\n",
       "      <td>1</td>\n",
       "      <td>1</td>\n",
       "      <td>other</td>\n",
       "      <td>other</td>\n",
       "      <td>...</td>\n",
       "      <td>5</td>\n",
       "      <td>3</td>\n",
       "      <td>3</td>\n",
       "      <td>3</td>\n",
       "      <td>3</td>\n",
       "      <td>3</td>\n",
       "      <td>10</td>\n",
       "      <td>8</td>\n",
       "      <td>7</td>\n",
       "      <td>mathematics</td>\n",
       "    </tr>\n",
       "    <tr>\n",
       "      <th>674</th>\n",
       "      <td>GP</td>\n",
       "      <td>M</td>\n",
       "      <td>22</td>\n",
       "      <td>U</td>\n",
       "      <td>GT3</td>\n",
       "      <td>T</td>\n",
       "      <td>3</td>\n",
       "      <td>1</td>\n",
       "      <td>services</td>\n",
       "      <td>services</td>\n",
       "      <td>...</td>\n",
       "      <td>4</td>\n",
       "      <td>5</td>\n",
       "      <td>5</td>\n",
       "      <td>5</td>\n",
       "      <td>1</td>\n",
       "      <td>12</td>\n",
       "      <td>7</td>\n",
       "      <td>8</td>\n",
       "      <td>5</td>\n",
       "      <td>portuguese</td>\n",
       "    </tr>\n",
       "    <tr>\n",
       "      <th>802</th>\n",
       "      <td>GP</td>\n",
       "      <td>F</td>\n",
       "      <td>21</td>\n",
       "      <td>U</td>\n",
       "      <td>LE3</td>\n",
       "      <td>T</td>\n",
       "      <td>4</td>\n",
       "      <td>4</td>\n",
       "      <td>other</td>\n",
       "      <td>other</td>\n",
       "      <td>...</td>\n",
       "      <td>3</td>\n",
       "      <td>2</td>\n",
       "      <td>1</td>\n",
       "      <td>1</td>\n",
       "      <td>5</td>\n",
       "      <td>0</td>\n",
       "      <td>9</td>\n",
       "      <td>12</td>\n",
       "      <td>12</td>\n",
       "      <td>portuguese</td>\n",
       "    </tr>\n",
       "    <tr>\n",
       "      <th>808</th>\n",
       "      <td>GP</td>\n",
       "      <td>M</td>\n",
       "      <td>21</td>\n",
       "      <td>R</td>\n",
       "      <td>LE3</td>\n",
       "      <td>T</td>\n",
       "      <td>1</td>\n",
       "      <td>1</td>\n",
       "      <td>at_home</td>\n",
       "      <td>other</td>\n",
       "      <td>...</td>\n",
       "      <td>3</td>\n",
       "      <td>3</td>\n",
       "      <td>5</td>\n",
       "      <td>2</td>\n",
       "      <td>4</td>\n",
       "      <td>21</td>\n",
       "      <td>9</td>\n",
       "      <td>10</td>\n",
       "      <td>10</td>\n",
       "      <td>portuguese</td>\n",
       "    </tr>\n",
       "  </tbody>\n",
       "</table>\n",
       "<p>5 rows × 34 columns</p>\n",
       "</div>"
      ],
      "text/plain": [
       "    school sex  age address famsize Pstatus  Medu  Fedu      Mjob      Fjob  \\\n",
       "247     GP   M   22       U     GT3       T     3     1  services  services   \n",
       "392     MS   M   21       R     GT3       T     1     1     other     other   \n",
       "674     GP   M   22       U     GT3       T     3     1  services  services   \n",
       "802     GP   F   21       U     LE3       T     4     4     other     other   \n",
       "808     GP   M   21       R     LE3       T     1     1   at_home     other   \n",
       "\n",
       "     ... freetime goout  Dalc  Walc  health absences  G1  G2  G3      subject  \n",
       "247  ...        4     5     5     5       1       16   6   8   8  mathematics  \n",
       "392  ...        5     3     3     3       3        3  10   8   7  mathematics  \n",
       "674  ...        4     5     5     5       1       12   7   8   5   portuguese  \n",
       "802  ...        3     2     1     1       5        0   9  12  12   portuguese  \n",
       "808  ...        3     3     5     2       4       21   9  10  10   portuguese  \n",
       "\n",
       "[5 rows x 34 columns]"
      ]
     },
     "execution_count": 22,
     "metadata": {},
     "output_type": "execute_result"
    }
   ],
   "source": [
    "data[data['age']> 20]"
   ]
  },
  {
   "cell_type": "code",
   "execution_count": 23,
   "id": "22becced-c510-44d0-9766-73a86dbef2bc",
   "metadata": {},
   "outputs": [
    {
     "data": {
      "text/plain": [
       "10.314814814814815"
      ]
     },
     "execution_count": 23,
     "metadata": {},
     "output_type": "execute_result"
    }
   ],
   "source": [
    "data[data['absences']> 15]['G3'].mean()"
   ]
  },
  {
   "cell_type": "code",
   "execution_count": 24,
   "id": "c7bff40d-b3e9-455b-b89c-a8cd135002cd",
   "metadata": {},
   "outputs": [
    {
     "data": {
      "image/png": "[encoded data removed]",
      "text/plain": [
       "<Figure size 1440x1080 with 16 Axes>"
      ]
     },
     "metadata": {
      "needs_background": "light"
     },
     "output_type": "display_data"
    }
   ],
   "source": [
    "#Distribution of the features\n",
    "data.hist(figsize= (20,15))\n",
    "plt.show()"
   ]
  },
  {
   "cell_type": "markdown",
   "id": "9f9b8f63-e3ef-425e-9115-c685f403798a",
   "metadata": {},
   "source": [
    "* The features of the student's performance dataset seems to be fairly normal, with student's grade G2 and G3 having a negatively skewed distribution which could be an influenced by outliers towards the lower score band.\n",
    "* The distribution of the students age and abscences has a positively skewed distribution which could be influenced by the age distribution in the higher age category as well as the high number of absences.\n"
   ]
  },
  {
   "cell_type": "code",
   "execution_count": 25,
   "id": "9326a2e7-1d6a-4459-8742-93228f037cfe",
   "metadata": {},
   "outputs": [
    {
     "data": {
      "image/png": "[encoded data removed]",
      "text/plain": [
       "<Figure size 576x360 with 1 Axes>"
      ]
     },
     "metadata": {
      "needs_background": "light"
     },
     "output_type": "display_data"
    },
    {
     "data": {
      "text/html": [
       "<div>\n",
       "<style scoped>\n",
       "    .dataframe tbody tr th:only-of-type {\n",
       "        vertical-align: middle;\n",
       "    }\n",
       "\n",
       "    .dataframe tbody tr th {\n",
       "        vertical-align: top;\n",
       "    }\n",
       "\n",
       "    .dataframe thead th {\n",
       "        text-align: right;\n",
       "    }\n",
       "</style>\n",
       "<table border=\"1\" class=\"dataframe\">\n",
       "  <thead>\n",
       "    <tr style=\"text-align: right;\">\n",
       "      <th></th>\n",
       "      <th>4</th>\n",
       "      <th>2</th>\n",
       "      <th>3</th>\n",
       "      <th>1</th>\n",
       "      <th>0</th>\n",
       "    </tr>\n",
       "  </thead>\n",
       "  <tbody>\n",
       "    <tr>\n",
       "      <th>Medu</th>\n",
       "      <td>306</td>\n",
       "      <td>289</td>\n",
       "      <td>238</td>\n",
       "      <td>202</td>\n",
       "      <td>9</td>\n",
       "    </tr>\n",
       "  </tbody>\n",
       "</table>\n",
       "</div>"
      ],
      "text/plain": [
       "        4    2    3    1  0\n",
       "Medu  306  289  238  202  9"
      ]
     },
     "execution_count": 25,
     "metadata": {},
     "output_type": "execute_result"
    }
   ],
   "source": [
    "#Reviewing the mother's education\n",
    "plt.figure(figsize=(8,5))\n",
    "sns.countplot(x= 'Medu', data = data, palette = 'Blues')\n",
    "plt.title(\"Mother's Education\", fontdict = {'fontweight': 'bold'})\n",
    "plt.show()\n",
    "\n",
    "pd.DataFrame(data.Medu.value_counts()).transpose()"
   ]
  },
  {
   "cell_type": "markdown",
   "id": "e15d9739-0e51-4261-9287-057469e464ff",
   "metadata": {},
   "source": [
    "- **29%(306)** of student mother's have higher education.\n",
    "- About **52%(544)** of the student mother's have at least a secondary education."
   ]
  },
  {
   "cell_type": "code",
   "execution_count": 26,
   "id": "0f5a59a3-c7ac-4cb0-8510-544a733560a1",
   "metadata": {},
   "outputs": [
    {
     "data": {
      "image/png": "[encoded data removed]",
      "text/plain": [
       "<Figure size 900x360 with 5 Axes>"
      ]
     },
     "metadata": {
      "needs_background": "light"
     },
     "output_type": "display_data"
    },
    {
     "data": {
      "image/png": "[encoded data removed]",
      "text/plain": [
       "<Figure size 900x360 with 5 Axes>"
      ]
     },
     "metadata": {
      "needs_background": "light"
     },
     "output_type": "display_data"
    }
   ],
   "source": [
    "# plt.title('Effect of Mother Occupation on G3')\n",
    "job = sns.FacetGrid(data, col=\"Mjob\", height=5, aspect= 0.5, hue = 'sex', palette= 'Blues', \n",
    "                    col_order= ['at_home', 'other', 'services', 'teacher', 'health'])\n",
    "job.map(sns.barplot, \"sex\", \"G3\", order=[\"M\", \"F\"])\n",
    "job.set(ylabel = 'Final Grade(G3)')\n",
    "plt.show()\n",
    "\n",
    "\n",
    "# plt.title('Effect of Father Occupation on G3')\n",
    "job = sns.FacetGrid(data, col=\"Fjob\", height=5, aspect= 0.5, hue = 'sex', palette= 'viridis',\n",
    "                   col_order= ['at_home', 'other', 'services', 'teacher', 'health'])\n",
    "job.map(sns.barplot, \"sex\", \"G3\", order=[\"M\", \"F\"])\n",
    "job.set(xlabel = 'Gender', ylabel = 'Final Grade(G3)')\n",
    "plt.show()"
   ]
  },
  {
   "cell_type": "markdown",
   "id": "af368e78",
   "metadata": {},
   "source": [
    "- Among the mother's job catgory, student's whose mother's job is **health** tend to perform better.\n",
    "- Similarly, among thefather's job category, student's whose father's are teachers tend to perform better."
   ]
  },
  {
   "cell_type": "code",
   "execution_count": 27,
   "id": "71c8e56e-596e-40b1-a751-45a4cdc904e9",
   "metadata": {},
   "outputs": [
    {
     "data": {
      "text/plain": [
       "subject\n",
       "mathematics    10.42\n",
       "portuguese     11.91\n",
       "Name: G3, dtype: float64"
      ]
     },
     "execution_count": 27,
     "metadata": {},
     "output_type": "execute_result"
    }
   ],
   "source": [
    "#Average peformance by subject\n",
    "round(data.groupby('subject')['G3'].mean(), 2)"
   ]
  },
  {
   "cell_type": "code",
   "execution_count": 28,
   "id": "65f2fac4-cccc-4227-8345-d55c5b3950d6",
   "metadata": {},
   "outputs": [
    {
     "data": {
      "text/plain": [
       "subject\n",
       "mathematics    4.58\n",
       "portuguese     3.23\n",
       "Name: G3, dtype: float64"
      ]
     },
     "execution_count": 28,
     "metadata": {},
     "output_type": "execute_result"
    }
   ],
   "source": [
    "#spread of final grade by subject\n",
    "round(data.groupby('subject')['G3'].std(), 2)"
   ]
  },
  {
   "cell_type": "code",
   "execution_count": 29,
   "id": "2a55449c-c940-488f-b45b-16a69a15890d",
   "metadata": {},
   "outputs": [
    {
     "data": {
      "image/png": "[encoded data removed]",
      "text/plain": [
       "<Figure size 792x360 with 2 Axes>"
      ]
     },
     "metadata": {
      "needs_background": "light"
     },
     "output_type": "display_data"
    }
   ],
   "source": [
    "#Comparing final grade performance by subject\n",
    "g = sns.FacetGrid(data, col=\"subject\", height= 5, aspect= 1.1)\n",
    "g.map(sns.histplot, \"G3\")\n",
    "plt.show()"
   ]
  },
  {
   "cell_type": "markdown",
   "id": "ebfcbdba-3da9-4053-949d-a0b7f8184434",
   "metadata": {},
   "source": [
    "* On average, student's performance in Portuguese subject is slighty better than Mathematics with about **14.3%**.\n",
    "* Final grade for student's performance in Mathematics are more spread out about the mean than in Portuguese, indicating a better performance in Portugeuse subject.\n",
    "* The distribution of final grades in Portuguese subject is negatively skewed, while that in Mathematics has a fairly normal distribution.\n"
   ]
  },
  {
   "cell_type": "code",
   "execution_count": null,
   "id": "1324430c-5799-4ed0-984e-1be6201b83b3",
   "metadata": {},
   "outputs": [],
   "source": [
    "\n"
   ]
  },
  {
   "cell_type": "markdown",
   "id": "b0752285-720d-4e00-ad54-8ed27401010d",
   "metadata": {},
   "source": [
    "***\n",
    "# Statistical Analysis\n",
    "***"
   ]
  },
  {
   "cell_type": "code",
   "execution_count": 30,
   "id": "043ba6c4-a72e-408c-88cb-b0240a171e6d",
   "metadata": {},
   "outputs": [],
   "source": [
    "from statistics_module import Statistics as stats"
   ]
  },
  {
   "cell_type": "code",
   "execution_count": 31,
   "id": "7cd23c6e-dd01-4a31-804b-4cf500962124",
   "metadata": {},
   "outputs": [
    {
     "data": {
      "text/html": [
       "<div>\n",
       "<style scoped>\n",
       "    .dataframe tbody tr th:only-of-type {\n",
       "        vertical-align: middle;\n",
       "    }\n",
       "\n",
       "    .dataframe tbody tr th {\n",
       "        vertical-align: top;\n",
       "    }\n",
       "\n",
       "    .dataframe thead th {\n",
       "        text-align: right;\n",
       "    }\n",
       "</style>\n",
       "<table border=\"1\" class=\"dataframe\">\n",
       "  <thead>\n",
       "    <tr style=\"text-align: right;\">\n",
       "      <th></th>\n",
       "      <th>age</th>\n",
       "      <th>Medu</th>\n",
       "      <th>Fedu</th>\n",
       "      <th>traveltime</th>\n",
       "      <th>studytime</th>\n",
       "      <th>failures</th>\n",
       "      <th>famrel</th>\n",
       "      <th>freetime</th>\n",
       "      <th>goout</th>\n",
       "      <th>Dalc</th>\n",
       "      <th>Walc</th>\n",
       "      <th>health</th>\n",
       "      <th>absences</th>\n",
       "      <th>G1</th>\n",
       "      <th>G2</th>\n",
       "      <th>G3</th>\n",
       "    </tr>\n",
       "  </thead>\n",
       "  <tbody>\n",
       "    <tr>\n",
       "      <th>Count</th>\n",
       "      <td>1044.00</td>\n",
       "      <td>1044.00</td>\n",
       "      <td>1044.00</td>\n",
       "      <td>1044.00</td>\n",
       "      <td>1044.00</td>\n",
       "      <td>1044.00</td>\n",
       "      <td>1044.00</td>\n",
       "      <td>1044.00</td>\n",
       "      <td>1044.00</td>\n",
       "      <td>1044.00</td>\n",
       "      <td>1044.00</td>\n",
       "      <td>1044.00</td>\n",
       "      <td>1044.00</td>\n",
       "      <td>1044.00</td>\n",
       "      <td>1044.00</td>\n",
       "      <td>1044.00</td>\n",
       "    </tr>\n",
       "    <tr>\n",
       "      <th>Mean</th>\n",
       "      <td>16.73</td>\n",
       "      <td>2.60</td>\n",
       "      <td>2.39</td>\n",
       "      <td>1.52</td>\n",
       "      <td>1.97</td>\n",
       "      <td>0.26</td>\n",
       "      <td>3.94</td>\n",
       "      <td>3.20</td>\n",
       "      <td>3.16</td>\n",
       "      <td>1.49</td>\n",
       "      <td>2.28</td>\n",
       "      <td>3.54</td>\n",
       "      <td>4.43</td>\n",
       "      <td>11.21</td>\n",
       "      <td>11.25</td>\n",
       "      <td>11.34</td>\n",
       "    </tr>\n",
       "    <tr>\n",
       "      <th>StanDev</th>\n",
       "      <td>1.24</td>\n",
       "      <td>1.12</td>\n",
       "      <td>1.10</td>\n",
       "      <td>0.73</td>\n",
       "      <td>0.83</td>\n",
       "      <td>0.66</td>\n",
       "      <td>0.93</td>\n",
       "      <td>1.03</td>\n",
       "      <td>1.15</td>\n",
       "      <td>0.91</td>\n",
       "      <td>1.28</td>\n",
       "      <td>1.42</td>\n",
       "      <td>6.21</td>\n",
       "      <td>2.98</td>\n",
       "      <td>3.28</td>\n",
       "      <td>3.86</td>\n",
       "    </tr>\n",
       "    <tr>\n",
       "      <th>Var</th>\n",
       "      <td>1.54</td>\n",
       "      <td>1.26</td>\n",
       "      <td>1.21</td>\n",
       "      <td>0.53</td>\n",
       "      <td>0.70</td>\n",
       "      <td>0.43</td>\n",
       "      <td>0.87</td>\n",
       "      <td>1.06</td>\n",
       "      <td>1.33</td>\n",
       "      <td>0.83</td>\n",
       "      <td>1.65</td>\n",
       "      <td>2.03</td>\n",
       "      <td>38.53</td>\n",
       "      <td>8.89</td>\n",
       "      <td>10.78</td>\n",
       "      <td>14.92</td>\n",
       "    </tr>\n",
       "    <tr>\n",
       "      <th>Mini</th>\n",
       "      <td>15.00</td>\n",
       "      <td>0.00</td>\n",
       "      <td>0.00</td>\n",
       "      <td>1.00</td>\n",
       "      <td>1.00</td>\n",
       "      <td>0.00</td>\n",
       "      <td>1.00</td>\n",
       "      <td>1.00</td>\n",
       "      <td>1.00</td>\n",
       "      <td>1.00</td>\n",
       "      <td>1.00</td>\n",
       "      <td>1.00</td>\n",
       "      <td>0.00</td>\n",
       "      <td>0.00</td>\n",
       "      <td>0.00</td>\n",
       "      <td>0.00</td>\n",
       "    </tr>\n",
       "    <tr>\n",
       "      <th>25%</th>\n",
       "      <td>16.00</td>\n",
       "      <td>2.00</td>\n",
       "      <td>1.00</td>\n",
       "      <td>1.00</td>\n",
       "      <td>1.00</td>\n",
       "      <td>0.00</td>\n",
       "      <td>4.00</td>\n",
       "      <td>3.00</td>\n",
       "      <td>2.00</td>\n",
       "      <td>1.00</td>\n",
       "      <td>1.00</td>\n",
       "      <td>3.00</td>\n",
       "      <td>0.00</td>\n",
       "      <td>9.00</td>\n",
       "      <td>9.00</td>\n",
       "      <td>10.00</td>\n",
       "    </tr>\n",
       "    <tr>\n",
       "      <th>Median</th>\n",
       "      <td>17.00</td>\n",
       "      <td>3.00</td>\n",
       "      <td>2.00</td>\n",
       "      <td>1.00</td>\n",
       "      <td>2.00</td>\n",
       "      <td>0.00</td>\n",
       "      <td>4.00</td>\n",
       "      <td>3.00</td>\n",
       "      <td>3.00</td>\n",
       "      <td>1.00</td>\n",
       "      <td>2.00</td>\n",
       "      <td>4.00</td>\n",
       "      <td>2.00</td>\n",
       "      <td>11.00</td>\n",
       "      <td>11.00</td>\n",
       "      <td>11.00</td>\n",
       "    </tr>\n",
       "    <tr>\n",
       "      <th>75%</th>\n",
       "      <td>18.00</td>\n",
       "      <td>4.00</td>\n",
       "      <td>3.00</td>\n",
       "      <td>2.00</td>\n",
       "      <td>2.00</td>\n",
       "      <td>0.00</td>\n",
       "      <td>5.00</td>\n",
       "      <td>4.00</td>\n",
       "      <td>4.00</td>\n",
       "      <td>2.00</td>\n",
       "      <td>3.00</td>\n",
       "      <td>5.00</td>\n",
       "      <td>6.00</td>\n",
       "      <td>13.00</td>\n",
       "      <td>13.00</td>\n",
       "      <td>14.00</td>\n",
       "    </tr>\n",
       "    <tr>\n",
       "      <th>Maxi</th>\n",
       "      <td>22.00</td>\n",
       "      <td>4.00</td>\n",
       "      <td>4.00</td>\n",
       "      <td>4.00</td>\n",
       "      <td>4.00</td>\n",
       "      <td>3.00</td>\n",
       "      <td>5.00</td>\n",
       "      <td>5.00</td>\n",
       "      <td>5.00</td>\n",
       "      <td>5.00</td>\n",
       "      <td>5.00</td>\n",
       "      <td>5.00</td>\n",
       "      <td>75.00</td>\n",
       "      <td>19.00</td>\n",
       "      <td>19.00</td>\n",
       "      <td>20.00</td>\n",
       "    </tr>\n",
       "    <tr>\n",
       "      <th>Skew</th>\n",
       "      <td>0.43</td>\n",
       "      <td>-0.14</td>\n",
       "      <td>0.12</td>\n",
       "      <td>1.37</td>\n",
       "      <td>0.67</td>\n",
       "      <td>2.78</td>\n",
       "      <td>-1.06</td>\n",
       "      <td>-0.18</td>\n",
       "      <td>0.04</td>\n",
       "      <td>2.16</td>\n",
       "      <td>0.63</td>\n",
       "      <td>-0.50</td>\n",
       "      <td>3.74</td>\n",
       "      <td>0.08</td>\n",
       "      <td>-0.50</td>\n",
       "      <td>-0.99</td>\n",
       "    </tr>\n",
       "    <tr>\n",
       "      <th>Kurt</th>\n",
       "      <td>0.04</td>\n",
       "      <td>-1.23</td>\n",
       "      <td>-1.17</td>\n",
       "      <td>1.48</td>\n",
       "      <td>0.01</td>\n",
       "      <td>7.50</td>\n",
       "      <td>1.29</td>\n",
       "      <td>-0.36</td>\n",
       "      <td>-0.84</td>\n",
       "      <td>4.48</td>\n",
       "      <td>-0.78</td>\n",
       "      <td>-1.08</td>\n",
       "      <td>26.60</td>\n",
       "      <td>-0.33</td>\n",
       "      <td>1.34</td>\n",
       "      <td>1.74</td>\n",
       "    </tr>\n",
       "  </tbody>\n",
       "</table>\n",
       "</div>"
      ],
      "text/plain": [
       "             age     Medu     Fedu traveltime studytime failures   famrel  \\\n",
       "Count    1044.00  1044.00  1044.00    1044.00   1044.00  1044.00  1044.00   \n",
       "Mean       16.73     2.60     2.39       1.52      1.97     0.26     3.94   \n",
       "StanDev     1.24     1.12     1.10       0.73      0.83     0.66     0.93   \n",
       "Var         1.54     1.26     1.21       0.53      0.70     0.43     0.87   \n",
       "Mini       15.00     0.00     0.00       1.00      1.00     0.00     1.00   \n",
       "25%        16.00     2.00     1.00       1.00      1.00     0.00     4.00   \n",
       "Median     17.00     3.00     2.00       1.00      2.00     0.00     4.00   \n",
       "75%        18.00     4.00     3.00       2.00      2.00     0.00     5.00   \n",
       "Maxi       22.00     4.00     4.00       4.00      4.00     3.00     5.00   \n",
       "Skew        0.43    -0.14     0.12       1.37      0.67     2.78    -1.06   \n",
       "Kurt        0.04    -1.23    -1.17       1.48      0.01     7.50     1.29   \n",
       "\n",
       "        freetime    goout     Dalc     Walc   health absences       G1  \\\n",
       "Count    1044.00  1044.00  1044.00  1044.00  1044.00  1044.00  1044.00   \n",
       "Mean        3.20     3.16     1.49     2.28     3.54     4.43    11.21   \n",
       "StanDev     1.03     1.15     0.91     1.28     1.42     6.21     2.98   \n",
       "Var         1.06     1.33     0.83     1.65     2.03    38.53     8.89   \n",
       "Mini        1.00     1.00     1.00     1.00     1.00     0.00     0.00   \n",
       "25%         3.00     2.00     1.00     1.00     3.00     0.00     9.00   \n",
       "Median      3.00     3.00     1.00     2.00     4.00     2.00    11.00   \n",
       "75%         4.00     4.00     2.00     3.00     5.00     6.00    13.00   \n",
       "Maxi        5.00     5.00     5.00     5.00     5.00    75.00    19.00   \n",
       "Skew       -0.18     0.04     2.16     0.63    -0.50     3.74     0.08   \n",
       "Kurt       -0.36    -0.84     4.48    -0.78    -1.08    26.60    -0.33   \n",
       "\n",
       "              G2       G3  \n",
       "Count    1044.00  1044.00  \n",
       "Mean       11.25    11.34  \n",
       "StanDev     3.28     3.86  \n",
       "Var        10.78    14.92  \n",
       "Mini        0.00     0.00  \n",
       "25%         9.00    10.00  \n",
       "Median     11.00    11.00  \n",
       "75%        13.00    14.00  \n",
       "Maxi       19.00    20.00  \n",
       "Skew       -0.50    -0.99  \n",
       "Kurt        1.34     1.74  "
      ]
     },
     "execution_count": 31,
     "metadata": {},
     "output_type": "execute_result"
    }
   ],
   "source": [
    "#Obtiaing the descriptive statistics\n",
    "stats(data).descStat()"
   ]
  },
  {
   "cell_type": "code",
   "execution_count": 32,
   "id": "5b7d40e6-343d-424e-a03d-3d68dd0eba2b",
   "metadata": {},
   "outputs": [
    {
     "name": "stdout",
     "output_type": "stream",
     "text": [
      "No of zero-grades:  53\n"
     ]
    },
    {
     "data": {
      "image/png": "[encoded data removed]",
      "text/plain": [
       "<Figure size 720x360 with 1 Axes>"
      ]
     },
     "metadata": {
      "needs_background": "light"
     },
     "output_type": "display_data"
    },
    {
     "data": {
      "text/html": [
       "<div>\n",
       "<style scoped>\n",
       "    .dataframe tbody tr th:only-of-type {\n",
       "        vertical-align: middle;\n",
       "    }\n",
       "\n",
       "    .dataframe tbody tr th {\n",
       "        vertical-align: top;\n",
       "    }\n",
       "\n",
       "    .dataframe thead th {\n",
       "        text-align: right;\n",
       "    }\n",
       "</style>\n",
       "<table border=\"1\" class=\"dataframe\">\n",
       "  <thead>\n",
       "    <tr style=\"text-align: right;\">\n",
       "      <th></th>\n",
       "      <th>Count</th>\n",
       "      <th>Mean</th>\n",
       "      <th>StanDev</th>\n",
       "      <th>Var</th>\n",
       "      <th>Mini</th>\n",
       "      <th>25%</th>\n",
       "      <th>Median</th>\n",
       "      <th>75%</th>\n",
       "      <th>Maxi</th>\n",
       "      <th>Skew</th>\n",
       "      <th>Kurt</th>\n",
       "    </tr>\n",
       "  </thead>\n",
       "  <tbody>\n",
       "    <tr>\n",
       "      <th>G3</th>\n",
       "      <td>1044.00</td>\n",
       "      <td>11.34</td>\n",
       "      <td>3.86</td>\n",
       "      <td>14.92</td>\n",
       "      <td>0.00</td>\n",
       "      <td>10.00</td>\n",
       "      <td>11.00</td>\n",
       "      <td>14.00</td>\n",
       "      <td>20.00</td>\n",
       "      <td>-0.99</td>\n",
       "      <td>1.74</td>\n",
       "    </tr>\n",
       "  </tbody>\n",
       "</table>\n",
       "</div>"
      ],
      "text/plain": [
       "      Count   Mean StanDev    Var  Mini    25% Median    75%   Maxi   Skew  \\\n",
       "G3  1044.00  11.34    3.86  14.92  0.00  10.00  11.00  14.00  20.00  -0.99   \n",
       "\n",
       "    Kurt  \n",
       "G3  1.74  "
      ]
     },
     "execution_count": 32,
     "metadata": {},
     "output_type": "execute_result"
    }
   ],
   "source": [
    "#Count of zero grades\n",
    "print(\"No of zero-grades: \", data['G3'][data['G3']== 0].count())\n",
    "#Final Grades Distribution\n",
    "sns.displot(data['G3'],height= 5, aspect= 2)\n",
    "plt.title('Distribution of Final Grade(G3)', fontdict= {'fontsize': 15, 'fontweight': 'bold'})\n",
    "plt.xlabel('Final Grade(G3)', fontdict= {'fontsize': 12})\n",
    "plt.ylabel('Count', fontdict= {'fontsize': 12})\n",
    "plt.show()\n",
    "\n",
    "G3_desc = stats(data[['G3']]).descStat().transpose()\n",
    "G3_desc\n",
    "\n"
   ]
  },
  {
   "cell_type": "markdown",
   "id": "ac1f20b0-11ba-4887-bc5f-75ec95629ee4",
   "metadata": {},
   "source": [
    "The Final Grade(G3) has a negatively skewed distribution which is nearly normal. The grades are more spread out about the mean grade **11.34** with majority falling within the grade band **10 - 17** and a few higher than **17**. However, it is interesting to note that the mean final grade **(G3)** is slightly higher than the median **11**, which could be as a result of the influence of the **53** zero-grades on the distribution."
   ]
  },
  {
   "cell_type": "code",
   "execution_count": 33,
   "id": "bc17f24a-6844-438f-a0de-9f1cce96e9e0",
   "metadata": {},
   "outputs": [
    {
     "data": {
      "text/html": [
       "<div>\n",
       "<style scoped>\n",
       "    .dataframe tbody tr th:only-of-type {\n",
       "        vertical-align: middle;\n",
       "    }\n",
       "\n",
       "    .dataframe tbody tr th {\n",
       "        vertical-align: top;\n",
       "    }\n",
       "\n",
       "    .dataframe thead th {\n",
       "        text-align: right;\n",
       "    }\n",
       "</style>\n",
       "<table border=\"1\" class=\"dataframe\">\n",
       "  <thead>\n",
       "    <tr style=\"text-align: right;\">\n",
       "      <th></th>\n",
       "      <th>Mean</th>\n",
       "    </tr>\n",
       "  </thead>\n",
       "  <tbody>\n",
       "    <tr>\n",
       "      <th>absences</th>\n",
       "      <td>4.43</td>\n",
       "    </tr>\n",
       "  </tbody>\n",
       "</table>\n",
       "</div>"
      ],
      "text/plain": [
       "          Mean\n",
       "absences  4.43"
      ]
     },
     "execution_count": 33,
     "metadata": {},
     "output_type": "execute_result"
    }
   ],
   "source": [
    "stats(data[['absences']]).Mean()"
   ]
  },
  {
   "cell_type": "code",
   "execution_count": 34,
   "id": "836ca9ed-9388-4584-a305-db06e35f28c3",
   "metadata": {},
   "outputs": [
    {
     "data": {
      "text/html": [
       "<div>\n",
       "<style scoped>\n",
       "    .dataframe tbody tr th:only-of-type {\n",
       "        vertical-align: middle;\n",
       "    }\n",
       "\n",
       "    .dataframe tbody tr th {\n",
       "        vertical-align: top;\n",
       "    }\n",
       "\n",
       "    .dataframe thead th {\n",
       "        text-align: right;\n",
       "    }\n",
       "</style>\n",
       "<table border=\"1\" class=\"dataframe\">\n",
       "  <thead>\n",
       "    <tr style=\"text-align: right;\">\n",
       "      <th></th>\n",
       "      <th>school</th>\n",
       "      <th>sex</th>\n",
       "      <th>age</th>\n",
       "      <th>address</th>\n",
       "      <th>famsize</th>\n",
       "      <th>Pstatus</th>\n",
       "      <th>Medu</th>\n",
       "      <th>Fedu</th>\n",
       "      <th>Mjob</th>\n",
       "      <th>Fjob</th>\n",
       "      <th>...</th>\n",
       "      <th>freetime</th>\n",
       "      <th>goout</th>\n",
       "      <th>Dalc</th>\n",
       "      <th>Walc</th>\n",
       "      <th>health</th>\n",
       "      <th>absences</th>\n",
       "      <th>G1</th>\n",
       "      <th>G2</th>\n",
       "      <th>G3</th>\n",
       "      <th>subject</th>\n",
       "    </tr>\n",
       "  </thead>\n",
       "  <tbody>\n",
       "    <tr>\n",
       "      <th>0</th>\n",
       "      <td>GP</td>\n",
       "      <td>F</td>\n",
       "      <td>18</td>\n",
       "      <td>U</td>\n",
       "      <td>GT3</td>\n",
       "      <td>A</td>\n",
       "      <td>4</td>\n",
       "      <td>4</td>\n",
       "      <td>at_home</td>\n",
       "      <td>teacher</td>\n",
       "      <td>...</td>\n",
       "      <td>3</td>\n",
       "      <td>4</td>\n",
       "      <td>1</td>\n",
       "      <td>1</td>\n",
       "      <td>3</td>\n",
       "      <td>6</td>\n",
       "      <td>5</td>\n",
       "      <td>6</td>\n",
       "      <td>6</td>\n",
       "      <td>mathematics</td>\n",
       "    </tr>\n",
       "    <tr>\n",
       "      <th>1</th>\n",
       "      <td>GP</td>\n",
       "      <td>F</td>\n",
       "      <td>17</td>\n",
       "      <td>U</td>\n",
       "      <td>GT3</td>\n",
       "      <td>T</td>\n",
       "      <td>1</td>\n",
       "      <td>1</td>\n",
       "      <td>at_home</td>\n",
       "      <td>other</td>\n",
       "      <td>...</td>\n",
       "      <td>3</td>\n",
       "      <td>3</td>\n",
       "      <td>1</td>\n",
       "      <td>1</td>\n",
       "      <td>3</td>\n",
       "      <td>4</td>\n",
       "      <td>5</td>\n",
       "      <td>5</td>\n",
       "      <td>6</td>\n",
       "      <td>mathematics</td>\n",
       "    </tr>\n",
       "    <tr>\n",
       "      <th>2</th>\n",
       "      <td>GP</td>\n",
       "      <td>F</td>\n",
       "      <td>15</td>\n",
       "      <td>U</td>\n",
       "      <td>LE3</td>\n",
       "      <td>T</td>\n",
       "      <td>1</td>\n",
       "      <td>1</td>\n",
       "      <td>at_home</td>\n",
       "      <td>other</td>\n",
       "      <td>...</td>\n",
       "      <td>3</td>\n",
       "      <td>2</td>\n",
       "      <td>2</td>\n",
       "      <td>3</td>\n",
       "      <td>3</td>\n",
       "      <td>10</td>\n",
       "      <td>7</td>\n",
       "      <td>8</td>\n",
       "      <td>10</td>\n",
       "      <td>mathematics</td>\n",
       "    </tr>\n",
       "    <tr>\n",
       "      <th>3</th>\n",
       "      <td>GP</td>\n",
       "      <td>F</td>\n",
       "      <td>15</td>\n",
       "      <td>U</td>\n",
       "      <td>GT3</td>\n",
       "      <td>T</td>\n",
       "      <td>4</td>\n",
       "      <td>2</td>\n",
       "      <td>health</td>\n",
       "      <td>services</td>\n",
       "      <td>...</td>\n",
       "      <td>2</td>\n",
       "      <td>2</td>\n",
       "      <td>1</td>\n",
       "      <td>1</td>\n",
       "      <td>5</td>\n",
       "      <td>2</td>\n",
       "      <td>15</td>\n",
       "      <td>14</td>\n",
       "      <td>15</td>\n",
       "      <td>mathematics</td>\n",
       "    </tr>\n",
       "    <tr>\n",
       "      <th>4</th>\n",
       "      <td>GP</td>\n",
       "      <td>F</td>\n",
       "      <td>16</td>\n",
       "      <td>U</td>\n",
       "      <td>GT3</td>\n",
       "      <td>T</td>\n",
       "      <td>3</td>\n",
       "      <td>3</td>\n",
       "      <td>other</td>\n",
       "      <td>other</td>\n",
       "      <td>...</td>\n",
       "      <td>3</td>\n",
       "      <td>2</td>\n",
       "      <td>1</td>\n",
       "      <td>2</td>\n",
       "      <td>5</td>\n",
       "      <td>4</td>\n",
       "      <td>6</td>\n",
       "      <td>10</td>\n",
       "      <td>10</td>\n",
       "      <td>mathematics</td>\n",
       "    </tr>\n",
       "    <tr>\n",
       "      <th>...</th>\n",
       "      <td>...</td>\n",
       "      <td>...</td>\n",
       "      <td>...</td>\n",
       "      <td>...</td>\n",
       "      <td>...</td>\n",
       "      <td>...</td>\n",
       "      <td>...</td>\n",
       "      <td>...</td>\n",
       "      <td>...</td>\n",
       "      <td>...</td>\n",
       "      <td>...</td>\n",
       "      <td>...</td>\n",
       "      <td>...</td>\n",
       "      <td>...</td>\n",
       "      <td>...</td>\n",
       "      <td>...</td>\n",
       "      <td>...</td>\n",
       "      <td>...</td>\n",
       "      <td>...</td>\n",
       "      <td>...</td>\n",
       "      <td>...</td>\n",
       "    </tr>\n",
       "    <tr>\n",
       "      <th>95</th>\n",
       "      <td>GP</td>\n",
       "      <td>F</td>\n",
       "      <td>15</td>\n",
       "      <td>R</td>\n",
       "      <td>GT3</td>\n",
       "      <td>T</td>\n",
       "      <td>1</td>\n",
       "      <td>1</td>\n",
       "      <td>at_home</td>\n",
       "      <td>other</td>\n",
       "      <td>...</td>\n",
       "      <td>1</td>\n",
       "      <td>2</td>\n",
       "      <td>1</td>\n",
       "      <td>1</td>\n",
       "      <td>1</td>\n",
       "      <td>2</td>\n",
       "      <td>7</td>\n",
       "      <td>10</td>\n",
       "      <td>10</td>\n",
       "      <td>mathematics</td>\n",
       "    </tr>\n",
       "    <tr>\n",
       "      <th>96</th>\n",
       "      <td>GP</td>\n",
       "      <td>M</td>\n",
       "      <td>16</td>\n",
       "      <td>R</td>\n",
       "      <td>GT3</td>\n",
       "      <td>T</td>\n",
       "      <td>4</td>\n",
       "      <td>3</td>\n",
       "      <td>services</td>\n",
       "      <td>other</td>\n",
       "      <td>...</td>\n",
       "      <td>3</td>\n",
       "      <td>3</td>\n",
       "      <td>1</td>\n",
       "      <td>1</td>\n",
       "      <td>4</td>\n",
       "      <td>2</td>\n",
       "      <td>11</td>\n",
       "      <td>15</td>\n",
       "      <td>15</td>\n",
       "      <td>mathematics</td>\n",
       "    </tr>\n",
       "    <tr>\n",
       "      <th>97</th>\n",
       "      <td>GP</td>\n",
       "      <td>F</td>\n",
       "      <td>16</td>\n",
       "      <td>U</td>\n",
       "      <td>GT3</td>\n",
       "      <td>T</td>\n",
       "      <td>2</td>\n",
       "      <td>1</td>\n",
       "      <td>other</td>\n",
       "      <td>other</td>\n",
       "      <td>...</td>\n",
       "      <td>3</td>\n",
       "      <td>5</td>\n",
       "      <td>1</td>\n",
       "      <td>1</td>\n",
       "      <td>5</td>\n",
       "      <td>2</td>\n",
       "      <td>8</td>\n",
       "      <td>9</td>\n",
       "      <td>10</td>\n",
       "      <td>mathematics</td>\n",
       "    </tr>\n",
       "    <tr>\n",
       "      <th>98</th>\n",
       "      <td>GP</td>\n",
       "      <td>F</td>\n",
       "      <td>16</td>\n",
       "      <td>U</td>\n",
       "      <td>GT3</td>\n",
       "      <td>T</td>\n",
       "      <td>4</td>\n",
       "      <td>4</td>\n",
       "      <td>other</td>\n",
       "      <td>other</td>\n",
       "      <td>...</td>\n",
       "      <td>3</td>\n",
       "      <td>4</td>\n",
       "      <td>1</td>\n",
       "      <td>2</td>\n",
       "      <td>1</td>\n",
       "      <td>6</td>\n",
       "      <td>11</td>\n",
       "      <td>14</td>\n",
       "      <td>14</td>\n",
       "      <td>mathematics</td>\n",
       "    </tr>\n",
       "    <tr>\n",
       "      <th>99</th>\n",
       "      <td>GP</td>\n",
       "      <td>F</td>\n",
       "      <td>16</td>\n",
       "      <td>U</td>\n",
       "      <td>GT3</td>\n",
       "      <td>T</td>\n",
       "      <td>4</td>\n",
       "      <td>3</td>\n",
       "      <td>other</td>\n",
       "      <td>at_home</td>\n",
       "      <td>...</td>\n",
       "      <td>3</td>\n",
       "      <td>5</td>\n",
       "      <td>1</td>\n",
       "      <td>1</td>\n",
       "      <td>3</td>\n",
       "      <td>0</td>\n",
       "      <td>7</td>\n",
       "      <td>9</td>\n",
       "      <td>8</td>\n",
       "      <td>mathematics</td>\n",
       "    </tr>\n",
       "  </tbody>\n",
       "</table>\n",
       "<p>100 rows × 34 columns</p>\n",
       "</div>"
      ],
      "text/plain": [
       "   school sex  age address famsize Pstatus  Medu  Fedu      Mjob      Fjob  \\\n",
       "0      GP   F   18       U     GT3       A     4     4   at_home   teacher   \n",
       "1      GP   F   17       U     GT3       T     1     1   at_home     other   \n",
       "2      GP   F   15       U     LE3       T     1     1   at_home     other   \n",
       "3      GP   F   15       U     GT3       T     4     2    health  services   \n",
       "4      GP   F   16       U     GT3       T     3     3     other     other   \n",
       "..    ...  ..  ...     ...     ...     ...   ...   ...       ...       ...   \n",
       "95     GP   F   15       R     GT3       T     1     1   at_home     other   \n",
       "96     GP   M   16       R     GT3       T     4     3  services     other   \n",
       "97     GP   F   16       U     GT3       T     2     1     other     other   \n",
       "98     GP   F   16       U     GT3       T     4     4     other     other   \n",
       "99     GP   F   16       U     GT3       T     4     3     other   at_home   \n",
       "\n",
       "    ... freetime goout  Dalc  Walc  health absences  G1  G2  G3      subject  \n",
       "0   ...        3     4     1     1       3        6   5   6   6  mathematics  \n",
       "1   ...        3     3     1     1       3        4   5   5   6  mathematics  \n",
       "2   ...        3     2     2     3       3       10   7   8  10  mathematics  \n",
       "3   ...        2     2     1     1       5        2  15  14  15  mathematics  \n",
       "4   ...        3     2     1     2       5        4   6  10  10  mathematics  \n",
       "..  ...      ...   ...   ...   ...     ...      ...  ..  ..  ..          ...  \n",
       "95  ...        1     2     1     1       1        2   7  10  10  mathematics  \n",
       "96  ...        3     3     1     1       4        2  11  15  15  mathematics  \n",
       "97  ...        3     5     1     1       5        2   8   9  10  mathematics  \n",
       "98  ...        3     4     1     2       1        6  11  14  14  mathematics  \n",
       "99  ...        3     5     1     1       3        0   7   9   8  mathematics  \n",
       "\n",
       "[100 rows x 34 columns]"
      ]
     },
     "execution_count": 34,
     "metadata": {},
     "output_type": "execute_result"
    }
   ],
   "source": [
    "data.head(100)"
   ]
  },
  {
   "cell_type": "code",
   "execution_count": 35,
   "id": "5d8f9d16-0ad4-46b9-9adf-b7fc8d591b33",
   "metadata": {},
   "outputs": [
    {
     "name": "stdout",
     "output_type": "stream",
     "text": [
      "G3            1.000000\n",
      "G2            0.910743\n",
      "G1            0.809142\n",
      "Medu          0.201472\n",
      "studytime     0.161629\n",
      "Fedu          0.159796\n",
      "famrel        0.054461\n",
      "absences     -0.045671\n",
      "freetime     -0.064890\n",
      "health       -0.080079\n",
      "goout        -0.097877\n",
      "traveltime   -0.102627\n",
      "Walc         -0.115740\n",
      "age          -0.125282\n",
      "Dalc         -0.129642\n",
      "failures     -0.383145\n",
      "Name: G3, dtype: float64\n"
     ]
    }
   ],
   "source": [
    "#Checking correlation between the final grade and the features\n",
    "\n",
    "print(data.corr()['G3'].sort_values(ascending=False))\n"
   ]
  },
  {
   "cell_type": "code",
   "execution_count": 36,
   "id": "c1f4ea11-0f85-48d5-b46b-1129bf26366e",
   "metadata": {},
   "outputs": [
    {
     "data": {
      "image/png": "[encoded data removed]",
      "text/plain": [
       "<Figure size 1080x576 with 2 Axes>"
      ]
     },
     "metadata": {
      "needs_background": "light"
     },
     "output_type": "display_data"
    }
   ],
   "source": [
    "#plotting a heatmap to depict variable correlation\n",
    "plt.figure(figsize=(15, 8))\n",
    "sns.heatmap(data.corr(), annot= True, fmt= '.2f', cmap = 'Blues' )\n",
    "plt.title('Student Perfomance Correlation', fontdict= {'fontsize': 15, 'fontweight': 'bold'})\n",
    "plt.show()"
   ]
  },
  {
   "cell_type": "markdown",
   "id": "12b7ad3c-2872-473c-a908-db69d6315285",
   "metadata": {},
   "source": [
    "* **G1** and **G2** is observed to have a very high positive correlation with the final grade G3 this means that the first and second period grades greatly influences the outcome of the final grade.\n",
    "* Mothe's education(Medu), Studytime and Father's education(Fedu) are also positively correlated with teh final grade G3.\n",
    "* Although there is a correlation between family relationship(famrel) and the final grade, it doesn't really have much impact on the final grade.\n",
    "* Number of past class failures has a negative correlation with the final grade thus, it would mean that as the number of past failures increases, the final grade would also tend to decrease.\n"
   ]
  },
  {
   "cell_type": "markdown",
   "id": "a52899b6-dd2c-41e3-8c7e-d2f7b727ed72",
   "metadata": {},
   "source": [
    "***\n",
    "# Data Preprocessing\n",
    "***"
   ]
  },
  {
   "cell_type": "markdown",
   "id": "61d0b95b-95bf-443f-b8d6-d9443449cc40",
   "metadata": {},
   "source": [
    "**Encoding the categorical variables**"
   ]
  },
  {
   "cell_type": "code",
   "execution_count": 37,
   "id": "39d3d7e9-5a2c-4ea5-b08b-42ff717d8392",
   "metadata": {},
   "outputs": [
    {
     "data": {
      "text/plain": [
       "Index(['school', 'sex', 'age', 'address', 'famsize', 'Pstatus', 'Medu', 'Fedu',\n",
       "       'Mjob', 'Fjob', 'reason', 'guardian', 'traveltime', 'studytime',\n",
       "       'failures', 'schoolsup', 'famsup', 'paid', 'activities', 'nursery',\n",
       "       'higher', 'internet', 'romantic', 'famrel', 'freetime', 'goout', 'Dalc',\n",
       "       'Walc', 'health', 'absences', 'G1', 'G2', 'G3', 'subject'],\n",
       "      dtype='object')"
      ]
     },
     "execution_count": 37,
     "metadata": {},
     "output_type": "execute_result"
    }
   ],
   "source": [
    "data.columns"
   ]
  },
  {
   "cell_type": "code",
   "execution_count": 38,
   "id": "e6e99af6-2ea4-4246-912b-4c43463c4c0f",
   "metadata": {},
   "outputs": [],
   "source": [
    "from sklearn.preprocessing import LabelEncoder, StandardScaler\n",
    "le = LabelEncoder()"
   ]
  },
  {
   "cell_type": "code",
   "execution_count": 39,
   "id": "8905c6ad-5fd6-410e-b7e2-378df7d4d0aa",
   "metadata": {},
   "outputs": [],
   "source": [
    "#encoding the categorical variables\n",
    "encod_data = data.drop('subject', axis = 1)\n",
    "cat = ['school', 'sex', 'address', 'famsize', 'Pstatus', 'Mjob', 'Fjob','reason', 'guardian', \n",
    "       'schoolsup', 'famsup', 'paid', 'activities', 'nursery','higher', 'internet', 'romantic']\n",
    "\n",
    "encod_data[cat] = encod_data[cat].apply(le.fit_transform)"
   ]
  },
  {
   "cell_type": "code",
   "execution_count": 40,
   "id": "df511a46-3e8a-43f4-9d0a-470578a64d51",
   "metadata": {},
   "outputs": [
    {
     "data": {
      "text/html": [
       "<div>\n",
       "<style scoped>\n",
       "    .dataframe tbody tr th:only-of-type {\n",
       "        vertical-align: middle;\n",
       "    }\n",
       "\n",
       "    .dataframe tbody tr th {\n",
       "        vertical-align: top;\n",
       "    }\n",
       "\n",
       "    .dataframe thead th {\n",
       "        text-align: right;\n",
       "    }\n",
       "</style>\n",
       "<table border=\"1\" class=\"dataframe\">\n",
       "  <thead>\n",
       "    <tr style=\"text-align: right;\">\n",
       "      <th></th>\n",
       "      <th>school</th>\n",
       "      <th>sex</th>\n",
       "      <th>age</th>\n",
       "      <th>address</th>\n",
       "      <th>famsize</th>\n",
       "      <th>Pstatus</th>\n",
       "      <th>Medu</th>\n",
       "      <th>Fedu</th>\n",
       "      <th>Mjob</th>\n",
       "      <th>Fjob</th>\n",
       "      <th>...</th>\n",
       "      <th>famrel</th>\n",
       "      <th>freetime</th>\n",
       "      <th>goout</th>\n",
       "      <th>Dalc</th>\n",
       "      <th>Walc</th>\n",
       "      <th>health</th>\n",
       "      <th>absences</th>\n",
       "      <th>G1</th>\n",
       "      <th>G2</th>\n",
       "      <th>G3</th>\n",
       "    </tr>\n",
       "  </thead>\n",
       "  <tbody>\n",
       "    <tr>\n",
       "      <th>0</th>\n",
       "      <td>0</td>\n",
       "      <td>0</td>\n",
       "      <td>18</td>\n",
       "      <td>1</td>\n",
       "      <td>0</td>\n",
       "      <td>0</td>\n",
       "      <td>4</td>\n",
       "      <td>4</td>\n",
       "      <td>0</td>\n",
       "      <td>4</td>\n",
       "      <td>...</td>\n",
       "      <td>4</td>\n",
       "      <td>3</td>\n",
       "      <td>4</td>\n",
       "      <td>1</td>\n",
       "      <td>1</td>\n",
       "      <td>3</td>\n",
       "      <td>6</td>\n",
       "      <td>5</td>\n",
       "      <td>6</td>\n",
       "      <td>6</td>\n",
       "    </tr>\n",
       "    <tr>\n",
       "      <th>1</th>\n",
       "      <td>0</td>\n",
       "      <td>0</td>\n",
       "      <td>17</td>\n",
       "      <td>1</td>\n",
       "      <td>0</td>\n",
       "      <td>1</td>\n",
       "      <td>1</td>\n",
       "      <td>1</td>\n",
       "      <td>0</td>\n",
       "      <td>2</td>\n",
       "      <td>...</td>\n",
       "      <td>5</td>\n",
       "      <td>3</td>\n",
       "      <td>3</td>\n",
       "      <td>1</td>\n",
       "      <td>1</td>\n",
       "      <td>3</td>\n",
       "      <td>4</td>\n",
       "      <td>5</td>\n",
       "      <td>5</td>\n",
       "      <td>6</td>\n",
       "    </tr>\n",
       "    <tr>\n",
       "      <th>2</th>\n",
       "      <td>0</td>\n",
       "      <td>0</td>\n",
       "      <td>15</td>\n",
       "      <td>1</td>\n",
       "      <td>1</td>\n",
       "      <td>1</td>\n",
       "      <td>1</td>\n",
       "      <td>1</td>\n",
       "      <td>0</td>\n",
       "      <td>2</td>\n",
       "      <td>...</td>\n",
       "      <td>4</td>\n",
       "      <td>3</td>\n",
       "      <td>2</td>\n",
       "      <td>2</td>\n",
       "      <td>3</td>\n",
       "      <td>3</td>\n",
       "      <td>10</td>\n",
       "      <td>7</td>\n",
       "      <td>8</td>\n",
       "      <td>10</td>\n",
       "    </tr>\n",
       "    <tr>\n",
       "      <th>3</th>\n",
       "      <td>0</td>\n",
       "      <td>0</td>\n",
       "      <td>15</td>\n",
       "      <td>1</td>\n",
       "      <td>0</td>\n",
       "      <td>1</td>\n",
       "      <td>4</td>\n",
       "      <td>2</td>\n",
       "      <td>1</td>\n",
       "      <td>3</td>\n",
       "      <td>...</td>\n",
       "      <td>3</td>\n",
       "      <td>2</td>\n",
       "      <td>2</td>\n",
       "      <td>1</td>\n",
       "      <td>1</td>\n",
       "      <td>5</td>\n",
       "      <td>2</td>\n",
       "      <td>15</td>\n",
       "      <td>14</td>\n",
       "      <td>15</td>\n",
       "    </tr>\n",
       "    <tr>\n",
       "      <th>4</th>\n",
       "      <td>0</td>\n",
       "      <td>0</td>\n",
       "      <td>16</td>\n",
       "      <td>1</td>\n",
       "      <td>0</td>\n",
       "      <td>1</td>\n",
       "      <td>3</td>\n",
       "      <td>3</td>\n",
       "      <td>2</td>\n",
       "      <td>2</td>\n",
       "      <td>...</td>\n",
       "      <td>4</td>\n",
       "      <td>3</td>\n",
       "      <td>2</td>\n",
       "      <td>1</td>\n",
       "      <td>2</td>\n",
       "      <td>5</td>\n",
       "      <td>4</td>\n",
       "      <td>6</td>\n",
       "      <td>10</td>\n",
       "      <td>10</td>\n",
       "    </tr>\n",
       "    <tr>\n",
       "      <th>5</th>\n",
       "      <td>0</td>\n",
       "      <td>1</td>\n",
       "      <td>16</td>\n",
       "      <td>1</td>\n",
       "      <td>1</td>\n",
       "      <td>1</td>\n",
       "      <td>4</td>\n",
       "      <td>3</td>\n",
       "      <td>3</td>\n",
       "      <td>2</td>\n",
       "      <td>...</td>\n",
       "      <td>5</td>\n",
       "      <td>4</td>\n",
       "      <td>2</td>\n",
       "      <td>1</td>\n",
       "      <td>2</td>\n",
       "      <td>5</td>\n",
       "      <td>10</td>\n",
       "      <td>15</td>\n",
       "      <td>15</td>\n",
       "      <td>15</td>\n",
       "    </tr>\n",
       "    <tr>\n",
       "      <th>6</th>\n",
       "      <td>0</td>\n",
       "      <td>1</td>\n",
       "      <td>16</td>\n",
       "      <td>1</td>\n",
       "      <td>1</td>\n",
       "      <td>1</td>\n",
       "      <td>2</td>\n",
       "      <td>2</td>\n",
       "      <td>2</td>\n",
       "      <td>2</td>\n",
       "      <td>...</td>\n",
       "      <td>4</td>\n",
       "      <td>4</td>\n",
       "      <td>4</td>\n",
       "      <td>1</td>\n",
       "      <td>1</td>\n",
       "      <td>3</td>\n",
       "      <td>0</td>\n",
       "      <td>12</td>\n",
       "      <td>12</td>\n",
       "      <td>11</td>\n",
       "    </tr>\n",
       "    <tr>\n",
       "      <th>7</th>\n",
       "      <td>0</td>\n",
       "      <td>0</td>\n",
       "      <td>17</td>\n",
       "      <td>1</td>\n",
       "      <td>0</td>\n",
       "      <td>0</td>\n",
       "      <td>4</td>\n",
       "      <td>4</td>\n",
       "      <td>2</td>\n",
       "      <td>4</td>\n",
       "      <td>...</td>\n",
       "      <td>4</td>\n",
       "      <td>1</td>\n",
       "      <td>4</td>\n",
       "      <td>1</td>\n",
       "      <td>1</td>\n",
       "      <td>1</td>\n",
       "      <td>6</td>\n",
       "      <td>6</td>\n",
       "      <td>5</td>\n",
       "      <td>6</td>\n",
       "    </tr>\n",
       "    <tr>\n",
       "      <th>8</th>\n",
       "      <td>0</td>\n",
       "      <td>1</td>\n",
       "      <td>15</td>\n",
       "      <td>1</td>\n",
       "      <td>1</td>\n",
       "      <td>0</td>\n",
       "      <td>3</td>\n",
       "      <td>2</td>\n",
       "      <td>3</td>\n",
       "      <td>2</td>\n",
       "      <td>...</td>\n",
       "      <td>4</td>\n",
       "      <td>2</td>\n",
       "      <td>2</td>\n",
       "      <td>1</td>\n",
       "      <td>1</td>\n",
       "      <td>1</td>\n",
       "      <td>0</td>\n",
       "      <td>16</td>\n",
       "      <td>18</td>\n",
       "      <td>19</td>\n",
       "    </tr>\n",
       "    <tr>\n",
       "      <th>9</th>\n",
       "      <td>0</td>\n",
       "      <td>1</td>\n",
       "      <td>15</td>\n",
       "      <td>1</td>\n",
       "      <td>0</td>\n",
       "      <td>1</td>\n",
       "      <td>3</td>\n",
       "      <td>4</td>\n",
       "      <td>2</td>\n",
       "      <td>2</td>\n",
       "      <td>...</td>\n",
       "      <td>5</td>\n",
       "      <td>5</td>\n",
       "      <td>1</td>\n",
       "      <td>1</td>\n",
       "      <td>1</td>\n",
       "      <td>5</td>\n",
       "      <td>0</td>\n",
       "      <td>14</td>\n",
       "      <td>15</td>\n",
       "      <td>15</td>\n",
       "    </tr>\n",
       "  </tbody>\n",
       "</table>\n",
       "<p>10 rows × 33 columns</p>\n",
       "</div>"
      ],
      "text/plain": [
       "   school  sex  age  address  famsize  Pstatus  Medu  Fedu  Mjob  Fjob  ...  \\\n",
       "0       0    0   18        1        0        0     4     4     0     4  ...   \n",
       "1       0    0   17        1        0        1     1     1     0     2  ...   \n",
       "2       0    0   15        1        1        1     1     1     0     2  ...   \n",
       "3       0    0   15        1        0        1     4     2     1     3  ...   \n",
       "4       0    0   16        1        0        1     3     3     2     2  ...   \n",
       "5       0    1   16        1        1        1     4     3     3     2  ...   \n",
       "6       0    1   16        1        1        1     2     2     2     2  ...   \n",
       "7       0    0   17        1        0        0     4     4     2     4  ...   \n",
       "8       0    1   15        1        1        0     3     2     3     2  ...   \n",
       "9       0    1   15        1        0        1     3     4     2     2  ...   \n",
       "\n",
       "   famrel  freetime  goout  Dalc  Walc  health  absences  G1  G2  G3  \n",
       "0       4         3      4     1     1       3         6   5   6   6  \n",
       "1       5         3      3     1     1       3         4   5   5   6  \n",
       "2       4         3      2     2     3       3        10   7   8  10  \n",
       "3       3         2      2     1     1       5         2  15  14  15  \n",
       "4       4         3      2     1     2       5         4   6  10  10  \n",
       "5       5         4      2     1     2       5        10  15  15  15  \n",
       "6       4         4      4     1     1       3         0  12  12  11  \n",
       "7       4         1      4     1     1       1         6   6   5   6  \n",
       "8       4         2      2     1     1       1         0  16  18  19  \n",
       "9       5         5      1     1     1       5         0  14  15  15  \n",
       "\n",
       "[10 rows x 33 columns]"
      ]
     },
     "execution_count": 40,
     "metadata": {},
     "output_type": "execute_result"
    }
   ],
   "source": [
    "encod_data.head(10)"
   ]
  },
  {
   "cell_type": "code",
   "execution_count": 41,
   "id": "da5262dc-d09d-4ca9-94e6-7183d450678a",
   "metadata": {},
   "outputs": [
    {
     "data": {
      "text/html": [
       "<div>\n",
       "<style scoped>\n",
       "    .dataframe tbody tr th:only-of-type {\n",
       "        vertical-align: middle;\n",
       "    }\n",
       "\n",
       "    .dataframe tbody tr th {\n",
       "        vertical-align: top;\n",
       "    }\n",
       "\n",
       "    .dataframe thead th {\n",
       "        text-align: right;\n",
       "    }\n",
       "</style>\n",
       "<table border=\"1\" class=\"dataframe\">\n",
       "  <thead>\n",
       "    <tr style=\"text-align: right;\">\n",
       "      <th></th>\n",
       "      <th>school</th>\n",
       "      <th>sex</th>\n",
       "      <th>age</th>\n",
       "      <th>address</th>\n",
       "      <th>famsize</th>\n",
       "      <th>Pstatus</th>\n",
       "      <th>Medu</th>\n",
       "      <th>Fedu</th>\n",
       "      <th>Mjob</th>\n",
       "      <th>Fjob</th>\n",
       "      <th>...</th>\n",
       "      <th>famrel</th>\n",
       "      <th>freetime</th>\n",
       "      <th>goout</th>\n",
       "      <th>Dalc</th>\n",
       "      <th>Walc</th>\n",
       "      <th>health</th>\n",
       "      <th>absences</th>\n",
       "      <th>G1</th>\n",
       "      <th>G2</th>\n",
       "      <th>G3</th>\n",
       "    </tr>\n",
       "  </thead>\n",
       "  <tbody>\n",
       "    <tr>\n",
       "      <th>1034</th>\n",
       "      <td>1</td>\n",
       "      <td>1</td>\n",
       "      <td>19</td>\n",
       "      <td>0</td>\n",
       "      <td>0</td>\n",
       "      <td>1</td>\n",
       "      <td>1</td>\n",
       "      <td>1</td>\n",
       "      <td>2</td>\n",
       "      <td>3</td>\n",
       "      <td>...</td>\n",
       "      <td>4</td>\n",
       "      <td>3</td>\n",
       "      <td>2</td>\n",
       "      <td>1</td>\n",
       "      <td>3</td>\n",
       "      <td>5</td>\n",
       "      <td>0</td>\n",
       "      <td>5</td>\n",
       "      <td>8</td>\n",
       "      <td>0</td>\n",
       "    </tr>\n",
       "    <tr>\n",
       "      <th>1035</th>\n",
       "      <td>1</td>\n",
       "      <td>1</td>\n",
       "      <td>18</td>\n",
       "      <td>0</td>\n",
       "      <td>0</td>\n",
       "      <td>1</td>\n",
       "      <td>4</td>\n",
       "      <td>2</td>\n",
       "      <td>2</td>\n",
       "      <td>2</td>\n",
       "      <td>...</td>\n",
       "      <td>5</td>\n",
       "      <td>4</td>\n",
       "      <td>3</td>\n",
       "      <td>4</td>\n",
       "      <td>3</td>\n",
       "      <td>3</td>\n",
       "      <td>0</td>\n",
       "      <td>7</td>\n",
       "      <td>7</td>\n",
       "      <td>0</td>\n",
       "    </tr>\n",
       "    <tr>\n",
       "      <th>1036</th>\n",
       "      <td>1</td>\n",
       "      <td>0</td>\n",
       "      <td>18</td>\n",
       "      <td>0</td>\n",
       "      <td>0</td>\n",
       "      <td>1</td>\n",
       "      <td>2</td>\n",
       "      <td>2</td>\n",
       "      <td>0</td>\n",
       "      <td>2</td>\n",
       "      <td>...</td>\n",
       "      <td>5</td>\n",
       "      <td>3</td>\n",
       "      <td>3</td>\n",
       "      <td>1</td>\n",
       "      <td>3</td>\n",
       "      <td>4</td>\n",
       "      <td>0</td>\n",
       "      <td>14</td>\n",
       "      <td>17</td>\n",
       "      <td>15</td>\n",
       "    </tr>\n",
       "    <tr>\n",
       "      <th>1037</th>\n",
       "      <td>1</td>\n",
       "      <td>0</td>\n",
       "      <td>17</td>\n",
       "      <td>1</td>\n",
       "      <td>0</td>\n",
       "      <td>1</td>\n",
       "      <td>4</td>\n",
       "      <td>3</td>\n",
       "      <td>4</td>\n",
       "      <td>2</td>\n",
       "      <td>...</td>\n",
       "      <td>5</td>\n",
       "      <td>5</td>\n",
       "      <td>4</td>\n",
       "      <td>1</td>\n",
       "      <td>1</td>\n",
       "      <td>1</td>\n",
       "      <td>0</td>\n",
       "      <td>6</td>\n",
       "      <td>9</td>\n",
       "      <td>11</td>\n",
       "    </tr>\n",
       "    <tr>\n",
       "      <th>1038</th>\n",
       "      <td>1</td>\n",
       "      <td>0</td>\n",
       "      <td>18</td>\n",
       "      <td>0</td>\n",
       "      <td>0</td>\n",
       "      <td>1</td>\n",
       "      <td>4</td>\n",
       "      <td>4</td>\n",
       "      <td>4</td>\n",
       "      <td>0</td>\n",
       "      <td>...</td>\n",
       "      <td>4</td>\n",
       "      <td>4</td>\n",
       "      <td>3</td>\n",
       "      <td>2</td>\n",
       "      <td>2</td>\n",
       "      <td>5</td>\n",
       "      <td>4</td>\n",
       "      <td>7</td>\n",
       "      <td>9</td>\n",
       "      <td>10</td>\n",
       "    </tr>\n",
       "    <tr>\n",
       "      <th>1039</th>\n",
       "      <td>1</td>\n",
       "      <td>0</td>\n",
       "      <td>19</td>\n",
       "      <td>0</td>\n",
       "      <td>0</td>\n",
       "      <td>1</td>\n",
       "      <td>2</td>\n",
       "      <td>3</td>\n",
       "      <td>3</td>\n",
       "      <td>2</td>\n",
       "      <td>...</td>\n",
       "      <td>5</td>\n",
       "      <td>4</td>\n",
       "      <td>2</td>\n",
       "      <td>1</td>\n",
       "      <td>2</td>\n",
       "      <td>5</td>\n",
       "      <td>4</td>\n",
       "      <td>10</td>\n",
       "      <td>11</td>\n",
       "      <td>10</td>\n",
       "    </tr>\n",
       "    <tr>\n",
       "      <th>1040</th>\n",
       "      <td>1</td>\n",
       "      <td>0</td>\n",
       "      <td>18</td>\n",
       "      <td>1</td>\n",
       "      <td>1</td>\n",
       "      <td>1</td>\n",
       "      <td>3</td>\n",
       "      <td>1</td>\n",
       "      <td>4</td>\n",
       "      <td>3</td>\n",
       "      <td>...</td>\n",
       "      <td>4</td>\n",
       "      <td>3</td>\n",
       "      <td>4</td>\n",
       "      <td>1</td>\n",
       "      <td>1</td>\n",
       "      <td>1</td>\n",
       "      <td>4</td>\n",
       "      <td>15</td>\n",
       "      <td>15</td>\n",
       "      <td>16</td>\n",
       "    </tr>\n",
       "    <tr>\n",
       "      <th>1041</th>\n",
       "      <td>1</td>\n",
       "      <td>0</td>\n",
       "      <td>18</td>\n",
       "      <td>1</td>\n",
       "      <td>0</td>\n",
       "      <td>1</td>\n",
       "      <td>1</td>\n",
       "      <td>1</td>\n",
       "      <td>2</td>\n",
       "      <td>2</td>\n",
       "      <td>...</td>\n",
       "      <td>1</td>\n",
       "      <td>1</td>\n",
       "      <td>1</td>\n",
       "      <td>1</td>\n",
       "      <td>1</td>\n",
       "      <td>5</td>\n",
       "      <td>6</td>\n",
       "      <td>11</td>\n",
       "      <td>12</td>\n",
       "      <td>9</td>\n",
       "    </tr>\n",
       "    <tr>\n",
       "      <th>1042</th>\n",
       "      <td>1</td>\n",
       "      <td>1</td>\n",
       "      <td>17</td>\n",
       "      <td>1</td>\n",
       "      <td>1</td>\n",
       "      <td>1</td>\n",
       "      <td>3</td>\n",
       "      <td>1</td>\n",
       "      <td>3</td>\n",
       "      <td>3</td>\n",
       "      <td>...</td>\n",
       "      <td>2</td>\n",
       "      <td>4</td>\n",
       "      <td>5</td>\n",
       "      <td>3</td>\n",
       "      <td>4</td>\n",
       "      <td>2</td>\n",
       "      <td>6</td>\n",
       "      <td>10</td>\n",
       "      <td>10</td>\n",
       "      <td>10</td>\n",
       "    </tr>\n",
       "    <tr>\n",
       "      <th>1043</th>\n",
       "      <td>1</td>\n",
       "      <td>1</td>\n",
       "      <td>18</td>\n",
       "      <td>0</td>\n",
       "      <td>1</td>\n",
       "      <td>1</td>\n",
       "      <td>3</td>\n",
       "      <td>2</td>\n",
       "      <td>3</td>\n",
       "      <td>2</td>\n",
       "      <td>...</td>\n",
       "      <td>4</td>\n",
       "      <td>4</td>\n",
       "      <td>1</td>\n",
       "      <td>3</td>\n",
       "      <td>4</td>\n",
       "      <td>5</td>\n",
       "      <td>4</td>\n",
       "      <td>10</td>\n",
       "      <td>11</td>\n",
       "      <td>11</td>\n",
       "    </tr>\n",
       "  </tbody>\n",
       "</table>\n",
       "<p>10 rows × 33 columns</p>\n",
       "</div>"
      ],
      "text/plain": [
       "      school  sex  age  address  famsize  Pstatus  Medu  Fedu  Mjob  Fjob  \\\n",
       "1034       1    1   19        0        0        1     1     1     2     3   \n",
       "1035       1    1   18        0        0        1     4     2     2     2   \n",
       "1036       1    0   18        0        0        1     2     2     0     2   \n",
       "1037       1    0   17        1        0        1     4     3     4     2   \n",
       "1038       1    0   18        0        0        1     4     4     4     0   \n",
       "1039       1    0   19        0        0        1     2     3     3     2   \n",
       "1040       1    0   18        1        1        1     3     1     4     3   \n",
       "1041       1    0   18        1        0        1     1     1     2     2   \n",
       "1042       1    1   17        1        1        1     3     1     3     3   \n",
       "1043       1    1   18        0        1        1     3     2     3     2   \n",
       "\n",
       "      ...  famrel  freetime  goout  Dalc  Walc  health  absences  G1  G2  G3  \n",
       "1034  ...       4         3      2     1     3       5         0   5   8   0  \n",
       "1035  ...       5         4      3     4     3       3         0   7   7   0  \n",
       "1036  ...       5         3      3     1     3       4         0  14  17  15  \n",
       "1037  ...       5         5      4     1     1       1         0   6   9  11  \n",
       "1038  ...       4         4      3     2     2       5         4   7   9  10  \n",
       "1039  ...       5         4      2     1     2       5         4  10  11  10  \n",
       "1040  ...       4         3      4     1     1       1         4  15  15  16  \n",
       "1041  ...       1         1      1     1     1       5         6  11  12   9  \n",
       "1042  ...       2         4      5     3     4       2         6  10  10  10  \n",
       "1043  ...       4         4      1     3     4       5         4  10  11  11  \n",
       "\n",
       "[10 rows x 33 columns]"
      ]
     },
     "execution_count": 41,
     "metadata": {},
     "output_type": "execute_result"
    }
   ],
   "source": [
    "encod_data.tail(10)"
   ]
  },
  {
   "cell_type": "code",
   "execution_count": 42,
   "id": "bd004d01-b475-487c-b541-18697dab44bc",
   "metadata": {},
   "outputs": [
    {
     "data": {
      "text/plain": [
       "int64    33\n",
       "dtype: int64"
      ]
     },
     "execution_count": 42,
     "metadata": {},
     "output_type": "execute_result"
    }
   ],
   "source": [
    "encod_data.dtypes.value_counts()"
   ]
  },
  {
   "cell_type": "markdown",
   "id": "c0c6ebab-b699-4908-9fe7-3822ebc97530",
   "metadata": {},
   "source": [
    "The variables in the dataset are now in the **int64** datatype and can properly fit into a machine learning model"
   ]
  },
  {
   "cell_type": "code",
   "execution_count": null,
   "id": "a7120f22-e9f0-4746-85ba-c6759bd42716",
   "metadata": {},
   "outputs": [],
   "source": []
  },
  {
   "cell_type": "markdown",
   "id": "1e930708-2898-4aed-9967-e8acb0898ab8",
   "metadata": {},
   "source": [
    "## Splitting the data"
   ]
  },
  {
   "cell_type": "code",
   "execution_count": 43,
   "id": "5aa73c22-025c-4a0a-aad4-3426f0426850",
   "metadata": {},
   "outputs": [
    {
     "data": {
      "text/html": [
       "<div>\n",
       "<style scoped>\n",
       "    .dataframe tbody tr th:only-of-type {\n",
       "        vertical-align: middle;\n",
       "    }\n",
       "\n",
       "    .dataframe tbody tr th {\n",
       "        vertical-align: top;\n",
       "    }\n",
       "\n",
       "    .dataframe thead th {\n",
       "        text-align: right;\n",
       "    }\n",
       "</style>\n",
       "<table border=\"1\" class=\"dataframe\">\n",
       "  <thead>\n",
       "    <tr style=\"text-align: right;\">\n",
       "      <th></th>\n",
       "      <th>school</th>\n",
       "      <th>sex</th>\n",
       "      <th>age</th>\n",
       "      <th>address</th>\n",
       "      <th>famsize</th>\n",
       "      <th>Pstatus</th>\n",
       "      <th>Medu</th>\n",
       "      <th>Fedu</th>\n",
       "      <th>Mjob</th>\n",
       "      <th>Fjob</th>\n",
       "      <th>...</th>\n",
       "      <th>romantic</th>\n",
       "      <th>famrel</th>\n",
       "      <th>freetime</th>\n",
       "      <th>goout</th>\n",
       "      <th>Dalc</th>\n",
       "      <th>Walc</th>\n",
       "      <th>health</th>\n",
       "      <th>absences</th>\n",
       "      <th>G1</th>\n",
       "      <th>G2</th>\n",
       "    </tr>\n",
       "  </thead>\n",
       "  <tbody>\n",
       "    <tr>\n",
       "      <th>0</th>\n",
       "      <td>0</td>\n",
       "      <td>0</td>\n",
       "      <td>18</td>\n",
       "      <td>1</td>\n",
       "      <td>0</td>\n",
       "      <td>0</td>\n",
       "      <td>4</td>\n",
       "      <td>4</td>\n",
       "      <td>0</td>\n",
       "      <td>4</td>\n",
       "      <td>...</td>\n",
       "      <td>0</td>\n",
       "      <td>4</td>\n",
       "      <td>3</td>\n",
       "      <td>4</td>\n",
       "      <td>1</td>\n",
       "      <td>1</td>\n",
       "      <td>3</td>\n",
       "      <td>6</td>\n",
       "      <td>5</td>\n",
       "      <td>6</td>\n",
       "    </tr>\n",
       "    <tr>\n",
       "      <th>1</th>\n",
       "      <td>0</td>\n",
       "      <td>0</td>\n",
       "      <td>17</td>\n",
       "      <td>1</td>\n",
       "      <td>0</td>\n",
       "      <td>1</td>\n",
       "      <td>1</td>\n",
       "      <td>1</td>\n",
       "      <td>0</td>\n",
       "      <td>2</td>\n",
       "      <td>...</td>\n",
       "      <td>0</td>\n",
       "      <td>5</td>\n",
       "      <td>3</td>\n",
       "      <td>3</td>\n",
       "      <td>1</td>\n",
       "      <td>1</td>\n",
       "      <td>3</td>\n",
       "      <td>4</td>\n",
       "      <td>5</td>\n",
       "      <td>5</td>\n",
       "    </tr>\n",
       "    <tr>\n",
       "      <th>2</th>\n",
       "      <td>0</td>\n",
       "      <td>0</td>\n",
       "      <td>15</td>\n",
       "      <td>1</td>\n",
       "      <td>1</td>\n",
       "      <td>1</td>\n",
       "      <td>1</td>\n",
       "      <td>1</td>\n",
       "      <td>0</td>\n",
       "      <td>2</td>\n",
       "      <td>...</td>\n",
       "      <td>0</td>\n",
       "      <td>4</td>\n",
       "      <td>3</td>\n",
       "      <td>2</td>\n",
       "      <td>2</td>\n",
       "      <td>3</td>\n",
       "      <td>3</td>\n",
       "      <td>10</td>\n",
       "      <td>7</td>\n",
       "      <td>8</td>\n",
       "    </tr>\n",
       "    <tr>\n",
       "      <th>3</th>\n",
       "      <td>0</td>\n",
       "      <td>0</td>\n",
       "      <td>15</td>\n",
       "      <td>1</td>\n",
       "      <td>0</td>\n",
       "      <td>1</td>\n",
       "      <td>4</td>\n",
       "      <td>2</td>\n",
       "      <td>1</td>\n",
       "      <td>3</td>\n",
       "      <td>...</td>\n",
       "      <td>1</td>\n",
       "      <td>3</td>\n",
       "      <td>2</td>\n",
       "      <td>2</td>\n",
       "      <td>1</td>\n",
       "      <td>1</td>\n",
       "      <td>5</td>\n",
       "      <td>2</td>\n",
       "      <td>15</td>\n",
       "      <td>14</td>\n",
       "    </tr>\n",
       "    <tr>\n",
       "      <th>4</th>\n",
       "      <td>0</td>\n",
       "      <td>0</td>\n",
       "      <td>16</td>\n",
       "      <td>1</td>\n",
       "      <td>0</td>\n",
       "      <td>1</td>\n",
       "      <td>3</td>\n",
       "      <td>3</td>\n",
       "      <td>2</td>\n",
       "      <td>2</td>\n",
       "      <td>...</td>\n",
       "      <td>0</td>\n",
       "      <td>4</td>\n",
       "      <td>3</td>\n",
       "      <td>2</td>\n",
       "      <td>1</td>\n",
       "      <td>2</td>\n",
       "      <td>5</td>\n",
       "      <td>4</td>\n",
       "      <td>6</td>\n",
       "      <td>10</td>\n",
       "    </tr>\n",
       "  </tbody>\n",
       "</table>\n",
       "<p>5 rows × 32 columns</p>\n",
       "</div>"
      ],
      "text/plain": [
       "   school  sex  age  address  famsize  Pstatus  Medu  Fedu  Mjob  Fjob  ...  \\\n",
       "0       0    0   18        1        0        0     4     4     0     4  ...   \n",
       "1       0    0   17        1        0        1     1     1     0     2  ...   \n",
       "2       0    0   15        1        1        1     1     1     0     2  ...   \n",
       "3       0    0   15        1        0        1     4     2     1     3  ...   \n",
       "4       0    0   16        1        0        1     3     3     2     2  ...   \n",
       "\n",
       "   romantic  famrel  freetime  goout  Dalc  Walc  health  absences  G1  G2  \n",
       "0         0       4         3      4     1     1       3         6   5   6  \n",
       "1         0       5         3      3     1     1       3         4   5   5  \n",
       "2         0       4         3      2     2     3       3        10   7   8  \n",
       "3         1       3         2      2     1     1       5         2  15  14  \n",
       "4         0       4         3      2     1     2       5         4   6  10  \n",
       "\n",
       "[5 rows x 32 columns]"
      ]
     },
     "execution_count": 43,
     "metadata": {},
     "output_type": "execute_result"
    }
   ],
   "source": [
    "#Extracting the features as X\n",
    "X = encod_data.iloc[:, :-1]\n",
    "X.head()"
   ]
  },
  {
   "cell_type": "code",
   "execution_count": 44,
   "id": "30116659-bd13-4b4a-be21-d651fbe47a36",
   "metadata": {},
   "outputs": [
    {
     "data": {
      "text/plain": [
       "0        6\n",
       "1        6\n",
       "2       10\n",
       "3       15\n",
       "4       10\n",
       "        ..\n",
       "1039    10\n",
       "1040    16\n",
       "1041     9\n",
       "1042    10\n",
       "1043    11\n",
       "Name: G3, Length: 1044, dtype: int64"
      ]
     },
     "execution_count": 44,
     "metadata": {},
     "output_type": "execute_result"
    }
   ],
   "source": [
    "#Extracting the class as y\n",
    "y = encod_data.iloc[:, -1]\n",
    "y"
   ]
  },
  {
   "cell_type": "code",
   "execution_count": 45,
   "id": "2f4e2e36-4400-4036-b42c-20eaa8daa889",
   "metadata": {},
   "outputs": [],
   "source": [
    "from sklearn.model_selection import train_test_split"
   ]
  },
  {
   "cell_type": "code",
   "execution_count": 46,
   "id": "b9e93502-4fd3-4939-901a-ad1cd936634f",
   "metadata": {},
   "outputs": [],
   "source": [
    "#Splits the data into training and testing data\n",
    "X_train, X_test, y_train, y_test = train_test_split(X, y, test_size=0.2, random_state=100) "
   ]
  },
  {
   "cell_type": "markdown",
   "id": "8286f298-260f-4cb5-808e-2f3146da5d51",
   "metadata": {},
   "source": [
    "**80%** of the data would be used to train the machine learning models while **20%** of the dataset would be used to evaluate the models."
   ]
  },
  {
   "cell_type": "code",
   "execution_count": 47,
   "id": "ba38c1c5-953c-4006-a447-b4291141dd45",
   "metadata": {},
   "outputs": [
    {
     "data": {
      "text/html": [
       "<div>\n",
       "<style scoped>\n",
       "    .dataframe tbody tr th:only-of-type {\n",
       "        vertical-align: middle;\n",
       "    }\n",
       "\n",
       "    .dataframe tbody tr th {\n",
       "        vertical-align: top;\n",
       "    }\n",
       "\n",
       "    .dataframe thead th {\n",
       "        text-align: right;\n",
       "    }\n",
       "</style>\n",
       "<table border=\"1\" class=\"dataframe\">\n",
       "  <thead>\n",
       "    <tr style=\"text-align: right;\">\n",
       "      <th></th>\n",
       "      <th>school</th>\n",
       "      <th>sex</th>\n",
       "      <th>age</th>\n",
       "      <th>address</th>\n",
       "      <th>famsize</th>\n",
       "      <th>Pstatus</th>\n",
       "      <th>Medu</th>\n",
       "      <th>Fedu</th>\n",
       "      <th>Mjob</th>\n",
       "      <th>Fjob</th>\n",
       "      <th>...</th>\n",
       "      <th>romantic</th>\n",
       "      <th>famrel</th>\n",
       "      <th>freetime</th>\n",
       "      <th>goout</th>\n",
       "      <th>Dalc</th>\n",
       "      <th>Walc</th>\n",
       "      <th>health</th>\n",
       "      <th>absences</th>\n",
       "      <th>G1</th>\n",
       "      <th>G2</th>\n",
       "    </tr>\n",
       "  </thead>\n",
       "  <tbody>\n",
       "    <tr>\n",
       "      <th>588</th>\n",
       "      <td>0</td>\n",
       "      <td>1</td>\n",
       "      <td>17</td>\n",
       "      <td>1</td>\n",
       "      <td>0</td>\n",
       "      <td>1</td>\n",
       "      <td>4</td>\n",
       "      <td>3</td>\n",
       "      <td>2</td>\n",
       "      <td>2</td>\n",
       "      <td>...</td>\n",
       "      <td>1</td>\n",
       "      <td>5</td>\n",
       "      <td>2</td>\n",
       "      <td>3</td>\n",
       "      <td>1</td>\n",
       "      <td>1</td>\n",
       "      <td>2</td>\n",
       "      <td>4</td>\n",
       "      <td>11</td>\n",
       "      <td>11</td>\n",
       "    </tr>\n",
       "    <tr>\n",
       "      <th>549</th>\n",
       "      <td>0</td>\n",
       "      <td>0</td>\n",
       "      <td>16</td>\n",
       "      <td>1</td>\n",
       "      <td>1</td>\n",
       "      <td>1</td>\n",
       "      <td>1</td>\n",
       "      <td>1</td>\n",
       "      <td>0</td>\n",
       "      <td>0</td>\n",
       "      <td>...</td>\n",
       "      <td>0</td>\n",
       "      <td>3</td>\n",
       "      <td>4</td>\n",
       "      <td>4</td>\n",
       "      <td>3</td>\n",
       "      <td>3</td>\n",
       "      <td>1</td>\n",
       "      <td>4</td>\n",
       "      <td>10</td>\n",
       "      <td>11</td>\n",
       "    </tr>\n",
       "    <tr>\n",
       "      <th>1031</th>\n",
       "      <td>1</td>\n",
       "      <td>1</td>\n",
       "      <td>18</td>\n",
       "      <td>1</td>\n",
       "      <td>0</td>\n",
       "      <td>1</td>\n",
       "      <td>4</td>\n",
       "      <td>4</td>\n",
       "      <td>4</td>\n",
       "      <td>4</td>\n",
       "      <td>...</td>\n",
       "      <td>0</td>\n",
       "      <td>3</td>\n",
       "      <td>2</td>\n",
       "      <td>4</td>\n",
       "      <td>1</td>\n",
       "      <td>4</td>\n",
       "      <td>2</td>\n",
       "      <td>4</td>\n",
       "      <td>17</td>\n",
       "      <td>18</td>\n",
       "    </tr>\n",
       "    <tr>\n",
       "      <th>924</th>\n",
       "      <td>1</td>\n",
       "      <td>0</td>\n",
       "      <td>16</td>\n",
       "      <td>1</td>\n",
       "      <td>1</td>\n",
       "      <td>1</td>\n",
       "      <td>4</td>\n",
       "      <td>4</td>\n",
       "      <td>3</td>\n",
       "      <td>3</td>\n",
       "      <td>...</td>\n",
       "      <td>0</td>\n",
       "      <td>5</td>\n",
       "      <td>1</td>\n",
       "      <td>3</td>\n",
       "      <td>1</td>\n",
       "      <td>2</td>\n",
       "      <td>5</td>\n",
       "      <td>1</td>\n",
       "      <td>11</td>\n",
       "      <td>11</td>\n",
       "    </tr>\n",
       "    <tr>\n",
       "      <th>269</th>\n",
       "      <td>0</td>\n",
       "      <td>0</td>\n",
       "      <td>18</td>\n",
       "      <td>0</td>\n",
       "      <td>0</td>\n",
       "      <td>1</td>\n",
       "      <td>2</td>\n",
       "      <td>1</td>\n",
       "      <td>2</td>\n",
       "      <td>2</td>\n",
       "      <td>...</td>\n",
       "      <td>1</td>\n",
       "      <td>4</td>\n",
       "      <td>3</td>\n",
       "      <td>5</td>\n",
       "      <td>1</td>\n",
       "      <td>2</td>\n",
       "      <td>3</td>\n",
       "      <td>0</td>\n",
       "      <td>6</td>\n",
       "      <td>0</td>\n",
       "    </tr>\n",
       "  </tbody>\n",
       "</table>\n",
       "<p>5 rows × 32 columns</p>\n",
       "</div>"
      ],
      "text/plain": [
       "      school  sex  age  address  famsize  Pstatus  Medu  Fedu  Mjob  Fjob  \\\n",
       "588        0    1   17        1        0        1     4     3     2     2   \n",
       "549        0    0   16        1        1        1     1     1     0     0   \n",
       "1031       1    1   18        1        0        1     4     4     4     4   \n",
       "924        1    0   16        1        1        1     4     4     3     3   \n",
       "269        0    0   18        0        0        1     2     1     2     2   \n",
       "\n",
       "      ...  romantic  famrel  freetime  goout  Dalc  Walc  health  absences  \\\n",
       "588   ...         1       5         2      3     1     1       2         4   \n",
       "549   ...         0       3         4      4     3     3       1         4   \n",
       "1031  ...         0       3         2      4     1     4       2         4   \n",
       "924   ...         0       5         1      3     1     2       5         1   \n",
       "269   ...         1       4         3      5     1     2       3         0   \n",
       "\n",
       "      G1  G2  \n",
       "588   11  11  \n",
       "549   10  11  \n",
       "1031  17  18  \n",
       "924   11  11  \n",
       "269    6   0  \n",
       "\n",
       "[5 rows x 32 columns]"
      ]
     },
     "execution_count": 47,
     "metadata": {},
     "output_type": "execute_result"
    }
   ],
   "source": [
    "#review a sample of the train data\n",
    "X_train[:5]"
   ]
  },
  {
   "cell_type": "markdown",
   "id": "13a972d2-f9f8-457e-b4f2-10bcccbdb5a0",
   "metadata": {},
   "source": [
    "***\n",
    "***\n",
    "# Model Evaluation\n",
    "***"
   ]
  },
  {
   "cell_type": "markdown",
   "id": "d1e5695e-6718-40bf-8c01-4b8f7472e31e",
   "metadata": {},
   "source": [
    "## 1. Regression\n",
    "***"
   ]
  },
  {
   "cell_type": "markdown",
   "id": "986b4e58-37e0-41d0-8832-8fc8192dae13",
   "metadata": {},
   "source": [
    "### Model Evaluation Using Random Forest Regression"
   ]
  },
  {
   "cell_type": "code",
   "execution_count": 48,
   "id": "6a500ccc-b385-4af0-9e57-feeb6655bbbc",
   "metadata": {},
   "outputs": [],
   "source": [
    "from sklearn.ensemble import RandomForestRegressor"
   ]
  },
  {
   "cell_type": "code",
   "execution_count": 49,
   "id": "4b47cb86-1f2d-4b6d-b74c-18886c219857",
   "metadata": {},
   "outputs": [],
   "source": [
    "regr = RandomForestRegressor(n_estimators= 100, random_state=100)"
   ]
  },
  {
   "cell_type": "code",
   "execution_count": 50,
   "id": "afd552bf-5abe-4456-9dce-1521437201ca",
   "metadata": {},
   "outputs": [
    {
     "data": {
      "text/plain": [
       "RandomForestRegressor(random_state=100)"
      ]
     },
     "execution_count": 50,
     "metadata": {},
     "output_type": "execute_result"
    }
   ],
   "source": [
    "#Training the Regression Model\n",
    "regr.fit(X_train, y_train)"
   ]
  },
  {
   "cell_type": "code",
   "execution_count": 51,
   "id": "504e5f86-bad6-4192-a17b-3afb665b19ad",
   "metadata": {},
   "outputs": [],
   "source": [
    "#Predict the final grade(G3) using the Regression Model\n",
    "regr_pred = regr.predict(X_test).astype(int)"
   ]
  },
  {
   "cell_type": "code",
   "execution_count": 52,
   "id": "74042eac-fe8d-4f0c-a976-047aa0d02375",
   "metadata": {},
   "outputs": [
    {
     "data": {
      "text/plain": [
       "array([13, 14,  1, 11,  6])"
      ]
     },
     "execution_count": 52,
     "metadata": {},
     "output_type": "execute_result"
    }
   ],
   "source": [
    "#Reviewing the first 5 predictions\n",
    "regr_pred[:5]"
   ]
  },
  {
   "cell_type": "markdown",
   "id": "f011c0d4-8a46-4fde-97e2-99875727a953",
   "metadata": {},
   "source": [
    "#### Estimating the mean square error(MSE), root mean square error(RMSE), Accuracy and R-square"
   ]
  },
  {
   "cell_type": "code",
   "execution_count": 53,
   "id": "6d279305-988c-4d90-ba17-579d2d940240",
   "metadata": {},
   "outputs": [],
   "source": [
    "from sklearn.metrics import mean_squared_error, r2_score, accuracy_score, balanced_accuracy_score"
   ]
  },
  {
   "cell_type": "code",
   "execution_count": 54,
   "id": "5a72a1b0-872a-4237-ab3a-8cb32e115177",
   "metadata": {},
   "outputs": [
    {
     "name": "stdout",
     "output_type": "stream",
     "text": [
      "MSE : 2.91\n",
      "RMSE : 1.71\n",
      "R-SQUARED : 0.78\n",
      "Accuracy : 0.34\n"
     ]
    }
   ],
   "source": [
    "print('MSE :', round(mean_squared_error(y_test, regr_pred), 2))\n",
    "print('RMSE :', np.round(np.sqrt(mean_squared_error(y_test, regr_pred)), 2))\n",
    "print('R-SQUARED :', round(r2_score(y_test, regr_pred), 2))\n",
    "print('Accuracy :', round(accuracy_score(y_test, regr_pred), 2))\n"
   ]
  },
  {
   "cell_type": "markdown",
   "id": "1086e843-dc85-461a-ad63-a905ac1bb187",
   "metadata": {},
   "source": [
    "- **78%** of the variation can be explained by the above Random Forest Regression Model. Thus, we are confident with the assumption that the model can be used to predict future values of **G3** up to **78%**.\n",
    "- The Random Forest Regression Model is able to predict the student's final grade(G3) correctly up to **34%**.\n"
   ]
  },
  {
   "cell_type": "code",
   "execution_count": null,
   "id": "da3cdd1f-2c12-434a-9573-7082a4fac75a",
   "metadata": {},
   "outputs": [],
   "source": []
  },
  {
   "cell_type": "markdown",
   "id": "46e82991-b40b-4e4a-b35b-b4f4ddf07a5b",
   "metadata": {},
   "source": [
    "#### Feature Importance"
   ]
  },
  {
   "cell_type": "code",
   "execution_count": 55,
   "id": "20a7e868-b519-434c-8be1-1953383b2353",
   "metadata": {},
   "outputs": [
    {
     "data": {
      "image/png": "[encoded data removed]",
      "text/plain": [
       "<Figure size 720x360 with 1 Axes>"
      ]
     },
     "metadata": {
      "needs_background": "light"
     },
     "output_type": "display_data"
    }
   ],
   "source": [
    "#Getting the feature importance\n",
    "feature_names = [name for name in X.columns]\n",
    "importances = regr.feature_importances_\n",
    "plt.figure(figsize=(10, 5))\n",
    "color = sns.color_palette(\"viridis\", as_cmap=False)\n",
    "sns.barplot(x= feature_names, y = importances, order=['G2', 'absences', 'age', 'G1', 'guardian', 'health'], orient= 'v' ,palette= color)\n",
    "plt.title(\"Top 6 Features\", fontdict = {'fontsize': 15, 'fontweight': 'bold'})\n",
    "plt.xlabel(\"Variables\")\n",
    "plt.ylabel(\"Importance\")\n",
    "plt.show()"
   ]
  },
  {
   "cell_type": "markdown",
   "id": "d29c37c0-7043-4860-a689-1f7f58539104",
   "metadata": {},
   "source": [
    "* The variable G2 has a larger effect in predicting the final grade(G3) on the Random Forest Regressor Model."
   ]
  },
  {
   "cell_type": "code",
   "execution_count": null,
   "id": "12fa8cf1-7fb8-4246-864c-6df6930e8d71",
   "metadata": {},
   "outputs": [],
   "source": []
  },
  {
   "cell_type": "markdown",
   "id": "096a08d1-dff4-468e-9045-c5e63ee1be72",
   "metadata": {},
   "source": [
    "***\n",
    "***"
   ]
  },
  {
   "cell_type": "markdown",
   "id": "0837e6c6-ec31-4039-bfc6-3a396f316273",
   "metadata": {},
   "source": [
    "## 2. Classification\n",
    "***"
   ]
  },
  {
   "cell_type": "code",
   "execution_count": 56,
   "id": "a7a35784-1170-4185-a1f4-a353d0d4c8b6",
   "metadata": {},
   "outputs": [],
   "source": [
    "#Creating a copy of the data to be used for classification algorithms\n",
    "data_class = encod_data.copy()"
   ]
  },
  {
   "cell_type": "code",
   "execution_count": 57,
   "id": "405462fa-05c0-40e0-86f2-772567c98e8a",
   "metadata": {},
   "outputs": [
    {
     "data": {
      "text/html": [
       "<div>\n",
       "<style scoped>\n",
       "    .dataframe tbody tr th:only-of-type {\n",
       "        vertical-align: middle;\n",
       "    }\n",
       "\n",
       "    .dataframe tbody tr th {\n",
       "        vertical-align: top;\n",
       "    }\n",
       "\n",
       "    .dataframe thead th {\n",
       "        text-align: right;\n",
       "    }\n",
       "</style>\n",
       "<table border=\"1\" class=\"dataframe\">\n",
       "  <thead>\n",
       "    <tr style=\"text-align: right;\">\n",
       "      <th></th>\n",
       "      <th>school</th>\n",
       "      <th>sex</th>\n",
       "      <th>age</th>\n",
       "      <th>address</th>\n",
       "      <th>famsize</th>\n",
       "      <th>Pstatus</th>\n",
       "      <th>Medu</th>\n",
       "      <th>Fedu</th>\n",
       "      <th>Mjob</th>\n",
       "      <th>Fjob</th>\n",
       "      <th>...</th>\n",
       "      <th>famrel</th>\n",
       "      <th>freetime</th>\n",
       "      <th>goout</th>\n",
       "      <th>Dalc</th>\n",
       "      <th>Walc</th>\n",
       "      <th>health</th>\n",
       "      <th>absences</th>\n",
       "      <th>G1</th>\n",
       "      <th>G2</th>\n",
       "      <th>G3</th>\n",
       "    </tr>\n",
       "  </thead>\n",
       "  <tbody>\n",
       "    <tr>\n",
       "      <th>0</th>\n",
       "      <td>0</td>\n",
       "      <td>0</td>\n",
       "      <td>18</td>\n",
       "      <td>1</td>\n",
       "      <td>0</td>\n",
       "      <td>0</td>\n",
       "      <td>4</td>\n",
       "      <td>4</td>\n",
       "      <td>0</td>\n",
       "      <td>4</td>\n",
       "      <td>...</td>\n",
       "      <td>4</td>\n",
       "      <td>3</td>\n",
       "      <td>4</td>\n",
       "      <td>1</td>\n",
       "      <td>1</td>\n",
       "      <td>3</td>\n",
       "      <td>6</td>\n",
       "      <td>5</td>\n",
       "      <td>6</td>\n",
       "      <td>6</td>\n",
       "    </tr>\n",
       "    <tr>\n",
       "      <th>1</th>\n",
       "      <td>0</td>\n",
       "      <td>0</td>\n",
       "      <td>17</td>\n",
       "      <td>1</td>\n",
       "      <td>0</td>\n",
       "      <td>1</td>\n",
       "      <td>1</td>\n",
       "      <td>1</td>\n",
       "      <td>0</td>\n",
       "      <td>2</td>\n",
       "      <td>...</td>\n",
       "      <td>5</td>\n",
       "      <td>3</td>\n",
       "      <td>3</td>\n",
       "      <td>1</td>\n",
       "      <td>1</td>\n",
       "      <td>3</td>\n",
       "      <td>4</td>\n",
       "      <td>5</td>\n",
       "      <td>5</td>\n",
       "      <td>6</td>\n",
       "    </tr>\n",
       "    <tr>\n",
       "      <th>2</th>\n",
       "      <td>0</td>\n",
       "      <td>0</td>\n",
       "      <td>15</td>\n",
       "      <td>1</td>\n",
       "      <td>1</td>\n",
       "      <td>1</td>\n",
       "      <td>1</td>\n",
       "      <td>1</td>\n",
       "      <td>0</td>\n",
       "      <td>2</td>\n",
       "      <td>...</td>\n",
       "      <td>4</td>\n",
       "      <td>3</td>\n",
       "      <td>2</td>\n",
       "      <td>2</td>\n",
       "      <td>3</td>\n",
       "      <td>3</td>\n",
       "      <td>10</td>\n",
       "      <td>7</td>\n",
       "      <td>8</td>\n",
       "      <td>10</td>\n",
       "    </tr>\n",
       "    <tr>\n",
       "      <th>3</th>\n",
       "      <td>0</td>\n",
       "      <td>0</td>\n",
       "      <td>15</td>\n",
       "      <td>1</td>\n",
       "      <td>0</td>\n",
       "      <td>1</td>\n",
       "      <td>4</td>\n",
       "      <td>2</td>\n",
       "      <td>1</td>\n",
       "      <td>3</td>\n",
       "      <td>...</td>\n",
       "      <td>3</td>\n",
       "      <td>2</td>\n",
       "      <td>2</td>\n",
       "      <td>1</td>\n",
       "      <td>1</td>\n",
       "      <td>5</td>\n",
       "      <td>2</td>\n",
       "      <td>15</td>\n",
       "      <td>14</td>\n",
       "      <td>15</td>\n",
       "    </tr>\n",
       "    <tr>\n",
       "      <th>4</th>\n",
       "      <td>0</td>\n",
       "      <td>0</td>\n",
       "      <td>16</td>\n",
       "      <td>1</td>\n",
       "      <td>0</td>\n",
       "      <td>1</td>\n",
       "      <td>3</td>\n",
       "      <td>3</td>\n",
       "      <td>2</td>\n",
       "      <td>2</td>\n",
       "      <td>...</td>\n",
       "      <td>4</td>\n",
       "      <td>3</td>\n",
       "      <td>2</td>\n",
       "      <td>1</td>\n",
       "      <td>2</td>\n",
       "      <td>5</td>\n",
       "      <td>4</td>\n",
       "      <td>6</td>\n",
       "      <td>10</td>\n",
       "      <td>10</td>\n",
       "    </tr>\n",
       "  </tbody>\n",
       "</table>\n",
       "<p>5 rows × 33 columns</p>\n",
       "</div>"
      ],
      "text/plain": [
       "   school  sex  age  address  famsize  Pstatus  Medu  Fedu  Mjob  Fjob  ...  \\\n",
       "0       0    0   18        1        0        0     4     4     0     4  ...   \n",
       "1       0    0   17        1        0        1     1     1     0     2  ...   \n",
       "2       0    0   15        1        1        1     1     1     0     2  ...   \n",
       "3       0    0   15        1        0        1     4     2     1     3  ...   \n",
       "4       0    0   16        1        0        1     3     3     2     2  ...   \n",
       "\n",
       "   famrel  freetime  goout  Dalc  Walc  health  absences  G1  G2  G3  \n",
       "0       4         3      4     1     1       3         6   5   6   6  \n",
       "1       5         3      3     1     1       3         4   5   5   6  \n",
       "2       4         3      2     2     3       3        10   7   8  10  \n",
       "3       3         2      2     1     1       5         2  15  14  15  \n",
       "4       4         3      2     1     2       5         4   6  10  10  \n",
       "\n",
       "[5 rows x 33 columns]"
      ]
     },
     "execution_count": 57,
     "metadata": {},
     "output_type": "execute_result"
    }
   ],
   "source": [
    "data_class.head()"
   ]
  },
  {
   "cell_type": "markdown",
   "id": "845a7186-548f-4ac2-b475-b9b3896d1c15",
   "metadata": {},
   "source": [
    "### A). Data Preprocessing"
   ]
  },
  {
   "cell_type": "code",
   "execution_count": 58,
   "id": "39bf6b7b-f823-4ec1-981e-816029c1fc3f",
   "metadata": {},
   "outputs": [
    {
     "name": "stdout",
     "output_type": "stream",
     "text": [
      "Max : 20\n",
      "Mean : 11.34\n",
      "Min : 0\n"
     ]
    }
   ],
   "source": [
    "print('Max :', data['G3'].max())\n",
    "print('Mean :', round(data['G3'].mean(), 2))\n",
    "print('Min :', data['G3'].min())"
   ]
  },
  {
   "cell_type": "code",
   "execution_count": 59,
   "id": "1c88284c-2f71-47a0-9c50-06b4d80d84b3",
   "metadata": {},
   "outputs": [],
   "source": [
    "#Categorising the student's based on their final grade G3\n",
    "\n",
    "cat = (-1, 9, 17, 20)\n",
    "cat_names = ['low', 'medium', 'high']\n",
    "\n",
    "data_class['G3'] = pd.cut(data_class['G3'], bins= cat, labels = cat_names)"
   ]
  },
  {
   "cell_type": "code",
   "execution_count": 60,
   "id": "1f329a48-0bf8-4918-acb2-c9fb6ef17a51",
   "metadata": {},
   "outputs": [
    {
     "data": {
      "text/html": [
       "<div>\n",
       "<style scoped>\n",
       "    .dataframe tbody tr th:only-of-type {\n",
       "        vertical-align: middle;\n",
       "    }\n",
       "\n",
       "    .dataframe tbody tr th {\n",
       "        vertical-align: top;\n",
       "    }\n",
       "\n",
       "    .dataframe thead th {\n",
       "        text-align: right;\n",
       "    }\n",
       "</style>\n",
       "<table border=\"1\" class=\"dataframe\">\n",
       "  <thead>\n",
       "    <tr style=\"text-align: right;\">\n",
       "      <th></th>\n",
       "      <th>school</th>\n",
       "      <th>sex</th>\n",
       "      <th>age</th>\n",
       "      <th>address</th>\n",
       "      <th>famsize</th>\n",
       "      <th>Pstatus</th>\n",
       "      <th>Medu</th>\n",
       "      <th>Fedu</th>\n",
       "      <th>Mjob</th>\n",
       "      <th>Fjob</th>\n",
       "      <th>...</th>\n",
       "      <th>famrel</th>\n",
       "      <th>freetime</th>\n",
       "      <th>goout</th>\n",
       "      <th>Dalc</th>\n",
       "      <th>Walc</th>\n",
       "      <th>health</th>\n",
       "      <th>absences</th>\n",
       "      <th>G1</th>\n",
       "      <th>G2</th>\n",
       "      <th>G3</th>\n",
       "    </tr>\n",
       "  </thead>\n",
       "  <tbody>\n",
       "    <tr>\n",
       "      <th>0</th>\n",
       "      <td>0</td>\n",
       "      <td>0</td>\n",
       "      <td>18</td>\n",
       "      <td>1</td>\n",
       "      <td>0</td>\n",
       "      <td>0</td>\n",
       "      <td>4</td>\n",
       "      <td>4</td>\n",
       "      <td>0</td>\n",
       "      <td>4</td>\n",
       "      <td>...</td>\n",
       "      <td>4</td>\n",
       "      <td>3</td>\n",
       "      <td>4</td>\n",
       "      <td>1</td>\n",
       "      <td>1</td>\n",
       "      <td>3</td>\n",
       "      <td>6</td>\n",
       "      <td>5</td>\n",
       "      <td>6</td>\n",
       "      <td>low</td>\n",
       "    </tr>\n",
       "    <tr>\n",
       "      <th>1</th>\n",
       "      <td>0</td>\n",
       "      <td>0</td>\n",
       "      <td>17</td>\n",
       "      <td>1</td>\n",
       "      <td>0</td>\n",
       "      <td>1</td>\n",
       "      <td>1</td>\n",
       "      <td>1</td>\n",
       "      <td>0</td>\n",
       "      <td>2</td>\n",
       "      <td>...</td>\n",
       "      <td>5</td>\n",
       "      <td>3</td>\n",
       "      <td>3</td>\n",
       "      <td>1</td>\n",
       "      <td>1</td>\n",
       "      <td>3</td>\n",
       "      <td>4</td>\n",
       "      <td>5</td>\n",
       "      <td>5</td>\n",
       "      <td>low</td>\n",
       "    </tr>\n",
       "    <tr>\n",
       "      <th>2</th>\n",
       "      <td>0</td>\n",
       "      <td>0</td>\n",
       "      <td>15</td>\n",
       "      <td>1</td>\n",
       "      <td>1</td>\n",
       "      <td>1</td>\n",
       "      <td>1</td>\n",
       "      <td>1</td>\n",
       "      <td>0</td>\n",
       "      <td>2</td>\n",
       "      <td>...</td>\n",
       "      <td>4</td>\n",
       "      <td>3</td>\n",
       "      <td>2</td>\n",
       "      <td>2</td>\n",
       "      <td>3</td>\n",
       "      <td>3</td>\n",
       "      <td>10</td>\n",
       "      <td>7</td>\n",
       "      <td>8</td>\n",
       "      <td>medium</td>\n",
       "    </tr>\n",
       "    <tr>\n",
       "      <th>3</th>\n",
       "      <td>0</td>\n",
       "      <td>0</td>\n",
       "      <td>15</td>\n",
       "      <td>1</td>\n",
       "      <td>0</td>\n",
       "      <td>1</td>\n",
       "      <td>4</td>\n",
       "      <td>2</td>\n",
       "      <td>1</td>\n",
       "      <td>3</td>\n",
       "      <td>...</td>\n",
       "      <td>3</td>\n",
       "      <td>2</td>\n",
       "      <td>2</td>\n",
       "      <td>1</td>\n",
       "      <td>1</td>\n",
       "      <td>5</td>\n",
       "      <td>2</td>\n",
       "      <td>15</td>\n",
       "      <td>14</td>\n",
       "      <td>medium</td>\n",
       "    </tr>\n",
       "    <tr>\n",
       "      <th>4</th>\n",
       "      <td>0</td>\n",
       "      <td>0</td>\n",
       "      <td>16</td>\n",
       "      <td>1</td>\n",
       "      <td>0</td>\n",
       "      <td>1</td>\n",
       "      <td>3</td>\n",
       "      <td>3</td>\n",
       "      <td>2</td>\n",
       "      <td>2</td>\n",
       "      <td>...</td>\n",
       "      <td>4</td>\n",
       "      <td>3</td>\n",
       "      <td>2</td>\n",
       "      <td>1</td>\n",
       "      <td>2</td>\n",
       "      <td>5</td>\n",
       "      <td>4</td>\n",
       "      <td>6</td>\n",
       "      <td>10</td>\n",
       "      <td>medium</td>\n",
       "    </tr>\n",
       "  </tbody>\n",
       "</table>\n",
       "<p>5 rows × 33 columns</p>\n",
       "</div>"
      ],
      "text/plain": [
       "   school  sex  age  address  famsize  Pstatus  Medu  Fedu  Mjob  Fjob  ...  \\\n",
       "0       0    0   18        1        0        0     4     4     0     4  ...   \n",
       "1       0    0   17        1        0        1     1     1     0     2  ...   \n",
       "2       0    0   15        1        1        1     1     1     0     2  ...   \n",
       "3       0    0   15        1        0        1     4     2     1     3  ...   \n",
       "4       0    0   16        1        0        1     3     3     2     2  ...   \n",
       "\n",
       "   famrel  freetime  goout  Dalc  Walc  health  absences  G1  G2      G3  \n",
       "0       4         3      4     1     1       3         6   5   6     low  \n",
       "1       5         3      3     1     1       3         4   5   5     low  \n",
       "2       4         3      2     2     3       3        10   7   8  medium  \n",
       "3       3         2      2     1     1       5         2  15  14  medium  \n",
       "4       4         3      2     1     2       5         4   6  10  medium  \n",
       "\n",
       "[5 rows x 33 columns]"
      ]
     },
     "execution_count": 60,
     "metadata": {},
     "output_type": "execute_result"
    }
   ],
   "source": [
    "data_class.head()"
   ]
  },
  {
   "cell_type": "code",
   "execution_count": 61,
   "id": "b1c18ca9-fcc8-4502-962e-352bf932bfa1",
   "metadata": {},
   "outputs": [
    {
     "data": {
      "image/png": "[encoded data removed]",
      "text/plain": [
       "<Figure size 576x360 with 1 Axes>"
      ]
     },
     "metadata": {
      "needs_background": "light"
     },
     "output_type": "display_data"
    },
    {
     "data": {
      "image/png": "[encoded data removed]",
      "text/plain": [
       "<Figure size 432x432 with 1 Axes>"
      ]
     },
     "metadata": {},
     "output_type": "display_data"
    },
    {
     "data": {
      "text/html": [
       "<div>\n",
       "<style scoped>\n",
       "    .dataframe tbody tr th:only-of-type {\n",
       "        vertical-align: middle;\n",
       "    }\n",
       "\n",
       "    .dataframe tbody tr th {\n",
       "        vertical-align: top;\n",
       "    }\n",
       "\n",
       "    .dataframe thead th {\n",
       "        text-align: right;\n",
       "    }\n",
       "</style>\n",
       "<table border=\"1\" class=\"dataframe\">\n",
       "  <thead>\n",
       "    <tr style=\"text-align: right;\">\n",
       "      <th></th>\n",
       "      <th>medium</th>\n",
       "      <th>low</th>\n",
       "      <th>high</th>\n",
       "    </tr>\n",
       "  </thead>\n",
       "  <tbody>\n",
       "    <tr>\n",
       "      <th>G3</th>\n",
       "      <td>779</td>\n",
       "      <td>230</td>\n",
       "      <td>35</td>\n",
       "    </tr>\n",
       "  </tbody>\n",
       "</table>\n",
       "</div>"
      ],
      "text/plain": [
       "    medium  low  high\n",
       "G3     779  230    35"
      ]
     },
     "execution_count": 61,
     "metadata": {},
     "output_type": "execute_result"
    }
   ],
   "source": [
    "#Classification of the final grade\n",
    "\n",
    "#Checking for class imbalance\n",
    "plt.figure(figsize= (8, 5))\n",
    "category = sns.countplot(data = data_class, x = 'G3', palette= 'Blues')\n",
    "category.set_xlabel('Category', fontsize = 12)\n",
    "category.set_ylabel('Count', fontsize = 12)\n",
    "category.set_title('Final Grade Classification', fontdict={'fontsize': 15, 'fontweight': 'bold'})\n",
    "plt.show()\n",
    "\n",
    "#Pie chart to illustrate the classification of the final grade(G3)\n",
    "plt.figure(figsize= (6, 6))\n",
    "plt.title('Classification of Final Grade(G3)', fontdict= {'fontsize': 15})\n",
    "color = sns.color_palette('Spectral')\n",
    "plt.pie(data_class['G3'].value_counts(), labels = data_class['G3'].value_counts().index, startangle= 45, autopct='%.0f%%', colors= color,\n",
    "       textprops= {'fontsize': 12})\n",
    "plt.show()\n",
    "\n",
    "#printing the values of the final grade classification\n",
    "dist = pd.DataFrame(data_class['G3'].value_counts()).transpose()\n",
    "dist"
   ]
  },
  {
   "cell_type": "markdown",
   "id": "94e5922c-c9e8-42cc-aae4-7f221e28aca4",
   "metadata": {},
   "source": [
    "The distribution of the final grade(G3) is imbalanced, with students having Medium grade accounting for approximately **75%** of the observations. While Low and High at **22%** and **3%** respectively. Class imbalanced would be handled below using the following methods:\n",
    "* Under-sampling\n",
    "* Over-sampling\n",
    "* Combined-sampling"
   ]
  },
  {
   "cell_type": "markdown",
   "id": "dd547b0f-42e2-43ec-aef6-d70b1ef7cffe",
   "metadata": {},
   "source": [
    "### B). Handling Class Imbalance"
   ]
  },
  {
   "cell_type": "markdown",
   "id": "4fc0a31b-08c4-4e6e-8962-16cb79a2c4c7",
   "metadata": {},
   "source": [
    "####  i. Handling Class Imbalance Through Under-Sampling\n",
    "***"
   ]
  },
  {
   "cell_type": "code",
   "execution_count": 62,
   "id": "44151f08-c04a-4d94-9f98-6488d8171f03",
   "metadata": {},
   "outputs": [],
   "source": [
    "from imblearn.under_sampling import RandomUnderSampler"
   ]
  },
  {
   "cell_type": "code",
   "execution_count": 63,
   "id": "22270975-5f4a-445a-afad-2aede5b39239",
   "metadata": {},
   "outputs": [],
   "source": [
    "rusp = RandomUnderSampler(random_state=100)"
   ]
  },
  {
   "cell_type": "code",
   "execution_count": 64,
   "id": "ad723ef5-7894-42e9-9d4e-77947af35117",
   "metadata": {},
   "outputs": [],
   "source": [
    "X_class = data_class.drop(\"G3\", axis = 1)"
   ]
  },
  {
   "cell_type": "code",
   "execution_count": 65,
   "id": "cc9292ae-980a-434d-b952-ad130a1c9baf",
   "metadata": {},
   "outputs": [],
   "source": [
    "y_class = data_class[\"G3\"]"
   ]
  },
  {
   "cell_type": "code",
   "execution_count": 66,
   "id": "81b7c5c3-8129-4098-bfc1-14d16452d587",
   "metadata": {},
   "outputs": [
    {
     "data": {
      "text/html": [
       "<div>\n",
       "<style scoped>\n",
       "    .dataframe tbody tr th:only-of-type {\n",
       "        vertical-align: middle;\n",
       "    }\n",
       "\n",
       "    .dataframe tbody tr th {\n",
       "        vertical-align: top;\n",
       "    }\n",
       "\n",
       "    .dataframe thead th {\n",
       "        text-align: right;\n",
       "    }\n",
       "</style>\n",
       "<table border=\"1\" class=\"dataframe\">\n",
       "  <thead>\n",
       "    <tr style=\"text-align: right;\">\n",
       "      <th></th>\n",
       "      <th>low</th>\n",
       "      <th>medium</th>\n",
       "      <th>high</th>\n",
       "    </tr>\n",
       "  </thead>\n",
       "  <tbody>\n",
       "    <tr>\n",
       "      <th>G3</th>\n",
       "      <td>35</td>\n",
       "      <td>35</td>\n",
       "      <td>35</td>\n",
       "    </tr>\n",
       "  </tbody>\n",
       "</table>\n",
       "</div>"
      ],
      "text/plain": [
       "    low  medium  high\n",
       "G3   35      35    35"
      ]
     },
     "execution_count": 66,
     "metadata": {},
     "output_type": "execute_result"
    }
   ],
   "source": [
    "#Reviewing the undersampled data\n",
    "X_resp, y_resp = rusp.fit_resample(X_class, y_class)\n",
    "pd.DataFrame(y_resp.value_counts()).transpose()"
   ]
  },
  {
   "cell_type": "code",
   "execution_count": 67,
   "id": "2b30e32f-58e3-4ee2-8e4d-b5e54fe30bbb",
   "metadata": {},
   "outputs": [
    {
     "data": {
      "image/png": "[encoded data removed]",
      "text/plain": [
       "<Figure size 360x360 with 1 Axes>"
      ]
     },
     "metadata": {},
     "output_type": "display_data"
    }
   ],
   "source": [
    "#Classification of Under-sampled final grade\n",
    "plt.figure(figsize= (5,5))\n",
    "color = sns.color_palette('crest')\n",
    "plt.pie(y_resp.value_counts(),  labels= y_resp.value_counts().index, colors= color, autopct='%.0f%%', textprops= {'fontsize': 12})\n",
    "plt.title(\"Under-sampled Final Grade\", fontdict={'fontsize': 15})\n",
    "plt.show()"
   ]
  },
  {
   "cell_type": "markdown",
   "id": "416de685-74a0-4f03-b2bd-5cb6d5c99b63",
   "metadata": {},
   "source": [
    "Under-sampling has been performed on the training dataset, by removing samples from the majority class distribution (Medium: **779**  and Low: **230**) to balance the minority class distribution High: **35**."
   ]
  },
  {
   "cell_type": "markdown",
   "id": "a05e8f0d-2802-4074-9bb6-5bb944ce48c0",
   "metadata": {},
   "source": [
    "#### Model Evaluation using Under-Sampling"
   ]
  },
  {
   "cell_type": "code",
   "execution_count": 68,
   "id": "479f561c-e960-47ca-a7ed-1bcf9464f00e",
   "metadata": {},
   "outputs": [],
   "source": [
    "#Spliting the undersampled data\n",
    "X_train_u, X_test_u, y_train_u, y_test_u = train_test_split(X_resp, y_resp, test_size=0.2, random_state= 105)"
   ]
  },
  {
   "cell_type": "markdown",
   "id": "456d192a-a3fe-4de0-ae50-0b358d55e513",
   "metadata": {},
   "source": [
    "#### Support Vector Machine(Under-sampled data)"
   ]
  },
  {
   "cell_type": "code",
   "execution_count": 69,
   "id": "10e2e166-4341-44a7-ba3c-835fc9bb38cb",
   "metadata": {},
   "outputs": [],
   "source": [
    "from sklearn.svm import SVC"
   ]
  },
  {
   "cell_type": "code",
   "execution_count": 70,
   "id": "7b1166e8-acfa-4073-a945-a24d4d74ccda",
   "metadata": {},
   "outputs": [],
   "source": [
    "svc = SVC(kernel='rbf', C=1, gamma='auto')"
   ]
  },
  {
   "cell_type": "code",
   "execution_count": 71,
   "id": "63243309-3bc9-4509-8a54-84123aa83d61",
   "metadata": {},
   "outputs": [
    {
     "data": {
      "text/plain": [
       "SVC(C=1, gamma='auto')"
      ]
     },
     "execution_count": 71,
     "metadata": {},
     "output_type": "execute_result"
    }
   ],
   "source": [
    "#Training the model\n",
    "svc.fit(X_train_u, y_train_u)"
   ]
  },
  {
   "cell_type": "code",
   "execution_count": 72,
   "id": "655dcce3-c095-46cd-b63e-1316fdd12ef6",
   "metadata": {},
   "outputs": [
    {
     "name": "stdout",
     "output_type": "stream",
     "text": [
      "['low' 'high' 'low' 'medium' 'medium' 'medium' 'high' 'medium' 'low'\n",
      " 'medium']\n"
     ]
    }
   ],
   "source": [
    "svc_pred_u = svc.predict(X_test_u)\n",
    "print(svc_pred_u[:10])"
   ]
  },
  {
   "cell_type": "code",
   "execution_count": 73,
   "id": "df6c508f-0572-4728-97d9-a1534b174007",
   "metadata": {},
   "outputs": [],
   "source": [
    "from sklearn.metrics import confusion_matrix, classification_report"
   ]
  },
  {
   "cell_type": "code",
   "execution_count": 74,
   "id": "6f24df22-b3a6-4902-a90f-2d29f406a2c6",
   "metadata": {},
   "outputs": [
    {
     "name": "stdout",
     "output_type": "stream",
     "text": [
      "[[7 0 1]\n",
      " [0 5 0]\n",
      " [0 2 6]]\n"
     ]
    }
   ],
   "source": [
    "#obtains the confusion matrix\n",
    "print(confusion_matrix(y_test_u, svc_pred_u))"
   ]
  },
  {
   "cell_type": "markdown",
   "id": "952ef30c-08de-4823-8d12-1ee7236eaae2",
   "metadata": {},
   "source": [
    "From the confusion matrix, it was observed that the model:\n",
    "- Out of **7** high grades, the model could correctly predict them as high.\n",
    "- The model could predict correctly **5** low grades as low and wrongly predicted **2** as medium from **7** low grades.\n",
    "- From **7** medium grades, the model could correctly predict them as **6** medium grades and wrongly predicted **1** as high."
   ]
  },
  {
   "cell_type": "code",
   "execution_count": 75,
   "id": "7aba4952-86a4-4580-8093-326690a5e2e2",
   "metadata": {},
   "outputs": [
    {
     "name": "stdout",
     "output_type": "stream",
     "text": [
      "              precision    recall  f1-score   support\n",
      "\n",
      "        high       1.00      0.88      0.93         8\n",
      "         low       0.71      1.00      0.83         5\n",
      "      medium       0.86      0.75      0.80         8\n",
      "\n",
      "    accuracy                           0.86        21\n",
      "   macro avg       0.86      0.88      0.86        21\n",
      "weighted avg       0.88      0.86      0.86        21\n",
      "\n"
     ]
    }
   ],
   "source": [
    "#obtains the classification report\n",
    "print(classification_report(y_test_u, svc_pred_u))"
   ]
  },
  {
   "cell_type": "markdown",
   "id": "b6734b55-9b5f-402e-8ec0-2f52ba9eca53",
   "metadata": {},
   "source": [
    "**The below highlights can be obtained from the Classification Report of the under-sampled data using SVC Model:**\n",
    "- **Precision :** The model is able to correctly predict **100%** of the student's performance with a high final grade(G3), **71%** for a low G3 and **86%** for a medium G3.\n",
    "- **Recall :** **88%** of the students performance grades with a high **G3** where correctly identified, **100%** for a low G3 and **75%** for a medium G3.\n",
    "- **F1-Score :** **93%** of positive predictions for a high final grade were correct, while **83%** for a low and **80%** for a medium G3 respectively.\n",
    "- The accuracy of the model stood at **86%**."
   ]
  },
  {
   "cell_type": "markdown",
   "id": "0e3223f8-e42c-4bcc-aa95-ac8974dea0cf",
   "metadata": {},
   "source": [
    "#### Random Forest Classifier(Under-sampled data)"
   ]
  },
  {
   "cell_type": "code",
   "execution_count": 76,
   "id": "0d3cb5f3-4a11-4135-96dc-e90c2a2549ee",
   "metadata": {},
   "outputs": [],
   "source": [
    "from sklearn.ensemble import RandomForestClassifier"
   ]
  },
  {
   "cell_type": "code",
   "execution_count": 77,
   "id": "ee5dcc52-59e4-487b-acd5-705349fb8e9e",
   "metadata": {},
   "outputs": [],
   "source": [
    "#instantiate the model\n",
    "rfc = RandomForestClassifier(n_estimators= 200, random_state= 110)"
   ]
  },
  {
   "cell_type": "code",
   "execution_count": 78,
   "id": "108d7abb-5cce-49ff-9bd4-08d369881465",
   "metadata": {},
   "outputs": [
    {
     "data": {
      "text/plain": [
       "RandomForestClassifier(n_estimators=200, random_state=110)"
      ]
     },
     "execution_count": 78,
     "metadata": {},
     "output_type": "execute_result"
    }
   ],
   "source": [
    "#Training the model\n",
    "rfc.fit(X_train_u, y_train_u)"
   ]
  },
  {
   "cell_type": "code",
   "execution_count": 79,
   "id": "15f57c4b-9a8e-4bcd-9e86-aaa86e3bc787",
   "metadata": {},
   "outputs": [
    {
     "data": {
      "text/plain": [
       "array(['low', 'high', 'low', 'medium', 'medium', 'medium', 'high',\n",
       "       'medium', 'low', 'medium', 'high', 'high', 'medium', 'high',\n",
       "       'high', 'high', 'low', 'high', 'low', 'medium', 'low'],\n",
       "      dtype=object)"
      ]
     },
     "execution_count": 79,
     "metadata": {},
     "output_type": "execute_result"
    }
   ],
   "source": [
    "#Predicting the final grade(G3) with undersampled data\n",
    "rfc_pred_u = rfc.predict(X_test_u)\n",
    "rfc_pred_u"
   ]
  },
  {
   "cell_type": "code",
   "execution_count": 80,
   "id": "a8184ff9-560b-48b4-b9f0-3080aa75942d",
   "metadata": {},
   "outputs": [
    {
     "name": "stdout",
     "output_type": "stream",
     "text": [
      "[[8 0 0]\n",
      " [0 4 1]\n",
      " [0 2 6]]\n"
     ]
    }
   ],
   "source": [
    "print(confusion_matrix(y_test_u, rfc_pred_u))"
   ]
  },
  {
   "cell_type": "markdown",
   "id": "26a22b1d-8150-48fe-a988-2f5c4c0c2e02",
   "metadata": {},
   "source": [
    "From the confusion matrix, it was observed that the model:\n",
    "- Out of **8** high grades, the model could correctly predict them as high.\n",
    "- The model could predict correctly **4** low grades as low and wrongly predicted **2** as medium from **6** low grades.\n",
    "- From **7** medium grades, the model could correctly predict them as **6** medium grades and wrongly predicted **1** as low."
   ]
  },
  {
   "cell_type": "code",
   "execution_count": 81,
   "id": "6e457f87-b9e5-4716-971d-ddb305f53ba6",
   "metadata": {},
   "outputs": [
    {
     "name": "stdout",
     "output_type": "stream",
     "text": [
      "              precision    recall  f1-score   support\n",
      "\n",
      "        high       1.00      1.00      1.00         8\n",
      "         low       0.67      0.80      0.73         5\n",
      "      medium       0.86      0.75      0.80         8\n",
      "\n",
      "    accuracy                           0.86        21\n",
      "   macro avg       0.84      0.85      0.84        21\n",
      "weighted avg       0.87      0.86      0.86        21\n",
      "\n"
     ]
    }
   ],
   "source": [
    "print(classification_report(y_test_u, rfc_pred_u))"
   ]
  },
  {
   "cell_type": "markdown",
   "id": "52b69e63-3aab-41e2-956b-eb63473f9dac",
   "metadata": {},
   "source": [
    "**The below highlights can be obtained from the Classification Report of the under-sampled data using Random Forest Classification Model:**\n",
    "- **Precision :** The model is able to correctly predict **100%** of the student's performance with a high final grade(G3), **67%** for a low G3 and **86%** for a medium G3.\n",
    "- **Recall :** **100%** of the students performance grades with a high **G3** where correctly identified, **80%** for a low G3 and **75%** for a medium G3.\n",
    "- **F1-Score :** **100%** of positive predictions for a high final grade were correct, while **73%** for a low and **80%** for a medium G3 respectively.\n",
    "- The accuracy of the model stood at **86%**."
   ]
  },
  {
   "cell_type": "markdown",
   "id": "465b4aba-70c5-4abe-b43f-c8f47e203bc3",
   "metadata": {},
   "source": [
    "#### Multi-Layer Perceptron Neural Networks(Under-sampled)"
   ]
  },
  {
   "cell_type": "code",
   "execution_count": 82,
   "id": "575ee8df-c1cd-460d-9f4c-7711cb3f0162",
   "metadata": {},
   "outputs": [],
   "source": [
    "from sklearn.neural_network import MLPClassifier"
   ]
  },
  {
   "cell_type": "code",
   "execution_count": 83,
   "id": "f68d8e97-bc7b-44f5-978c-59fb0cee653a",
   "metadata": {},
   "outputs": [],
   "source": [
    "clf = MLPClassifier(solver='lbfgs')"
   ]
  },
  {
   "cell_type": "code",
   "execution_count": 84,
   "id": "8c500688-588a-424c-aed1-c43f553af9b4",
   "metadata": {},
   "outputs": [
    {
     "data": {
      "text/plain": [
       "MLPClassifier(solver='lbfgs')"
      ]
     },
     "execution_count": 84,
     "metadata": {},
     "output_type": "execute_result"
    }
   ],
   "source": [
    "#training the model\n",
    "clf.fit(X_train_u, y_train_u)"
   ]
  },
  {
   "cell_type": "code",
   "execution_count": 85,
   "id": "2848392f-17fd-4972-841d-61939a5c798b",
   "metadata": {},
   "outputs": [
    {
     "data": {
      "text/plain": [
       "array(['medium', 'high', 'low', 'medium', 'medium', 'medium', 'high',\n",
       "       'medium', 'low', 'medium', 'high', 'high', 'medium', 'high',\n",
       "       'high', 'high', 'low', 'high', 'low', 'medium', 'low'], dtype='<U6')"
      ]
     },
     "execution_count": 85,
     "metadata": {},
     "output_type": "execute_result"
    }
   ],
   "source": [
    "#Predicting the final grade\n",
    "clf_pred_u = clf.predict(X_test_u)\n",
    "clf_pred_u"
   ]
  },
  {
   "cell_type": "code",
   "execution_count": 86,
   "id": "8829e71a-89b6-41fa-98b2-fea8be42b6ae",
   "metadata": {},
   "outputs": [
    {
     "name": "stdout",
     "output_type": "stream",
     "text": [
      "[[8 0 0]\n",
      " [0 4 1]\n",
      " [0 1 7]]\n"
     ]
    }
   ],
   "source": [
    "print(confusion_matrix(y_test_u, clf_pred_u))"
   ]
  },
  {
   "cell_type": "markdown",
   "id": "fda847e7-adde-42e0-9c8d-fc97e89487b0",
   "metadata": {},
   "source": [
    "From the confusion matrix, it was observed that the model:\n",
    "- Out of **8** high grades, the model could correctly predict them as high.\n",
    "- The model could predict correctly **5** low grades as low and wrongly predicted **1** as medium from **6** low grades.\n",
    "- From **7** medium grades, the model could correctly predict them as medium."
   ]
  },
  {
   "cell_type": "code",
   "execution_count": 87,
   "id": "889da3c7-5e3d-43e6-8749-53a38eb838e5",
   "metadata": {},
   "outputs": [
    {
     "name": "stdout",
     "output_type": "stream",
     "text": [
      "              precision    recall  f1-score   support\n",
      "\n",
      "        high       1.00      1.00      1.00         8\n",
      "         low       0.80      0.80      0.80         5\n",
      "      medium       0.88      0.88      0.88         8\n",
      "\n",
      "    accuracy                           0.90        21\n",
      "   macro avg       0.89      0.89      0.89        21\n",
      "weighted avg       0.90      0.90      0.90        21\n",
      "\n"
     ]
    }
   ],
   "source": [
    "print(classification_report(y_test_u, clf_pred_u))"
   ]
  },
  {
   "cell_type": "markdown",
   "id": "2bf8233d-81ef-482b-acc6-fd2dee56ce12",
   "metadata": {},
   "source": [
    "**The below highlights can be obtained from the Classification Report of the under-sampled data using Multi-Layer Perceptron Neural Network Model:**\n",
    "- **Precision :** The model is able to correctly predict **100%** of the student's performance with a high final grade(G3), **83%** for a low G3 and **100%** for a medium G3.\n",
    "- **Recall :** **100%** of the students performance grades with a high **G3** where correctly identified, **100%** for a low G3 and **88%** for a medium G3.\n",
    "- **F1-Score :** **100%** of positive predictions for a high final grade were correct, while **91%** for a low and **93%** for a medium G3 respectively.\n",
    "- The accuracy of the model stood at **95%**.\n",
    "- However, the weighted average of the F1-score stood at **95%** which was better than the previous two models using an undersampled data"
   ]
  },
  {
   "cell_type": "markdown",
   "id": "dd2c6891-e3f6-45ff-ba7e-ad53d7510eb2",
   "metadata": {},
   "source": [
    "#### ii. Handling Class Imbalance Through Over-Sampling\n",
    "***"
   ]
  },
  {
   "cell_type": "code",
   "execution_count": 88,
   "id": "d73155de-8aee-49ea-a9f9-864c81742620",
   "metadata": {},
   "outputs": [],
   "source": [
    "from imblearn.over_sampling import RandomOverSampler"
   ]
  },
  {
   "cell_type": "code",
   "execution_count": 89,
   "id": "7c95b558-ac13-4c1b-b1a8-3a1a1c5c2661",
   "metadata": {},
   "outputs": [],
   "source": [
    "rosp = RandomOverSampler(random_state=100)"
   ]
  },
  {
   "cell_type": "code",
   "execution_count": 90,
   "id": "2905da04-b622-4273-96a3-2dac8f4df970",
   "metadata": {},
   "outputs": [
    {
     "data": {
      "text/html": [
       "<div>\n",
       "<style scoped>\n",
       "    .dataframe tbody tr th:only-of-type {\n",
       "        vertical-align: middle;\n",
       "    }\n",
       "\n",
       "    .dataframe tbody tr th {\n",
       "        vertical-align: top;\n",
       "    }\n",
       "\n",
       "    .dataframe thead th {\n",
       "        text-align: right;\n",
       "    }\n",
       "</style>\n",
       "<table border=\"1\" class=\"dataframe\">\n",
       "  <thead>\n",
       "    <tr style=\"text-align: right;\">\n",
       "      <th></th>\n",
       "      <th>low</th>\n",
       "      <th>medium</th>\n",
       "      <th>high</th>\n",
       "    </tr>\n",
       "  </thead>\n",
       "  <tbody>\n",
       "    <tr>\n",
       "      <th>G3</th>\n",
       "      <td>779</td>\n",
       "      <td>779</td>\n",
       "      <td>779</td>\n",
       "    </tr>\n",
       "  </tbody>\n",
       "</table>\n",
       "</div>"
      ],
      "text/plain": [
       "    low  medium  high\n",
       "G3  779     779   779"
      ]
     },
     "execution_count": 90,
     "metadata": {},
     "output_type": "execute_result"
    }
   ],
   "source": [
    "#Reviewing the oversampled data\n",
    "X_rosp, y_rosp = rosp.fit_resample(X_class, y_class)\n",
    "pd.DataFrame(y_rosp.value_counts()).transpose()"
   ]
  },
  {
   "cell_type": "code",
   "execution_count": 91,
   "id": "b41e8818-3505-4e8d-8675-78706b3eb2e3",
   "metadata": {},
   "outputs": [
    {
     "data": {
      "image/png": "[encoded data removed]",
      "text/plain": [
       "<Figure size 360x360 with 1 Axes>"
      ]
     },
     "metadata": {},
     "output_type": "display_data"
    }
   ],
   "source": [
    "#Classification of over-sampled final grade\n",
    "plt.figure(figsize= (5,5))\n",
    "color = sns.color_palette('Paired')\n",
    "plt.pie(y_rosp.value_counts(),  labels= y_rosp.value_counts().index, colors= color, autopct='%.0f%%', textprops= {'fontsize': 12})\n",
    "plt.title(\"Over-sampled Final Grade\", fontdict={'fontsize': 15})\n",
    "plt.show()"
   ]
  },
  {
   "cell_type": "markdown",
   "id": "8b7d2ce8-c203-4725-9c14-d3a8548cb189",
   "metadata": {},
   "source": [
    "Over-sampling has been performed on the training dataset, by adding samples to the minority classes distribution (low: **230**  and High: **35**) to balance the majority class distribution Medium: **779**."
   ]
  },
  {
   "cell_type": "markdown",
   "id": "d49ead02",
   "metadata": {},
   "source": [
    "#### Model Evaluation using Over-Sampling"
   ]
  },
  {
   "cell_type": "code",
   "execution_count": 92,
   "id": "8761d825-db85-4e5b-bd9f-0d90bac17979",
   "metadata": {},
   "outputs": [],
   "source": [
    "#Spliting the oversampled data\n",
    "X_train_o, X_test_o, y_train_o, y_test_o = train_test_split(X_rosp, y_rosp, test_size=0.2, random_state= 105)"
   ]
  },
  {
   "cell_type": "markdown",
   "id": "e55a2970-d163-4218-af93-a5d270989543",
   "metadata": {},
   "source": [
    "#### Support Vector Machine(Over-sampled)"
   ]
  },
  {
   "cell_type": "code",
   "execution_count": 93,
   "id": "f40f8409-b841-43f0-b55f-41c6a58d5305",
   "metadata": {},
   "outputs": [
    {
     "data": {
      "text/plain": [
       "SVC(C=1, gamma='auto')"
      ]
     },
     "execution_count": 93,
     "metadata": {},
     "output_type": "execute_result"
    }
   ],
   "source": [
    "#Training the model\n",
    "svc.fit(X_train_o, y_train_o)"
   ]
  },
  {
   "cell_type": "code",
   "execution_count": 94,
   "id": "4a87de99-1574-4698-913e-696e1f511ed6",
   "metadata": {},
   "outputs": [
    {
     "data": {
      "text/plain": [
       "array(['medium', 'low', 'high', 'high', 'low', 'medium', 'high', 'high',\n",
       "       'low', 'high'], dtype=object)"
      ]
     },
     "execution_count": 94,
     "metadata": {},
     "output_type": "execute_result"
    }
   ],
   "source": [
    "#predicting the final grade \n",
    "svc_pred_o = svc.predict(X_test_o)\n",
    "svc_pred_o[:10]"
   ]
  },
  {
   "cell_type": "code",
   "execution_count": 95,
   "id": "4f8a82a7-d228-471e-a641-eac843e132ba",
   "metadata": {},
   "outputs": [
    {
     "name": "stdout",
     "output_type": "stream",
     "text": [
      "[[151   0   0]\n",
      " [  0 149   4]\n",
      " [  2  14 148]]\n"
     ]
    }
   ],
   "source": [
    "print(confusion_matrix(y_test_o, svc_pred_o))"
   ]
  },
  {
   "cell_type": "markdown",
   "id": "acb3db3c-5624-42d0-a00f-085ee48676da",
   "metadata": {},
   "source": [
    "From the confusion matrix, it was observed that the model:\n",
    "- Out of **153** high grades, the model could correctly predict **151** as high and wrongly predicted **2** as medium.\n",
    "- The model could predict correctly **149** low grades as low and wrongly predicted **14** as medium from **163** low grades.\n",
    "- From **152** medium grades, the model could correctly predict **148** as medium and wrongly predicted **4** as low."
   ]
  },
  {
   "cell_type": "code",
   "execution_count": 96,
   "id": "e72effb5-be71-403c-9dd9-65ddc7f7d21e",
   "metadata": {},
   "outputs": [
    {
     "name": "stdout",
     "output_type": "stream",
     "text": [
      "              precision    recall  f1-score   support\n",
      "\n",
      "        high       0.99      1.00      0.99       151\n",
      "         low       0.91      0.97      0.94       153\n",
      "      medium       0.97      0.90      0.94       164\n",
      "\n",
      "    accuracy                           0.96       468\n",
      "   macro avg       0.96      0.96      0.96       468\n",
      "weighted avg       0.96      0.96      0.96       468\n",
      "\n"
     ]
    }
   ],
   "source": [
    "print(classification_report(y_test_o, svc_pred_o))"
   ]
  },
  {
   "cell_type": "markdown",
   "id": "3ae87a43-5a46-48cc-91e7-066298bede12",
   "metadata": {},
   "source": [
    "**The below highlights can be obtained from the Classification Report of the Over-sampled data using SVC Model:**\n",
    "- **Precision :** The model is able to correctly predict **99%** of the student's performance with a high final grade(G3), **91%** for a low G3 and **97%** for a medium G3.\n",
    "- **Recall :** **100%** of the students performance grades with a high **G3** where correctly classified, **97%** for a low G3 and **90%** for a medium G3.\n",
    "- **F1-Score :** **99%** of positive predictions for a high final grade were correct, while **94%** for a low and **94%** for a medium G3 respectively.\n",
    "- The accuracy of the model stood at **96%**."
   ]
  },
  {
   "cell_type": "markdown",
   "id": "43e7a34f-a257-495b-9e20-ec0f90c98098",
   "metadata": {},
   "source": [
    "#### Random Forest Classification(Over-sampled)"
   ]
  },
  {
   "cell_type": "code",
   "execution_count": 97,
   "id": "1810485b-6c9a-4441-9ff3-d9114863a718",
   "metadata": {},
   "outputs": [
    {
     "data": {
      "text/plain": [
       "RandomForestClassifier(n_estimators=200, random_state=110)"
      ]
     },
     "execution_count": 97,
     "metadata": {},
     "output_type": "execute_result"
    }
   ],
   "source": [
    "#Training the model\n",
    "rfc.fit(X_train_o, y_train_o)"
   ]
  },
  {
   "cell_type": "code",
   "execution_count": 98,
   "id": "4290d808-00df-4dd3-874e-b4480994dbef",
   "metadata": {},
   "outputs": [
    {
     "data": {
      "text/plain": [
       "array(['medium', 'low', 'high', 'high', 'low', 'medium', 'high', 'high',\n",
       "       'low', 'high'], dtype=object)"
      ]
     },
     "execution_count": 98,
     "metadata": {},
     "output_type": "execute_result"
    }
   ],
   "source": [
    "#Predicting the final grade\n",
    "rfc_pred_o = rfc.predict(X_test_o)\n",
    "rfc_pred_o[:10]"
   ]
  },
  {
   "cell_type": "code",
   "execution_count": 99,
   "id": "65f418d3-d4cb-42b7-9ec3-67af246a271c",
   "metadata": {},
   "outputs": [
    {
     "name": "stdout",
     "output_type": "stream",
     "text": [
      "[[151   0   0]\n",
      " [  0 150   3]\n",
      " [  2  15 147]]\n"
     ]
    }
   ],
   "source": [
    "print(confusion_matrix(y_test_o, rfc_pred_o))"
   ]
  },
  {
   "cell_type": "markdown",
   "id": "380b921e-41ce-4e07-b724-3cfbfa6381f7",
   "metadata": {},
   "source": [
    "From the confusion matrix, it was observed that the model:\n",
    "- Out of **153** high grades, the model could correctly predict **151** as high and wrongly predicted **2** as medium.\n",
    "- The model could predict correctly **150** low grades as low and wrongly predicted **15** as medium from **165** low grades.\n",
    "- From **150** medium grades, the model could correctly predict **147** as medium and wrongly predicted **3** as low."
   ]
  },
  {
   "cell_type": "code",
   "execution_count": 100,
   "id": "a54a188f-830e-4738-858b-6fc35802002b",
   "metadata": {},
   "outputs": [
    {
     "name": "stdout",
     "output_type": "stream",
     "text": [
      "              precision    recall  f1-score   support\n",
      "\n",
      "        high       0.99      1.00      0.99       151\n",
      "         low       0.91      0.98      0.94       153\n",
      "      medium       0.98      0.90      0.94       164\n",
      "\n",
      "    accuracy                           0.96       468\n",
      "   macro avg       0.96      0.96      0.96       468\n",
      "weighted avg       0.96      0.96      0.96       468\n",
      "\n"
     ]
    }
   ],
   "source": [
    "print(classification_report(y_test_o, rfc_pred_o))"
   ]
  },
  {
   "cell_type": "markdown",
   "id": "f80f6506-a3b7-475a-975a-6f54efe69646",
   "metadata": {},
   "source": [
    "**The below highlights can be obtained from the Classification Report of the Over-sampled data using Random Forest Classification Model:**\n",
    "- **Precision :** The model is able to correctly predict **99%** of the student's performance with a high final grade(G3), **91%** for a low G3 and **98%** for a medium G3.\n",
    "- **Recall :** **100%** of the students performance grades with a high **G3** where correctly classified, **98%** for a low G3 and **90%** for a medium G3.\n",
    "- **F1-Score :** **99%** of positive predictions for a high final grade were correct, while **94%** for a low and **94%** for a medium G3 respectively.\n",
    "- The accuracy of the model stood at **96%**."
   ]
  },
  {
   "cell_type": "markdown",
   "id": "65439d5a-d91e-4585-90cf-cf5265b1a567",
   "metadata": {},
   "source": [
    "#### Multi-Layer Perceptron Neural Networks(Over-sampled)"
   ]
  },
  {
   "cell_type": "code",
   "execution_count": 101,
   "id": "1c2ac685-0cb5-4ffd-88fa-b1f7d43f7e91",
   "metadata": {},
   "outputs": [],
   "source": [
    "clf_o = MLPClassifier(max_iter = 1000, random_state= 110)"
   ]
  },
  {
   "cell_type": "code",
   "execution_count": 102,
   "id": "7b9418fd-d4c6-4d31-8a02-d37b316787c8",
   "metadata": {},
   "outputs": [
    {
     "data": {
      "text/plain": [
       "MLPClassifier(max_iter=1000, random_state=110)"
      ]
     },
     "execution_count": 102,
     "metadata": {},
     "output_type": "execute_result"
    }
   ],
   "source": [
    "#Training the model\n",
    "clf_o.fit(X_train_o, y_train_o)"
   ]
  },
  {
   "cell_type": "code",
   "execution_count": 103,
   "id": "583b0357-147c-4f20-83c9-fade702df1dd",
   "metadata": {},
   "outputs": [
    {
     "data": {
      "text/plain": [
       "array(['medium', 'low', 'high', 'high', 'low', 'medium', 'high', 'high',\n",
       "       'low', 'high'], dtype='<U6')"
      ]
     },
     "execution_count": 103,
     "metadata": {},
     "output_type": "execute_result"
    }
   ],
   "source": [
    "#Predicting the final grade\n",
    "clf_pred_o = clf_o.predict(X_test_o)\n",
    "clf_pred_o[:10]"
   ]
  },
  {
   "cell_type": "code",
   "execution_count": 104,
   "id": "8d5f1b5a-0012-4984-97cf-daa3922eb582",
   "metadata": {},
   "outputs": [
    {
     "name": "stdout",
     "output_type": "stream",
     "text": [
      "[[151   0   0]\n",
      " [  0 150   3]\n",
      " [  3  10 151]]\n"
     ]
    }
   ],
   "source": [
    "print(confusion_matrix(y_test_o, clf_pred_o))"
   ]
  },
  {
   "cell_type": "markdown",
   "id": "6e5698a9-cd97-448e-88e0-bfcf9c83c213",
   "metadata": {},
   "source": [
    "From the confusion matrix, it was observed that the model:\n",
    "- Out of **154** high grades, the model could correctly predict **151** as high and wrongly predicted **3** as medium.\n",
    "- The model could predict correctly **150** low grades as low and wrongly predicted **10** as medium from **160** low grades.\n",
    "- From **154** medium grades, the model could correctly predict **151** as medium and wrongly predicted **3** as low."
   ]
  },
  {
   "cell_type": "code",
   "execution_count": 105,
   "id": "9b6e6648-e8cb-44de-9bd1-be06f525a4f3",
   "metadata": {},
   "outputs": [
    {
     "name": "stdout",
     "output_type": "stream",
     "text": [
      "              precision    recall  f1-score   support\n",
      "\n",
      "        high       0.98      1.00      0.99       151\n",
      "         low       0.94      0.98      0.96       153\n",
      "      medium       0.98      0.92      0.95       164\n",
      "\n",
      "    accuracy                           0.97       468\n",
      "   macro avg       0.97      0.97      0.97       468\n",
      "weighted avg       0.97      0.97      0.97       468\n",
      "\n"
     ]
    }
   ],
   "source": [
    "print(classification_report(y_test_o, clf_pred_o))"
   ]
  },
  {
   "cell_type": "markdown",
   "id": "651d0930-9319-4155-b26c-3de0014ee73f",
   "metadata": {},
   "source": [
    "**The below highlights can be obtained from the Classification Report of the Over-sampled data using Multi-Layer Perceptron Neural Network Model:**\n",
    "- **Precision :** The model is able to correctly predict **99%** of the student's performance with a high final grade(G3), **93%** for a low G3 and **99%** for a medium G3.\n",
    "- **Recall :** **100%** of the students performance grades with a high **G3** where correctly identified, **99%** for a low G3 and **93%** for a medium G3.\n",
    "- **F1-Score :** **100%** of positive predictions for a high final grade were correct, while **96%** for a low and **96%** for a medium G3 respectively.\n",
    "- The accuracy of the model stood at **97%**."
   ]
  },
  {
   "cell_type": "markdown",
   "id": "687d2ec7-5d20-4e24-97c8-99249afbcce4",
   "metadata": {},
   "source": [
    "#### iii. Handling Class Imbalance Through Combined-Sampling\n",
    "***"
   ]
  },
  {
   "cell_type": "code",
   "execution_count": 106,
   "id": "6d9d17ae-3ccb-4dff-996e-076b9338ae40",
   "metadata": {},
   "outputs": [],
   "source": [
    "from imblearn.combine import SMOTEENN"
   ]
  },
  {
   "cell_type": "code",
   "execution_count": 107,
   "id": "a0392bef-0f4c-44d7-b634-a250b435317f",
   "metadata": {},
   "outputs": [],
   "source": [
    "smote_enn = SMOTEENN(random_state= 100)"
   ]
  },
  {
   "cell_type": "code",
   "execution_count": 108,
   "id": "9770b69e-5cb9-4258-a084-aaf96fdf4fe4",
   "metadata": {},
   "outputs": [
    {
     "data": {
      "text/html": [
       "<div>\n",
       "<style scoped>\n",
       "    .dataframe tbody tr th:only-of-type {\n",
       "        vertical-align: middle;\n",
       "    }\n",
       "\n",
       "    .dataframe tbody tr th {\n",
       "        vertical-align: top;\n",
       "    }\n",
       "\n",
       "    .dataframe thead th {\n",
       "        text-align: right;\n",
       "    }\n",
       "</style>\n",
       "<table border=\"1\" class=\"dataframe\">\n",
       "  <thead>\n",
       "    <tr style=\"text-align: right;\">\n",
       "      <th></th>\n",
       "      <th>high</th>\n",
       "      <th>low</th>\n",
       "      <th>medium</th>\n",
       "    </tr>\n",
       "  </thead>\n",
       "  <tbody>\n",
       "    <tr>\n",
       "      <th>G3</th>\n",
       "      <td>773</td>\n",
       "      <td>734</td>\n",
       "      <td>518</td>\n",
       "    </tr>\n",
       "  </tbody>\n",
       "</table>\n",
       "</div>"
      ],
      "text/plain": [
       "    high  low  medium\n",
       "G3   773  734     518"
      ]
     },
     "execution_count": 108,
     "metadata": {},
     "output_type": "execute_result"
    }
   ],
   "source": [
    "#Reviewing the combined sample data\n",
    "X_smote_enn, y_smote_enn = smote_enn.fit_resample(X_class, y_class)\n",
    "pd.DataFrame(y_smote_enn.value_counts()).transpose()"
   ]
  },
  {
   "cell_type": "code",
   "execution_count": 109,
   "id": "d04532d1-6d85-4f17-b07e-ca77747da8dd",
   "metadata": {},
   "outputs": [
    {
     "data": {
      "image/png": "[encoded data removed]",
      "text/plain": [
       "<Figure size 360x360 with 1 Axes>"
      ]
     },
     "metadata": {},
     "output_type": "display_data"
    }
   ],
   "source": [
    "#Classification of Combined-sampled final grade\n",
    "plt.figure(figsize= (5,5))\n",
    "color = sns.color_palette('Blues')\n",
    "plt.pie(y_smote_enn.value_counts(),  labels= y_smote_enn.value_counts().index, colors= color, autopct='%.0f%%', textprops= {'fontsize': 12})\n",
    "plt.title(\"Combined Final Grade\", fontdict={'fontsize': 15, 'fontweight': 'bold'})\n",
    "plt.show()"
   ]
  },
  {
   "cell_type": "markdown",
   "id": "78cb5d76-efae-497b-b85b-c30a3a7ef478",
   "metadata": {},
   "source": [
    "#### Model Evaluation using Combined-Sampling"
   ]
  },
  {
   "cell_type": "code",
   "execution_count": 110,
   "id": "db9a3bb0-1310-4377-a831-3e32c1155298",
   "metadata": {},
   "outputs": [],
   "source": [
    "#Spliting the combined sample data\n",
    "X_train_c, X_test_c, y_train_c, y_test_c = train_test_split(X_smote_enn, y_smote_enn, test_size=0.2, random_state= 105)"
   ]
  },
  {
   "cell_type": "markdown",
   "id": "114b6193-76f0-42c4-a06d-7e646c38e472",
   "metadata": {},
   "source": [
    "#### Support Vector Machine (Combined-sampled Data)"
   ]
  },
  {
   "cell_type": "code",
   "execution_count": 111,
   "id": "22c29e63-e575-49b8-99a0-e8497137a6e7",
   "metadata": {},
   "outputs": [
    {
     "data": {
      "text/plain": [
       "SVC(C=1, gamma='auto')"
      ]
     },
     "execution_count": 111,
     "metadata": {},
     "output_type": "execute_result"
    }
   ],
   "source": [
    "#Training the model\n",
    "svc.fit(X_train_c, y_train_c)"
   ]
  },
  {
   "cell_type": "code",
   "execution_count": 112,
   "id": "99116b6f-2738-4682-955d-9d868dba5ed2",
   "metadata": {},
   "outputs": [
    {
     "name": "stdout",
     "output_type": "stream",
     "text": [
      "['medium' 'low' 'low' 'medium' 'high']\n"
     ]
    }
   ],
   "source": [
    "#Predicting final grade\n",
    "svc_pred_c = svc.predict(X_test_c)\n",
    "print(svc_pred_c[:5])"
   ]
  },
  {
   "cell_type": "code",
   "execution_count": 113,
   "id": "cc2a9f77-7880-426c-8150-c200d41e39f0",
   "metadata": {},
   "outputs": [
    {
     "name": "stdout",
     "output_type": "stream",
     "text": [
      "[[166   0   0]\n",
      " [  0 136   2]\n",
      " [  0   4  97]]\n"
     ]
    }
   ],
   "source": [
    "#obtain the confusion matrix\n",
    "print(confusion_matrix(y_test_c, svc_pred_c))"
   ]
  },
  {
   "cell_type": "markdown",
   "id": "9741bb64-ad5d-4a65-be29-4a056f6bff78",
   "metadata": {},
   "source": [
    "From the confusion matrix, it was observed that the model:\n",
    "- Out of **166** high grades, the model could correctly predict them as high.\n",
    "- The model could predict correctly **136** low grades as low and wrongly predicted **4** as medium from **140** low grades.\n",
    "- From **99** medium grades, the model could correctly predict **97** as medium and wrongly predicted **2** as low."
   ]
  },
  {
   "cell_type": "code",
   "execution_count": 114,
   "id": "3dcd93d2-12bf-4890-9cd1-4f27c8c024da",
   "metadata": {},
   "outputs": [
    {
     "name": "stdout",
     "output_type": "stream",
     "text": [
      "              precision    recall  f1-score   support\n",
      "\n",
      "        high       1.00      1.00      1.00       166\n",
      "         low       0.97      0.99      0.98       138\n",
      "      medium       0.98      0.96      0.97       101\n",
      "\n",
      "    accuracy                           0.99       405\n",
      "   macro avg       0.98      0.98      0.98       405\n",
      "weighted avg       0.99      0.99      0.99       405\n",
      "\n"
     ]
    }
   ],
   "source": [
    "#print the classification report\n",
    "print(classification_report(y_test_c, svc_pred_c))"
   ]
  },
  {
   "cell_type": "markdown",
   "id": "17595a5a-51ad-4dae-adcd-6c57b2bf1c31",
   "metadata": {},
   "source": [
    "##### **The below highlights can be obtained from the Classification Report of the Combined-sampled data using Support Vector Machine Model:**\n",
    "- **Precision :** The model is able to correctly predict **100%** of the student's performance with a high final grade(G3), **97%** for a low G3 and **98%** for a medium G3.\n",
    "- **Recall :** **100%** of the students performance grades with a high **G3** where correctly identified, **99%** for a low G3 and **96%** for a medium G3.\n",
    "- **F1-Score :** **100%** of positive predictions for a high final grade were correct, while **98%** for a low and **97%** for a medium G3 respectively.\n",
    "- The accuracy of the model stood at **99%**."
   ]
  },
  {
   "cell_type": "markdown",
   "id": "c357c532-bf3c-4c27-a6d4-0dc6a69de1c2",
   "metadata": {},
   "source": [
    "#### Random Forest Classifier(Combined-sampled Data)"
   ]
  },
  {
   "cell_type": "code",
   "execution_count": 115,
   "id": "b9308ba7-7d76-4551-b4d7-f521b9f9af74",
   "metadata": {},
   "outputs": [
    {
     "data": {
      "text/plain": [
       "RandomForestClassifier(n_estimators=200, random_state=110)"
      ]
     },
     "execution_count": 115,
     "metadata": {},
     "output_type": "execute_result"
    }
   ],
   "source": [
    "#Training the model\n",
    "rfc.fit(X_train_c, y_train_c)"
   ]
  },
  {
   "cell_type": "code",
   "execution_count": 116,
   "id": "c3efa75e-8b8b-4d15-825b-120f8bb025dc",
   "metadata": {},
   "outputs": [
    {
     "name": "stdout",
     "output_type": "stream",
     "text": [
      "['medium' 'low' 'low' 'medium' 'high']\n"
     ]
    }
   ],
   "source": [
    "#Predicting the final grade\n",
    "rfc_pred_c = rfc.predict(X_test_c)\n",
    "print(rfc_pred_c[:5])"
   ]
  },
  {
   "cell_type": "code",
   "execution_count": 117,
   "id": "fc3174a0-c7bd-4222-8274-75e9ec5fbc16",
   "metadata": {},
   "outputs": [
    {
     "name": "stdout",
     "output_type": "stream",
     "text": [
      "[[166   0   0]\n",
      " [  0 136   2]\n",
      " [  0   3  98]]\n"
     ]
    }
   ],
   "source": [
    "#obtain the confusion matrix\n",
    "print(confusion_matrix(y_test_c, rfc_pred_c))"
   ]
  },
  {
   "cell_type": "code",
   "execution_count": 118,
   "id": "d28515b7-4adc-4d9c-9d92-f5dbdcb7f2c2",
   "metadata": {},
   "outputs": [],
   "source": [
    "from sklearn.metrics import ConfusionMatrixDisplay"
   ]
  },
  {
   "cell_type": "code",
   "execution_count": 119,
   "id": "d5282414-2e95-4fa8-8dc6-7e84cc6fef99",
   "metadata": {},
   "outputs": [
    {
     "data": {
      "image/png": "[encoded data removed]",
      "text/plain": [
       "<Figure size 432x288 with 2 Axes>"
      ]
     },
     "metadata": {
      "needs_background": "light"
     },
     "output_type": "display_data"
    }
   ],
   "source": [
    "#Plotting the confusion matrix\n",
    "plot = ConfusionMatrixDisplay.from_predictions(y_test_c, rfc_pred_c, cmap= 'Blues')\n",
    "plt.xlabel(\"Predicted Final Grade\")\n",
    "plt.ylabel(\"Actual Final Grade\")\n",
    "plt.title(\"Confusion Matrix - RFC(Combined-Sampled)\", fontdict = {'fontweight': 'bold'})\n",
    "plt.show()"
   ]
  },
  {
   "cell_type": "markdown",
   "id": "7caa7256-4c4d-428f-b105-8dcb0f27a386",
   "metadata": {},
   "source": [
    "From the confusion matrix, it was observed that the model:\n",
    "- Out of **166** high grades, the model could correctly predict them as high.\n",
    "- The model could predict correctly **136** low grades as low and wrongly predicted **3** as medium from **139** low grades.\n",
    "- From **100** medium grades, the model could correctly predict **98** as medium and wrongly predicted **2** as low."
   ]
  },
  {
   "cell_type": "code",
   "execution_count": 120,
   "id": "facd020b-2147-4976-bead-aaefa35abb28",
   "metadata": {},
   "outputs": [
    {
     "name": "stdout",
     "output_type": "stream",
     "text": [
      "              precision    recall  f1-score   support\n",
      "\n",
      "        high       1.00      1.00      1.00       166\n",
      "         low       0.98      0.99      0.98       138\n",
      "      medium       0.98      0.97      0.98       101\n",
      "\n",
      "    accuracy                           0.99       405\n",
      "   macro avg       0.99      0.99      0.99       405\n",
      "weighted avg       0.99      0.99      0.99       405\n",
      "\n"
     ]
    }
   ],
   "source": [
    "#print the classification report\n",
    "print(classification_report(y_test_c, rfc_pred_c))"
   ]
  },
  {
   "cell_type": "markdown",
   "id": "77874254-e870-4301-b669-2f45f510ce3b",
   "metadata": {},
   "source": [
    "**The below highlights can be obtained from the Classification Report of the Combined-sampled data using Random Forest Classifier Model:**\n",
    "- **Precision :** The model is able to correctly predict **100%** of the student's performance with a high final grade(G3), **98%** for a low G3 and **98%** for a medium G3.\n",
    "- **Recall :** **100%** of the students performance grades with a high **G3** where correctly identified, **99%** for a low G3 and **97%** for a medium G3.\n",
    "- **F1-Score :** **100%** of positive predictions for a high final grade were correct, while **98%** for a low and **98%** for a medium G3 respectively.\n",
    "- The accuracy of the model stood at **99%**."
   ]
  },
  {
   "cell_type": "markdown",
   "id": "6d2d405b-13bc-4078-b131-1009fbf8eb94",
   "metadata": {},
   "source": [
    "#### Multi-layer Perceptron Neural Networks(Combined-sampled Data)"
   ]
  },
  {
   "cell_type": "code",
   "execution_count": 121,
   "id": "f3c845fb-d850-41ec-9c8d-3e972b21fcaa",
   "metadata": {},
   "outputs": [
    {
     "data": {
      "text/plain": [
       "MLPClassifier(max_iter=800, random_state=110)"
      ]
     },
     "execution_count": 121,
     "metadata": {},
     "output_type": "execute_result"
    }
   ],
   "source": [
    "#Training the model\n",
    "clf_c = MLPClassifier(max_iter = 800, random_state= 110)\n",
    "clf_c.fit(X_train_c, y_train_c)"
   ]
  },
  {
   "cell_type": "code",
   "execution_count": 122,
   "id": "9f0bd93e-6668-4b60-9201-730364cd010b",
   "metadata": {},
   "outputs": [
    {
     "name": "stdout",
     "output_type": "stream",
     "text": [
      "['medium' 'low' 'low' 'medium' 'high' 'medium' 'high' 'high' 'high' 'high']\n"
     ]
    }
   ],
   "source": [
    "#Predicting the final grade\n",
    "clf_pred_c = clf_c.predict(X_test_c)\n",
    "\n",
    "print(clf_pred_c[:10])"
   ]
  },
  {
   "cell_type": "code",
   "execution_count": 123,
   "id": "61e0a417-dc03-4cc9-a327-2811d2a7bad3",
   "metadata": {},
   "outputs": [
    {
     "name": "stdout",
     "output_type": "stream",
     "text": [
      "[[166   0   0]\n",
      " [  0 131   7]\n",
      " [  0   3  98]]\n"
     ]
    }
   ],
   "source": [
    "print(confusion_matrix(y_test_c, clf_pred_c))"
   ]
  },
  {
   "cell_type": "markdown",
   "id": "466aa479-04f2-48a4-81eb-e7a50ca9d0eb",
   "metadata": {},
   "source": [
    "From the confusion matrix, it was observed that the model:\n",
    "- Out of **166** high grades, the model could correctly predict them as high.\n",
    "- The model could predict correctly **135** low grades as low and wrongly predicted **5** as medium from **140** low grades.\n",
    "- From **99** medium grades, the model could correctly predict **96** as medium and wrongly predicted **3** as low."
   ]
  },
  {
   "cell_type": "code",
   "execution_count": 124,
   "id": "ea961bfa-11d1-4306-9f94-fe444a93dea9",
   "metadata": {},
   "outputs": [
    {
     "name": "stdout",
     "output_type": "stream",
     "text": [
      "              precision    recall  f1-score   support\n",
      "\n",
      "        high       1.00      1.00      1.00       166\n",
      "         low       0.98      0.95      0.96       138\n",
      "      medium       0.93      0.97      0.95       101\n",
      "\n",
      "    accuracy                           0.98       405\n",
      "   macro avg       0.97      0.97      0.97       405\n",
      "weighted avg       0.98      0.98      0.98       405\n",
      "\n"
     ]
    }
   ],
   "source": [
    "#printing the classification report\n",
    "print(classification_report(y_test_c, clf_pred_c))"
   ]
  },
  {
   "cell_type": "markdown",
   "id": "9d798289-48ff-469b-ad2e-8d276a226640",
   "metadata": {},
   "source": [
    "**The below highlights can be obtained from the Classification Report of the Combined-sampled data using Multi-Layer Perceptron Neural Network Model:**\n",
    "- **Precision :** The model is able to correctly predict **100%** of the student's performance with a high final grade(G3), **98%** for a low G3 and **93%** for a medium G3.\n",
    "- **Recall :** **100%** of the students performance grades with a high **G3** where correctly identified, **95%** for a low G3 and **97%** for a medium G3.\n",
    "- **F1-Score :** **100%** of positive predictions for a high final grade were correct, while **96%** for a low and **95%** for a medium G3 respectively.\n",
    "- The accuracy of the model stood at **98%**."
   ]
  },
  {
   "cell_type": "markdown",
   "id": "381824a0-b99e-4e34-af64-89f224adde1a",
   "metadata": {},
   "source": [
    "### C). Estimating the best parameter"
   ]
  },
  {
   "cell_type": "code",
   "execution_count": 125,
   "id": "432ad980-3a82-4237-8a21-9e1754ccf778",
   "metadata": {},
   "outputs": [],
   "source": [
    "from sklearn.model_selection import RandomizedSearchCV"
   ]
  },
  {
   "cell_type": "markdown",
   "id": "c912f2f0-99c4-4ccf-a503-f9a36f4d9d68",
   "metadata": {},
   "source": [
    "#### Support Vector Machine (Best Parameter)"
   ]
  },
  {
   "cell_type": "code",
   "execution_count": 126,
   "id": "3cf70c3a-f755-4c28-9ab0-a171911d46d2",
   "metadata": {},
   "outputs": [],
   "source": [
    "#Splitting the data\n",
    "X_train_e, X_test_e, y_train_e, y_test_e = train_test_split(X_class, y_class, test_size=0.2, random_state= 105)"
   ]
  },
  {
   "cell_type": "code",
   "execution_count": 127,
   "id": "133b2c2d-964d-43db-9ae6-a63968de4185",
   "metadata": {},
   "outputs": [],
   "source": [
    "#instantiate the model\n",
    "rsSVC = RandomizedSearchCV(SVC(gamma= 'auto', random_state= 110), {'C': [1, 5, 10, 15],\n",
    "                                                'kernel' : ['linear', 'poly', 'rbf', 'sigmoid']},\n",
    "                          cv= 5,\n",
    "                          return_train_score= False,\n",
    "                          n_iter= 5)"
   ]
  },
  {
   "cell_type": "code",
   "execution_count": 128,
   "id": "9ab2796f-b90f-4359-bf0d-0bed27800a45",
   "metadata": {},
   "outputs": [
    {
     "data": {
      "text/plain": [
       "RandomizedSearchCV(cv=5, estimator=SVC(gamma='auto', random_state=110),\n",
       "                   n_iter=5,\n",
       "                   param_distributions={'C': [1, 5, 10, 15],\n",
       "                                        'kernel': ['linear', 'poly', 'rbf',\n",
       "                                                   'sigmoid']})"
      ]
     },
     "execution_count": 128,
     "metadata": {},
     "output_type": "execute_result"
    }
   ],
   "source": [
    "#Training the optimized model\n",
    "rsSVC.fit(X_train_e, y_train_e)"
   ]
  },
  {
   "cell_type": "code",
   "execution_count": 129,
   "id": "a93117c6-972f-4b73-b21f-3b06a542147a",
   "metadata": {},
   "outputs": [
    {
     "data": {
      "text/plain": [
       "0.8862275449101796"
      ]
     },
     "execution_count": 129,
     "metadata": {},
     "output_type": "execute_result"
    }
   ],
   "source": [
    "#obtaining the best score\n",
    "rsSVC.best_score_"
   ]
  },
  {
   "cell_type": "code",
   "execution_count": 130,
   "id": "dd8cc4d0-d0cd-41b1-af34-0b5f922a9edf",
   "metadata": {},
   "outputs": [
    {
     "data": {
      "text/plain": [
       "{'kernel': 'linear', 'C': 1}"
      ]
     },
     "execution_count": 130,
     "metadata": {},
     "output_type": "execute_result"
    }
   ],
   "source": [
    "#obtianing the best parameters\n",
    "rsSVC.best_params_"
   ]
  },
  {
   "cell_type": "code",
   "execution_count": 154,
   "id": "cd296aec-e4c0-45c7-b53b-b2c9b0c56472",
   "metadata": {},
   "outputs": [],
   "source": [
    "#set the best parameters\n",
    "svm_e = SVC(kernel= 'linear', C= 1)"
   ]
  },
  {
   "cell_type": "code",
   "execution_count": 155,
   "id": "509b75fe-86a4-45bf-bb88-e472bf835b22",
   "metadata": {},
   "outputs": [
    {
     "data": {
      "text/plain": [
       "SVC(C=1, kernel='linear')"
      ]
     },
     "execution_count": 155,
     "metadata": {},
     "output_type": "execute_result"
    }
   ],
   "source": [
    "#re-train with the best parameter\n",
    "svm_e.fit(X_train_e, y_train_e)"
   ]
  },
  {
   "cell_type": "code",
   "execution_count": 156,
   "id": "d3d94d63-aa2a-4db4-bddc-216e05d07d43",
   "metadata": {},
   "outputs": [
    {
     "name": "stdout",
     "output_type": "stream",
     "text": [
      "['medium' 'medium' 'low' 'medium' 'medium' 'medium' 'low' 'medium' 'low'\n",
      " 'medium']\n"
     ]
    }
   ],
   "source": [
    "#predicting the final grade\n",
    "rssvm_pred = svm_e.predict(X_test_e)\n",
    "print(rssvm_pred[:10])"
   ]
  },
  {
   "cell_type": "code",
   "execution_count": 157,
   "id": "3bb4213b-9228-4491-912a-8aaca4d4d0db",
   "metadata": {},
   "outputs": [
    {
     "name": "stdout",
     "output_type": "stream",
     "text": [
      "[[  5   0   5]\n",
      " [  0  28   6]\n",
      " [  2   8 155]]\n"
     ]
    }
   ],
   "source": [
    "#print the confusion matrix\n",
    "print(confusion_matrix(y_test_e, rssvm_pred))"
   ]
  },
  {
   "cell_type": "markdown",
   "id": "f2d084b5-3736-4888-886a-b1198f3916fa",
   "metadata": {},
   "source": [
    "From the confusion matrix, it was observed that the model:\n",
    "- Out of **7** high grades, the model could correctly predict **5** as high and wrongly predicted **2** as medium.\n",
    "- The model could predict correctly **28** low grades as low and wrongly predicted **8** as medium from **36** low grades.\n",
    "- From **166** medium grades, the model could correctly predict them as **155** medium grades and wrongly predicted **6** as low and **5** as high grades."
   ]
  },
  {
   "cell_type": "code",
   "execution_count": 135,
   "id": "7a524403-3d8e-48a6-865e-0535e129544b",
   "metadata": {},
   "outputs": [
    {
     "name": "stdout",
     "output_type": "stream",
     "text": [
      "Classification Report using Best Parameter(SVC)\n",
      "              precision    recall  f1-score   support\n",
      "\n",
      "        high       0.80      0.40      0.53        10\n",
      "         low       0.78      0.82      0.80        34\n",
      "      medium       0.93      0.95      0.94       165\n",
      "\n",
      "    accuracy                           0.90       209\n",
      "   macro avg       0.84      0.72      0.76       209\n",
      "weighted avg       0.90      0.90      0.90       209\n",
      "\n"
     ]
    }
   ],
   "source": [
    "#Gets the classification report using the best parameter for SVC\n",
    "print(\"Classification Report using Best Parameter(SVC)\")\n",
    "print(classification_report(y_test_e, rssvm_pred))"
   ]
  },
  {
   "cell_type": "markdown",
   "id": "12231832-fa59-44a2-a824-1060a355b77a",
   "metadata": {},
   "source": [
    "##### **The below highlights can be obtained from the Classification Report of the optimized parameter using Support Vector Machine Model:**\n",
    "- **Precision :** The model is able to correctly predict **80%** of the student's performance with a high final grade(G3), **78%** for a low G3 and **93%** for a medium G3.\n",
    "- **Recall :** **40%** of the students performance grades with a high **G3** where correctly identified, **82%** for a low G3 and **95%** for a medium G3.\n",
    "- **F1-Score :** **53%** of positive predictions for a high final grade were correct, while **80%** for a low and **94%** for a medium G3 respectively.\n",
    "- The accuracy of the model stood at **90%**."
   ]
  },
  {
   "cell_type": "markdown",
   "id": "65267b8c-b99a-414c-8675-7df1bbb21245",
   "metadata": {},
   "source": [
    "#### Random Forest Classifier(Best Parameter)"
   ]
  },
  {
   "cell_type": "code",
   "execution_count": 136,
   "id": "88b1f6d1-6adc-4963-ac38-e5319d1a3769",
   "metadata": {},
   "outputs": [],
   "source": [
    "#instantiate the model\n",
    "rsRFC = RandomizedSearchCV(RandomForestClassifier(random_state= 110), \n",
    "                            {'bootstrap': [True, False],'criterion' : ['gini', 'entropy'],\n",
    "                             'max_features': ['auto', 'sqrt', 'log2'],'n_estimators': [100,200, 500, 800, 1000]}, \n",
    "                           cv= 5, return_train_score= False, n_iter= 5)"
   ]
  },
  {
   "cell_type": "code",
   "execution_count": 137,
   "id": "83996036-6a4e-4eb0-a13f-9c232ae7dc3e",
   "metadata": {},
   "outputs": [
    {
     "data": {
      "text/plain": [
       "RandomizedSearchCV(cv=5, estimator=RandomForestClassifier(random_state=110),\n",
       "                   n_iter=5,\n",
       "                   param_distributions={'bootstrap': [True, False],\n",
       "                                        'criterion': ['gini', 'entropy'],\n",
       "                                        'max_features': ['auto', 'sqrt',\n",
       "                                                         'log2'],\n",
       "                                        'n_estimators': [100, 200, 500, 800,\n",
       "                                                         1000]})"
      ]
     },
     "execution_count": 137,
     "metadata": {},
     "output_type": "execute_result"
    }
   ],
   "source": [
    "#Training the model\n",
    "rsRFC.fit(X_train_e, y_train_e)"
   ]
  },
  {
   "cell_type": "code",
   "execution_count": 138,
   "id": "0cb0d912-1fbf-4a22-be88-618c73cd88dd",
   "metadata": {},
   "outputs": [
    {
     "data": {
      "text/plain": [
       "0.8934131736526947"
      ]
     },
     "execution_count": 138,
     "metadata": {},
     "output_type": "execute_result"
    }
   ],
   "source": [
    "#obtaining the best score\n",
    "rsRFC.best_score_"
   ]
  },
  {
   "cell_type": "code",
   "execution_count": 139,
   "id": "2e4a2c82-5580-43b6-aa77-b835a8d8a17c",
   "metadata": {},
   "outputs": [
    {
     "data": {
      "text/plain": [
       "{'n_estimators': 1000,\n",
       " 'max_features': 'auto',\n",
       " 'criterion': 'entropy',\n",
       " 'bootstrap': True}"
      ]
     },
     "execution_count": 139,
     "metadata": {},
     "output_type": "execute_result"
    }
   ],
   "source": [
    "#obtianing the best parameters\n",
    "rsRFC.best_params_"
   ]
  },
  {
   "cell_type": "code",
   "execution_count": 158,
   "id": "10bd6925-80eb-4474-b015-558b4788da4d",
   "metadata": {},
   "outputs": [],
   "source": [
    "#set the best parameters\n",
    "rfc_e = RandomForestClassifier(n_estimators= 1000, max_features= 'auto', criterion = 'entropy', bootstrap= True)"
   ]
  },
  {
   "cell_type": "code",
   "execution_count": 159,
   "id": "9f059a43-6401-4785-a95e-d4e4169af1de",
   "metadata": {},
   "outputs": [
    {
     "data": {
      "text/plain": [
       "RandomForestClassifier(criterion='entropy', n_estimators=1000)"
      ]
     },
     "execution_count": 159,
     "metadata": {},
     "output_type": "execute_result"
    }
   ],
   "source": [
    "#re-train with the best parameter\n",
    "rfc_e.fit(X_train_e, y_train_e)"
   ]
  },
  {
   "cell_type": "code",
   "execution_count": 142,
   "id": "ea034f54-882e-42aa-aede-fc0bbec3c204",
   "metadata": {},
   "outputs": [
    {
     "name": "stdout",
     "output_type": "stream",
     "text": [
      "['medium' 'medium' 'low' 'medium' 'medium' 'medium' 'low' 'medium' 'low'\n",
      " 'medium']\n"
     ]
    }
   ],
   "source": [
    "#predicting the final grade\n",
    "rsrfc_pred = rfc_e.predict(X_test_e)\n",
    "print(rsrfc_pred[:10])"
   ]
  },
  {
   "cell_type": "code",
   "execution_count": 160,
   "id": "2a627bae-2082-437f-89ea-4729f09734f5",
   "metadata": {},
   "outputs": [
    {
     "name": "stdout",
     "output_type": "stream",
     "text": [
      "[[  3   0   7]\n",
      " [  0  28   6]\n",
      " [  0   8 157]]\n"
     ]
    }
   ],
   "source": [
    "#print the confusion matrix\n",
    "print(confusion_matrix(y_test_e, rsrfc_pred))"
   ]
  },
  {
   "cell_type": "markdown",
   "id": "0def276c-7530-4d86-9817-cabb79aa0575",
   "metadata": {},
   "source": [
    "From the confusion matrix, it was observed that the model:\n",
    "- Out of **3** high grades, the model could correctly predict them as high.\n",
    "- The model could predict correctly **28** low grades as low and wrongly predicted **8** as medium from **36** low grades.\n",
    "- From **170** medium grades, the model could correctly predict them as **157** medium grades and wrongly predicted **6** as low and wrongly predicted **7** as high."
   ]
  },
  {
   "cell_type": "code",
   "execution_count": 144,
   "id": "8e04fcbe-5b3b-4329-b394-dd00954806e0",
   "metadata": {},
   "outputs": [
    {
     "name": "stdout",
     "output_type": "stream",
     "text": [
      "Classification Report using Best Parameter(RFC)\n",
      "              precision    recall  f1-score   support\n",
      "\n",
      "        high       1.00      0.30      0.46        10\n",
      "         low       0.78      0.82      0.80        34\n",
      "      medium       0.92      0.95      0.94       165\n",
      "\n",
      "    accuracy                           0.90       209\n",
      "   macro avg       0.90      0.69      0.73       209\n",
      "weighted avg       0.90      0.90      0.89       209\n",
      "\n"
     ]
    }
   ],
   "source": [
    "#Gets the classification report using the best parameter for RFC\n",
    "print(\"Classification Report using Best Parameter(RFC)\")\n",
    "print(classification_report(y_test_e, rsrfc_pred))"
   ]
  },
  {
   "cell_type": "markdown",
   "id": "3d75d4d9-28de-4039-9aac-b4daa8d018c4",
   "metadata": {},
   "source": [
    "**The below highlights can be obtained from the Classification Report of the optimized parameter using Random Forest Classifier Model:**\n",
    "- **Precision :** The model is able to correctly predict **100%** of the student's performance with a high final grade(G3), **78%** for a low G3 and **92%** for a medium G3.\n",
    "- **Recall :** **30%** of the students performance grades with a high **G3** where correctly identified, **82%** for a low G3 and **95%** for a medium G3.\n",
    "- **F1-Score :** **46%** of positive predictions for a high final grade were correct, while **80%** for a low and **94%** for a medium G3 respectively.\n",
    "- The accuracy of the model stood at **90%**."
   ]
  },
  {
   "cell_type": "markdown",
   "id": "7f97420c-3106-4ed0-ac8b-b602378fb54a",
   "metadata": {},
   "source": [
    "#### Multi-layer Perceptron Neural Networks (Best Parameter)"
   ]
  },
  {
   "cell_type": "code",
   "execution_count": 163,
   "id": "a917c1a8-ccec-4b91-b022-ba5400e2ac6f",
   "metadata": {},
   "outputs": [],
   "source": [
    "#instantiate the model\n",
    "rsMLP = RandomizedSearchCV(MLPClassifier(max_iter = 1800), {'solver' : ['sgd' , 'adam'],\n",
    "                                             'learning_rate' : ['constant', 'adaptive'],\n",
    "                                            'activation' : ['identity', 'logistic', 'tanh', 'relu'],\n",
    "                                                           'hidden_layer_sizes': [(50,50,50), (100,100,100), (150,100,150),(100,)]},\n",
    "                          cv= 5, return_train_score= False)"
   ]
  },
  {
   "cell_type": "code",
   "execution_count": 164,
   "id": "94009c93",
   "metadata": {},
   "outputs": [
    {
     "data": {
      "text/plain": [
       "RandomizedSearchCV(cv=5, estimator=MLPClassifier(max_iter=1800),\n",
       "                   param_distributions={'activation': ['identity', 'logistic',\n",
       "                                                       'tanh', 'relu'],\n",
       "                                        'hidden_layer_sizes': [(50, 50, 50),\n",
       "                                                               (100, 100, 100),\n",
       "                                                               (150, 100, 150),\n",
       "                                                               (100,)],\n",
       "                                        'learning_rate': ['constant',\n",
       "                                                          'adaptive'],\n",
       "                                        'solver': ['sgd', 'adam']})"
      ]
     },
     "execution_count": 164,
     "metadata": {},
     "output_type": "execute_result"
    }
   ],
   "source": [
    "#Training the model\n",
    "rsMLP.fit(X_train_e, y_train_e)"
   ]
  },
  {
   "cell_type": "code",
   "execution_count": 165,
   "id": "67dbda34-6733-4fe9-8863-eb5c8147bf69",
   "metadata": {},
   "outputs": [
    {
     "data": {
      "text/plain": [
       "0.8922155688622755"
      ]
     },
     "execution_count": 165,
     "metadata": {},
     "output_type": "execute_result"
    }
   ],
   "source": [
    "#obtaining the best score\n",
    "rsMLP.best_score_"
   ]
  },
  {
   "cell_type": "code",
   "execution_count": 166,
   "id": "2f616ce2-6ac1-4b28-b0a5-70a815e7dc0a",
   "metadata": {},
   "outputs": [
    {
     "data": {
      "text/plain": [
       "{'solver': 'sgd',\n",
       " 'learning_rate': 'constant',\n",
       " 'hidden_layer_sizes': (50, 50, 50),\n",
       " 'activation': 'identity'}"
      ]
     },
     "execution_count": 166,
     "metadata": {},
     "output_type": "execute_result"
    }
   ],
   "source": [
    "#obtianing the best parameters\n",
    "rsMLP.best_params_"
   ]
  },
  {
   "cell_type": "code",
   "execution_count": 167,
   "id": "7db2dd94-3faf-4bc1-9dcd-d557cd5fab0e",
   "metadata": {},
   "outputs": [],
   "source": [
    "#set the best parameters\n",
    "clf_e = MLPClassifier(solver = 'sgd', learning_rate = 'constant', \n",
    "                      activation = 'identity', hidden_layer_sizes = (50, 50, 50))"
   ]
  },
  {
   "cell_type": "code",
   "execution_count": 168,
   "id": "3f718b7f-fd56-426d-adfc-e9897180a8c3",
   "metadata": {},
   "outputs": [
    {
     "data": {
      "text/plain": [
       "MLPClassifier(activation='identity', hidden_layer_sizes=(50, 50, 50),\n",
       "              solver='sgd')"
      ]
     },
     "execution_count": 168,
     "metadata": {},
     "output_type": "execute_result"
    }
   ],
   "source": [
    "#re-train with the best parameter\n",
    "clf_e.fit(X_train_e, y_train_e)"
   ]
  },
  {
   "cell_type": "code",
   "execution_count": 169,
   "id": "50ed2ddd-6c59-49b9-9c9e-bfc8fd8919f9",
   "metadata": {},
   "outputs": [
    {
     "name": "stdout",
     "output_type": "stream",
     "text": [
      "['medium' 'medium' 'low' 'medium' 'medium' 'medium' 'low' 'medium'\n",
      " 'medium' 'medium']\n"
     ]
    }
   ],
   "source": [
    "#predicting the final grade\n",
    "rsclf_pred = clf_e.predict(X_test_e)\n",
    "print(rsclf_pred[:10])"
   ]
  },
  {
   "cell_type": "code",
   "execution_count": 170,
   "id": "39de13d4-27dc-4fce-ba64-83808f28b0a0",
   "metadata": {},
   "outputs": [
    {
     "name": "stdout",
     "output_type": "stream",
     "text": [
      "[[  3   0   7]\n",
      " [  0  25   9]\n",
      " [  3  10 152]]\n"
     ]
    }
   ],
   "source": [
    "#print the confusion matrix\n",
    "print(confusion_matrix(y_test_e, rsclf_pred))"
   ]
  },
  {
   "cell_type": "markdown",
   "id": "a35ed014-5f29-46a4-925c-5fd1af043a16",
   "metadata": {},
   "source": [
    "From the confusion matrix, it was observed that the model:\n",
    "- Out of **6** high grades, the model could correctly predict **3** as high and wrongly predicted **3** as medium.\n",
    "- The model could predict correctly **25** low grades as low and wrongly predicted **10** as medium from **35** low grades.\n",
    "- From **168** medium grades, the model could correctly predict them as **152** medium grades and wrongly predicted **9** as low and wrongly predicted **7** as high."
   ]
  },
  {
   "cell_type": "code",
   "execution_count": 153,
   "id": "61733b30-a4bb-476a-bedb-62b418b9c112",
   "metadata": {},
   "outputs": [
    {
     "name": "stdout",
     "output_type": "stream",
     "text": [
      "Classification Report using Best Parameter(MLP)\n",
      "              precision    recall  f1-score   support\n",
      "\n",
      "        high       1.00      0.20      0.33        10\n",
      "         low       0.77      0.79      0.78        34\n",
      "      medium       0.91      0.95      0.93       165\n",
      "\n",
      "    accuracy                           0.89       209\n",
      "   macro avg       0.89      0.65      0.68       209\n",
      "weighted avg       0.89      0.89      0.88       209\n",
      "\n"
     ]
    }
   ],
   "source": [
    "#Gets the classification report using the best parameter for MLP\n",
    "print(\"Classification Report using Best Parameter(MLP)\")\n",
    "print(classification_report(y_test_e, rsclf_pred))"
   ]
  },
  {
   "cell_type": "markdown",
   "id": "1cb966b2-e8ec-4899-9f70-b74092948c85",
   "metadata": {},
   "source": [
    "**The below highlights can be obtained from the Classification Report of the optimized parameter using Multi-Layer Perceptron Neural Network Model:**\n",
    "- **Precision :** The model is able to correctly predict **100%** of the student's performance with a high final grade(G3), **77%** for a low G3 and **91%** for a medium G3.\n",
    "- **Recall :** **20%** of the students performance grades with a high **G3** where correctly identified, **79%** for a low G3 and **95%** for a medium G3.\n",
    "- **F1-Score :** **33%** of positive predictions for a high final grade were correct, while **78%** for a low and **93%** for a medium G3 respectively.\n",
    "- The accuracy of the model stood at **89%**."
   ]
  },
  {
   "cell_type": "code",
   "execution_count": null,
   "id": "2486a986",
   "metadata": {},
   "outputs": [],
   "source": []
  }
 ],
 "metadata": {
  "kernelspec": {
   "display_name": "Python 3 (ipykernel)",
   "language": "python",
   "name": "python3"
  },
  "language_info": {
   "codemirror_mode": {
    "name": "ipython",
    "version": 3
   },
   "file_extension": ".py",
   "mimetype": "text/x-python",
   "name": "python",
   "nbconvert_exporter": "python",
   "pygments_lexer": "ipython3",
   "version": "3.9.7"
  }
 },
 "nbformat": 4,
 "nbformat_minor": 5
}
